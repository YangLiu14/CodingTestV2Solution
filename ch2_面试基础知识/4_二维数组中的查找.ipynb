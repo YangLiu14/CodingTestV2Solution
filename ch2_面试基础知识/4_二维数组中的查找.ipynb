{
 "cells": [
  {
   "cell_type": "markdown",
   "metadata": {},
   "source": [
    "## 4. 二维数组中的查找\n",
    "在一个二维数组中，每一行都按照**从左到右递增**的顺序排序，每一列都按照**从上到下递增**的顺序排序。请完成一个函数，输入这样一个二维数组和一个整数，判断数组中是否含有该整数。\n",
    "\n",
    "例如下面的数组中查找数字7，则返回`true`，如果查找数字5，则返回`false`\n",
    "```\n",
    "1  2  8  9\n",
    "2  4  9  12\n",
    "4  7  10 13\n",
    "6  8  11 15\n",
    "```"
   ]
  },
  {
   "cell_type": "code",
   "execution_count": 1,
   "metadata": {
    "collapsed": true
   },
   "outputs": [],
   "source": []
  },
  {
   "cell_type": "markdown",
   "metadata": {},
   "source": [
    "在函数`PowerUnsignedExponent`中，\n",
    "\n",
    "- 用了**递归**和如下公式来计算次方，比循环的复杂度小：\n",
    "\n",
    "$$ a^n=\\left\\{\n",
    "\\begin{array}{rcl}\n",
    "a^{n/2} \\cdot a^{n/2}                    &      & {n为偶数}\\\\\n",
    "a^{(n-1)/2} \\cdot a^{(n-1)/2} \\cdot a    &      & {n为奇数}\n",
    "\\end{array} \\right. $$\n",
    "\n",
    "\n",
    " - 用位运算`>>`进行*除以2*\n",
    " - 用位运算`&0x01`检查某个int是否能整除2"
   ]
  },
  {
   "cell_type": "code",
   "execution_count": 2,
   "metadata": {},
   "outputs": [
    {
     "data": {
      "text/plain": [
       "8"
      ]
     },
     "execution_count": 2,
     "metadata": {},
     "output_type": "execute_result"
    }
   ],
   "source": [
    "\n"
   ]
  },
  {
   "cell_type": "code",
   "execution_count": 3,
   "metadata": {},
   "outputs": [
    {
     "data": {
      "text/plain": [
       "0.1111111111111111"
      ]
     },
     "execution_count": 3,
     "metadata": {},
     "output_type": "execute_result"
    }
   ],
   "source": []
  },
  {
   "cell_type": "code",
   "execution_count": 4,
   "metadata": {},
   "outputs": [
    {
     "data": {
      "text/plain": [
       "0.0625"
      ]
     },
     "execution_count": 4,
     "metadata": {},
     "output_type": "execute_result"
    }
   ],
   "source": []
  }
 ],
 "metadata": {
  "kernelspec": {
   "display_name": "Python 3",
   "language": "python",
   "name": "python3"
  },
  "language_info": {
   "codemirror_mode": {
    "name": "ipython",
    "version": 3
   },
   "file_extension": ".py",
   "mimetype": "text/x-python",
   "name": "python",
   "nbconvert_exporter": "python",
   "pygments_lexer": "ipython3",
   "version": "3.7.3"
  }
 },
 "nbformat": 4,
 "nbformat_minor": 2
}
