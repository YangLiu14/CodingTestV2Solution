{
 "cells": [
  {
   "cell_type": "markdown",
   "metadata": {},
   "source": [
    "## 17. 打印从1到最大的n位数\n",
    "输入数字n，按顺序打印从1到最大的n位十进制数。比如输入3，则打印出1，2，3...999。\n",
    "\n",
    "* Pitfall：当n特别大的时候，大到用int或者long long来表示都会溢出，最好的办法是用数组或者字符串来表示大数"
   ]
  },
  {
   "cell_type": "markdown",
   "metadata": {},
   "source": [
    "### 用数组表示大数的思路\n",
    "想要表示n位所有的十进制数，也就是把数字的每一位从0到9的全部排列一遍（对于小于n位的数字，在前面补0）。\n",
    "\n",
    "而全排列可以很方便地用*递归*表达：从数字的第一位开始，这一位可以是0～9中任何一个数，设置好了第一位再设置第二位...以此类推。"
   ]
  },
  {
   "cell_type": "code",
   "execution_count": 1,
   "metadata": {
    "collapsed": true
   },
   "outputs": [],
   "source": [
    "def PrintToMaxOfNDigits(n):\n",
    "    # Check for invalid input\n",
    "    if n <= 0:\n",
    "        return\n",
    "    \n",
    "    number = [0]*n\n",
    "    for i in range(10):\n",
    "        number[0] = i\n",
    "        PrintToMaxOfNDigitsRecursively(number, n, 0)\n",
    "    \n",
    "    \n",
    "def PrintToMaxOfNDigitsRecursively(number, length, index):\n",
    "    if index == length - 1:\n",
    "        PrintNumber(number)\n",
    "        return\n",
    "    \n",
    "    for i in range(10):\n",
    "        number[index + 1] = i\n",
    "        PrintToMaxOfNDigitsRecursively(number, length, index + 1)\n",
    "        \n",
    "        \n",
    "def PrintNumber(number):\n",
    "    \"\"\"\n",
    "    Cut the preceding '0's before any non-zero element in a list, and output a number.\n",
    "    E.g. [0, 0, 9, 0, 8] --> 908\n",
    "    :param number: list\n",
    "    :return: int\n",
    "    \"\"\"\n",
    "    start_printing = False\n",
    "    for i in range(len(number)):\n",
    "        if number[i] !=0:\n",
    "            start_printing = True\n",
    "            \n",
    "        if number[i] == 0 and not start_printing:\n",
    "            pass\n",
    "        else:\n",
    "            print(number[i], end=\"\")\n",
    "    print(\"\")"
   ]
  },
  {
   "cell_type": "code",
   "execution_count": 2,
   "metadata": {},
   "outputs": [
    {
     "name": "stdout",
     "output_type": "stream",
     "text": [
      "98\n",
      "9008\n",
      "1209008\n"
     ]
    }
   ],
   "source": [
    "# Unit Test\n",
    "PrintNumber([0,0,9,8])\n",
    "PrintNumber([0,0,0,9,0,0,8])\n",
    "PrintNumber([1,2,0,9,0,0,8])\n"
   ]
  },
  {
   "cell_type": "code",
   "execution_count": 5,
   "metadata": {
    "collapsed": true
   },
   "outputs": [],
   "source": [
    "PrintToMaxOfNDigits(-1)"
   ]
  },
  {
   "cell_type": "code",
   "execution_count": 3,
   "metadata": {
    "scrolled": false
   },
   "outputs": [
    {
     "name": "stdout",
     "output_type": "stream",
     "text": [
      "\n",
      "1\n",
      "2\n",
      "3\n",
      "4\n",
      "5\n",
      "6\n",
      "7\n",
      "8\n",
      "9\n",
      "10\n",
      "11\n",
      "12\n",
      "13\n",
      "14\n",
      "15\n",
      "16\n",
      "17\n",
      "18\n",
      "19\n",
      "20\n",
      "21\n",
      "22\n",
      "23\n",
      "24\n",
      "25\n",
      "26\n",
      "27\n",
      "28\n",
      "29\n",
      "30\n",
      "31\n",
      "32\n",
      "33\n",
      "34\n",
      "35\n",
      "36\n",
      "37\n",
      "38\n",
      "39\n",
      "40\n",
      "41\n",
      "42\n",
      "43\n",
      "44\n",
      "45\n",
      "46\n",
      "47\n",
      "48\n",
      "49\n",
      "50\n",
      "51\n",
      "52\n",
      "53\n",
      "54\n",
      "55\n",
      "56\n",
      "57\n",
      "58\n",
      "59\n",
      "60\n",
      "61\n",
      "62\n",
      "63\n",
      "64\n",
      "65\n",
      "66\n",
      "67\n",
      "68\n",
      "69\n",
      "70\n",
      "71\n",
      "72\n",
      "73\n",
      "74\n",
      "75\n",
      "76\n",
      "77\n",
      "78\n",
      "79\n",
      "80\n",
      "81\n",
      "82\n",
      "83\n",
      "84\n",
      "85\n",
      "86\n",
      "87\n",
      "88\n",
      "89\n",
      "90\n",
      "91\n",
      "92\n",
      "93\n",
      "94\n",
      "95\n",
      "96\n",
      "97\n",
      "98\n",
      "99\n"
     ]
    }
   ],
   "source": [
    "PrintToMaxOfNDigits(2)"
   ]
  },
  {
   "cell_type": "markdown",
   "metadata": {},
   "source": [
    "### 扩展\n",
    "实现任意两个大数的加法"
   ]
  }
 ],
 "metadata": {
  "kernelspec": {
   "display_name": "Python 3",
   "language": "python",
   "name": "python3"
  },
  "language_info": {
   "codemirror_mode": {
    "name": "ipython",
    "version": 3
   },
   "file_extension": ".py",
   "mimetype": "text/x-python",
   "name": "python",
   "nbconvert_exporter": "python",
   "pygments_lexer": "ipython3",
   "version": "3.7.3"
  }
 },
 "nbformat": 4,
 "nbformat_minor": 2
}
