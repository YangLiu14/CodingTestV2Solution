{
 "cells": [
  {
   "cell_type": "markdown",
   "metadata": {},
   "source": [
    "## 21.使奇数位于偶数前\n",
    "\n",
    "输入一个整数数组，实现一个函数来调整该数组中数字的顺序，使得所有的奇数位于数组的前半部分，所有的偶数位于数组的后半部分，并保证奇数和奇数，偶数和偶数之间的相对位置不变\n",
    "\n",
    "### 分析\n",
    "这题用Python解有点耍赖的性质，因为Python里合并两个数组很简单，所以只要创建两个空数组，一个用来存放奇数一个用来存放偶数，最后再合并二者即可。"
   ]
  },
  {
   "cell_type": "code",
   "execution_count": 1,
   "metadata": {
    "collapsed": true
   },
   "outputs": [],
   "source": [
    "def re_order_array(array):\n",
    "    odd_numbers = []\n",
    "    even_numbers = []\n",
    "    for i in array:\n",
    "        if i & 0x1 == 1:\n",
    "            # odd number\n",
    "            odd_numbers.append(i)\n",
    "        else:\n",
    "            even_numbers.append(i)\n",
    "    new_array = odd_numbers + even_numbers\n",
    "    return new_array"
   ]
  },
  {
   "cell_type": "code",
   "execution_count": 2,
   "metadata": {},
   "outputs": [
    {
     "name": "stdout",
     "output_type": "stream",
     "text": [
      "Input:  [1, 2, 3, 4, 5, 6, 7]\n",
      "Output: [1, 3, 5, 7, 2, 4, 6]\n"
     ]
    }
   ],
   "source": [
    "test1 = [1, 2, 3, 4, 5, 6, 7]\n",
    "print(\"Input:  {}\".format(test1))\n",
    "print(\"Output: {}\".format(re_order_array(test1)))"
   ]
  },
  {
   "cell_type": "markdown",
   "metadata": {
    "collapsed": true
   },
   "source": [
    "### 书中的解法\n",
    "如果希望像书中一样，直接在原数组上进行操作，则可以定义两个指针（Python这里就暂时用index代替指针的概念了），第一指向第一个数字，另一个指向末尾的数字，两两比较，看是否需要交换位置。\n",
    "<img src=\"images/img21.png\" style=\"width: 400px;\"/>\n",
    "不过这种方法的瑕疵是，数组里的元素经过交换过无法保持他们原来的相对顺序"
   ]
  },
  {
   "cell_type": "code",
   "execution_count": 7,
   "metadata": {
    "collapsed": true
   },
   "outputs": [],
   "source": [
    "def re_order_even(array):\n",
    "    if len(array) == 0:\n",
    "        return\n",
    "    \n",
    "    p_begin = 0\n",
    "    p_end = len(array) - 1\n",
    "    \n",
    "    while p_begin < p_end:\n",
    "        # move p_begin to the next number, until it points at an even number:\n",
    "        while p_begin < p_end and array[p_begin] & 0x1 != 0:\n",
    "            p_begin += 1\n",
    "        \n",
    "        # move p_end to the previous number, until it points at an odd number:\n",
    "        while p_begin < p_end and array[p_end] & 0x1 == 0:\n",
    "            p_end -= 1\n",
    "        \n",
    "        # swap\n",
    "        if p_begin < p_end:\n",
    "            temp = array[p_begin]\n",
    "            array[p_begin] = array[p_end]\n",
    "            array[p_end] = temp\n",
    "    \n",
    "    return array"
   ]
  },
  {
   "cell_type": "code",
   "execution_count": 8,
   "metadata": {},
   "outputs": [
    {
     "name": "stdout",
     "output_type": "stream",
     "text": [
      "Input:  [1, 2, 3, 4, 5, 6, 7]\n",
      "Output: [1, 7, 3, 5, 4, 6, 2]\n"
     ]
    }
   ],
   "source": [
    "print(\"Input:  {}\".format(test1))\n",
    "print(\"Output: {}\".format(re_order_even(test1)))"
   ]
  },
  {
   "cell_type": "markdown",
   "metadata": {},
   "source": [
    "### 扩展\n",
    "如果把题目改成：\n",
    "\n",
    "1. 把数组中的数按照大小分为两部分，所有的负数都在非负数前面。\n",
    "2. 把数组分为两部分，能被3整数的放前面，不能被3整数的放后面。\n",
    "\n",
    "#### 思路\n",
    "- 在我的耍赖解法里，还是可以用两个数组分别存储的方法解决。\n",
    "- 书中的解法里，只要改变`while`中的判断条件即可。\n",
    "\n",
    "对于更多的类似变化，只需要保持框架不变，加一个判断函数，对于不同的分组条件修改判断函数即可。"
   ]
  },
  {
   "cell_type": "code",
   "execution_count": null,
   "metadata": {
    "collapsed": true
   },
   "outputs": [],
   "source": []
  }
 ],
 "metadata": {
  "kernelspec": {
   "display_name": "Python 3",
   "language": "python",
   "name": "python3"
  },
  "language_info": {
   "codemirror_mode": {
    "name": "ipython",
    "version": 3
   },
   "file_extension": ".py",
   "mimetype": "text/x-python",
   "name": "python",
   "nbconvert_exporter": "python",
   "pygments_lexer": "ipython3",
   "version": "3.7.3"
  }
 },
 "nbformat": 4,
 "nbformat_minor": 2
}
