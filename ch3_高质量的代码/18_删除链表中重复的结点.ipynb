{
 "cells": [
  {
   "cell_type": "markdown",
   "metadata": {},
   "source": [
    "## 18. 删除链表中重复的结点\n",
    "题目一：在O(1)时间内删除链表节点。\n",
    "\n",
    "给定单向链表的头指针和一个节点指针，定义一个函数在O(1)时间内删除该节点。\n",
    "\n",
    "#### 分析：\n",
    "- 常规做法是从头节点开始遍历直到找到要删除的节点，但是复杂度为O(n)。\n",
    "\n",
    "- 换一个思路，可以把目标节点的**下一个节点的内容**复制到目标节点上，再删除下一个节点。但是要注意目标节点已经是**尾节点**的情况。此时只能用遍历链表的老方法解决问题。\n",
    "\n",
    "- 最后一个要注意的点：当整个链表只有一个节点时，直接删除节点然后把链表的头节点设成`None`(`nullptr` in C++)\n"
   ]
  },
  {
   "cell_type": "code",
   "execution_count": 1,
   "metadata": {},
   "outputs": [],
   "source": [
    "class ListNode:\n",
    "    def __init__(self, x):\n",
    "        self.val = x\n",
    "        self.next = None"
   ]
  },
  {
   "cell_type": "code",
   "execution_count": 2,
   "metadata": {},
   "outputs": [],
   "source": [
    "def deleteNode(head, node_to_delete):\n",
    "    \"\"\"\n",
    "    Delete a node from a linked-list.\n",
    "    \n",
    "    :param head:           ListNode \n",
    "    :param node_to_delete: ListNode\n",
    "    \"\"\"\n",
    "    # Check for correctness of the input\n",
    "    if head is None or node_to_delete is None:\n",
    "        return\n",
    "    \n",
    "    # Normal case： the node_to_delete is NOT the last node. O(1)\n",
    "    if node_to_delete.next is not None:\n",
    "        p_next = node_to_delete.next\n",
    "        # copy all the content of the next node into node_to_delete\n",
    "        node_to_delete.val = p_next.val\n",
    "        node_to_delete.next = p_next.next\n",
    "        \n",
    "        # Now the node_to_delete becomes the new p_next,\n",
    "        # so we need to delete the old p_next\n",
    "        del p_next\n",
    "        \n",
    "    # Special case: the linked-list only has one node.  O(1)\n",
    "    elif head.next is None:\n",
    "        assert head.val == node_to_delete.val\n",
    "        assert node_to_delete.next is None\n",
    "        head = None\n",
    "        \n",
    "    # Special case: the node_to_delete is the last node. O(n)\n",
    "    else:\n",
    "        p_node = head\n",
    "        while(p_node.next != node_to_delete):\n",
    "            p_node = p_node.next\n",
    "        p_node.next = None"
   ]
  },
  {
   "cell_type": "markdown",
   "metadata": {},
   "source": [
    "### 复杂度分析\n",
    "对于n-1个非尾节点而言，我们可以在$O(1)$的时间内把要`删除的节点`用`下一个节点`的内容覆盖掉，并删除下一个节点。\n",
    "\n",
    "对于尾节点: $O(n)$\n",
    "\n",
    "总的平均时间复杂度是 $[(n-1) \\cdot O(1) + O(n)] / n$，所以结果还是$O(1)$"
   ]
  },
  {
   "cell_type": "code",
   "execution_count": 2,
   "metadata": {},
   "outputs": [
    {
     "name": "stdout",
     "output_type": "stream",
     "text": [
      "98\n",
      "9008\n",
      "1209008\n"
     ]
    }
   ],
   "source": [
    "# Unit Test\n",
    "PrintNumber([0,0,9,8])\n",
    "PrintNumber([0,0,0,9,0,0,8])\n",
    "PrintNumber([1,2,0,9,0,0,8])\n"
   ]
  }
 ],
 "metadata": {
  "kernelspec": {
   "display_name": "Python 3",
   "language": "python",
   "name": "python3"
  },
  "language_info": {
   "codemirror_mode": {
    "name": "ipython",
    "version": 3
   },
   "file_extension": ".py",
   "mimetype": "text/x-python",
   "name": "python",
   "nbconvert_exporter": "python",
   "pygments_lexer": "ipython3",
   "version": "3.7.2"
  }
 },
 "nbformat": 4,
 "nbformat_minor": 2
}
