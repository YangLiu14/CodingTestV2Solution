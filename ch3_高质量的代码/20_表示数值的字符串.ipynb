{
 "cells": [
  {
   "cell_type": "markdown",
   "metadata": {},
   "source": [
    "## 20. 表示数值的字符串\n",
    "\n",
    "请实现一个函数用来判断字符串是否表示数值（包括整数和小数）。例如，字符串\"+100\",\"5e2\",\"-123\",\"3.1416\"和\"-1E-16\"都表示数值。 但是\"12e\",\"1a3.14\",\"1.2.3\",\"+-5\"和\"12e+4.3\"都不是。\n",
    "\n",
    "### 分析\n",
    "表示数值的字符串遵循模式`A[.[B]][e|E C]`或者`.B[e|E C]`。此题目中用`.123`表示`0.123`是可行的（虽然没有说出来）。\n",
    "\n",
    "A和C都是可能以`+`或者`-`开头的0～9的数位串。B也是0～9的数位串但是不能有正负号。\n",
    "\n",
    "如何判断一个字符串是否符合上述规律？\n",
    "1. A整数部分：先考虑正负号的情况，然后遍历字符串中每一个char，判断是否为int，如果遇到`'.'`或者`'e'`,`'E'`就停止。\n",
    "2. B小数部分：从`'.'`开始往后遍历每一个char，判断是否为int，遇到`'e'`,`'E'`则停止\n",
    "3. C指数部分：从`'e'`或`'E'`，则开始扫描指数C的部分，判断每个char是否为整数"
   ]
  },
  {
   "cell_type": "code",
   "execution_count": 1,
   "metadata": {},
   "outputs": [],
   "source": [
    "def isNumeric(s):\n",
    "    if s is None:\n",
    "        return False\n",
    "    # The A_part\n",
    "    is_numeric, s = scan_partA(s)\n",
    "    if s == '':\n",
    "        return is_numeric\n",
    "\n",
    "    # The B_part\n",
    "    if s[0] == '.':\n",
    "        if len(s) > 1:\n",
    "            s = s[1:]\n",
    "        else:\n",
    "            # the string ends at '.', but this is also valid since 233. ==> 233.0 in the context of this task.\n",
    "            return True\n",
    "        is_partB, s = scan_partB(s)\n",
    "        is_numeric = is_partB and is_numeric\n",
    "    if s == '':\n",
    "        return is_numeric\n",
    "\n",
    "    if (s[0] == 'e' or s[0] == 'E'):\n",
    "        s = s[1:]\n",
    "        if s == '':\n",
    "            # The input string ends with 'e' or 'E' --> not a valid number!\"\n",
    "            return False\n",
    "        is_partC, s = scan_partC(s)\n",
    "        is_numeric = is_numeric and is_partC\n",
    "    else :\n",
    "        # After checking partB, the sub_string s should start directly with an 'e' or 'E'\n",
    "        # or s is empty. Any other case would indicate the string does not represent a number\n",
    "        if s != '':\n",
    "            return False\n",
    "\n",
    "    return is_numeric and s == ''\n",
    "\n",
    "\n",
    "def scan_partA(s):\n",
    "    \"\"\"\n",
    "    Ensure that the part of s that before '.' only contains integers (or contains nothing).\n",
    "    \"\"\"\n",
    "    if s[0] == '+' or s[0] == '-':\n",
    "        s = s[1:]  # move on to next char\n",
    "\n",
    "    # Special case for numbers like '.123'\n",
    "    if s[0] == '.':\n",
    "        return True, s\n",
    "\n",
    "    while s != '' and s[0] != '.' and s[0] != 'e' and s[0] != 'E':\n",
    "        try:\n",
    "            int(s[0])\n",
    "        except:\n",
    "            return False, s\n",
    "        s = s[1:]  # check next char\n",
    "    return True, s\n",
    "\n",
    "\n",
    "def scan_partB(s):\n",
    "    \"\"\"\n",
    "    Ensure that the part of s that before 'e' or 'E' only contains integers.\n",
    "    \"\"\"\n",
    "    while s != '' and (s[0] != 'e' and s[0] != 'E'):\n",
    "\n",
    "        try:\n",
    "            int(s[0])\n",
    "        except:\n",
    "            return False, s\n",
    "        s = s[1:]  # check next char\n",
    "    return True, s\n",
    "\n",
    "def scan_partC(s):\n",
    "    \"\"\"\n",
    "    Ensure that s only contains integers.\n",
    "    \"\"\"\n",
    "    if s[0] == '+' or s[0] == '-':\n",
    "        s = s[1:]  # move on to next char\n",
    "\n",
    "    while s != '':\n",
    "        try:\n",
    "            int(s[0])\n",
    "        except:\n",
    "            return False, s\n",
    "        s = s[1:]  # check next char\n",
    "    return True, s"
   ]
  },
  {
   "cell_type": "code",
   "execution_count": 2,
   "metadata": {},
   "outputs": [
    {
     "name": "stdout",
     "output_type": "stream",
     "text": [
      "All tests passed!\n"
     ]
    }
   ],
   "source": [
    "    #Test PartA\n",
    "    assert isNumeric('123')\n",
    "    assert isNumeric('+1123')\n",
    "    assert isNumeric('-456')\n",
    "    assert not isNumeric('10;2f7')\n",
    "    # Test PartB\n",
    "    assert isNumeric(('.123'))\n",
    "    assert isNumeric('-123.4037')\n",
    "    assert not isNumeric('+123.40.45')\n",
    "    assert not isNumeric('-1a2.40.57')\n",
    "    # Test PartC\n",
    "    assert isNumeric('5e2')\n",
    "    assert not isNumeric('12e')\n",
    "    assert isNumeric('+12E-16')\n",
    "    assert isNumeric('+123.456e+100')\n",
    "    assert not isNumeric('-11.22E3.4')\n",
    "    assert not isNumeric('-111.222e333E444')\n",
    "    \n",
    "    print(\"All tests passed!\")"
   ]
  },
  {
   "cell_type": "markdown",
   "metadata": {},
   "source": [
    "### 总结\n",
    "这道题只需要找到表示数值的字符串的规律，把整数，小树，指数部分拆开来分别检查就非常简单了。"
   ]
  },
  {
   "cell_type": "code",
   "execution_count": null,
   "metadata": {
    "collapsed": true
   },
   "outputs": [],
   "source": []
  }
 ],
 "metadata": {
  "kernelspec": {
   "display_name": "Python 3",
   "language": "python",
   "name": "python3"
  },
  "language_info": {
   "codemirror_mode": {
    "name": "ipython",
    "version": 3
   },
   "file_extension": ".py",
   "mimetype": "text/x-python",
   "name": "python",
   "nbconvert_exporter": "python",
   "pygments_lexer": "ipython3",
   "version": "3.6.3"
  }
 },
 "nbformat": 4,
 "nbformat_minor": 2
}
