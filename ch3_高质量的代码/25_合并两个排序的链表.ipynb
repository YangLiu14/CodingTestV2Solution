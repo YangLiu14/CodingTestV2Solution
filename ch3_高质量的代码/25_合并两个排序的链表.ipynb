{
 "cells": [
  {
   "cell_type": "markdown",
   "metadata": {},
   "source": [
    "## 25. 合并两个排序的链表\n",
    "\n",
    "输入两个单调递增的链表，输出两个链表合成后的链表，要求合成后的链表依然满足单调不减规则。\n",
    "\n",
    "### 分析\n",
    "两个指针分别遍历原来的两个链表，后面不用说了吧。\n",
    "<img src=\"images/img25.png\" style=\"width: 400px;\"/>"
   ]
  },
  {
   "cell_type": "code",
   "execution_count": 7,
   "metadata": {
    "collapsed": true
   },
   "outputs": [],
   "source": [
    "class ListNode:\n",
    "    def __init__(self, x):\n",
    "        self.val = x\n",
    "        self.next = None"
   ]
  },
  {
   "cell_type": "markdown",
   "metadata": {},
   "source": [
    "### 递归方法"
   ]
  },
  {
   "cell_type": "code",
   "execution_count": 11,
   "metadata": {
    "collapsed": true
   },
   "outputs": [],
   "source": [
    "def merge(pHead1, pHead2):\n",
    "    if pHead1 is None:\n",
    "        return pHead2\n",
    "    if pHead2 is None:\n",
    "        return pHead1\n",
    "    \n",
    "    p_merged_head = None\n",
    "    \n",
    "    if pHead1.val < pHead2.val:\n",
    "        p_merged_head = pHead1\n",
    "        p_merged_head.next = merge(pHead1.next, pHead2)\n",
    "    else:\n",
    "        p_merged_head = pHead2\n",
    "        p_merged_head.next = merge(pHead1, pHead2.next)\n",
    "    \n",
    "    return p_merged_head"
   ]
  },
  {
   "cell_type": "markdown",
   "metadata": {},
   "source": [
    "### Test"
   ]
  },
  {
   "cell_type": "code",
   "execution_count": 12,
   "metadata": {
    "collapsed": true
   },
   "outputs": [],
   "source": [
    "# Helper function to print the nodes in linked-list\n",
    "def print_linked_list(pHead):\n",
    "    p_node = pHead\n",
    "    while p_node is not None:\n",
    "        if p_node.next is None:\n",
    "            print(p_node.val, end=\"\")\n",
    "        else:\n",
    "            print(p_node.val, end=\"->\")\n",
    "        p_node = p_node.next\n",
    "    print(\"\")"
   ]
  },
  {
   "cell_type": "code",
   "execution_count": 17,
   "metadata": {},
   "outputs": [
    {
     "name": "stdout",
     "output_type": "stream",
     "text": [
      "Input:\n",
      "1->3->4->5->7->7->10\n",
      "2->4->6->8->10->13->15->18->19->20\n",
      "Output:\n",
      "1->2->3->4->4->5->6->7->7->8->10->10->13->15->18->19->20\n"
     ]
    }
   ],
   "source": [
    "# Create a test linked-list\n",
    "test1 = [1, 3, 4, 5, 7, 7, 10]\n",
    "head1 = ListNode(test1[0])\n",
    "p = head1\n",
    "for i in test1[1:]:\n",
    "    p.next = ListNode(i)\n",
    "    p = p.next\n",
    "\n",
    "test2 = [2, 4, 6, 8, 10, 13, 15, 18, 19, 20]\n",
    "head2 = ListNode(test2[0])\n",
    "p = head2\n",
    "for i in test2[1:]:\n",
    "    p.next = ListNode(i)\n",
    "    p = p.next\n",
    "\n",
    "# Test\n",
    "print(\"Input:\")\n",
    "print_linked_list(head1)\n",
    "print_linked_list(head2)\n",
    "new_head = merge(head1, head2)\n",
    "print(\"Output:\")\n",
    "print_linked_list(new_head)"
   ]
  },
  {
   "cell_type": "markdown",
   "metadata": {},
   "source": [
    "### 循环方法"
   ]
  },
  {
   "cell_type": "code",
   "execution_count": 20,
   "metadata": {
    "collapsed": true
   },
   "outputs": [],
   "source": [
    "def merge2(pHead1, pHead2):\n",
    "    if pHead1 is None and pHead2 is None:\n",
    "        return\n",
    "    elif pHead1 is None:\n",
    "        return pHead2\n",
    "    elif pHead2 is None:\n",
    "        return pHead1\n",
    "\n",
    "    merged = None\n",
    "    head = None\n",
    "\n",
    "    while pHead1 is not None and pHead2 is not None:\n",
    "        candidate = ListNode(0)\n",
    "        if pHead1.val > pHead2.val:\n",
    "            value = pHead2.val\n",
    "            candidate.val = value\n",
    "            candidate.next = None\n",
    "            if merged is not None:\n",
    "                merged.next = candidate\n",
    "                merged = merged.next\n",
    "            else:\n",
    "                merged = candidate\n",
    "                head = merged\n",
    "            pHead2 = pHead2.next\n",
    "\n",
    "        else:\n",
    "            value = pHead1.val\n",
    "            candidate.val = value\n",
    "            candidate.next = None\n",
    "            if merged is not None:\n",
    "                merged.next = candidate\n",
    "                merged = merged.next\n",
    "            else:\n",
    "                merged = candidate\n",
    "                head = merged\n",
    "            pHead1 = pHead1.next\n",
    "\n",
    "    # if two linked-list have different length:\n",
    "    if pHead1 is None:\n",
    "        # len of pHead1 < len of pHead2\n",
    "        # Add the rest of pHead2 to \"merged\"\n",
    "        merged.next = pHead2\n",
    "    if pHead2 is None:\n",
    "        merged.next = pHead1\n",
    "\n",
    "    return head"
   ]
  },
  {
   "cell_type": "code",
   "execution_count": 21,
   "metadata": {},
   "outputs": [
    {
     "name": "stdout",
     "output_type": "stream",
     "text": [
      "Input:\n",
      "1->3->4->5->7->7->10\n",
      "2->4->6->8->10->13->15->18->19->20\n",
      "Output:\n",
      "1->2->3->4->4->5->6->7->7->8->10->10->13->15->18->19->20\n"
     ]
    }
   ],
   "source": [
    "# Create a test linked-list\n",
    "test1 = [1, 3, 4, 5, 7, 7, 10]\n",
    "head1 = ListNode(test1[0])\n",
    "p = head1\n",
    "for i in test1[1:]:\n",
    "    p.next = ListNode(i)\n",
    "    p = p.next\n",
    "\n",
    "test2 = [2, 4, 6, 8, 10, 13, 15, 18, 19, 20]\n",
    "head2 = ListNode(test2[0])\n",
    "p = head2\n",
    "for i in test2[1:]:\n",
    "    p.next = ListNode(i)\n",
    "    p = p.next\n",
    "\n",
    "# Test\n",
    "print(\"Input:\")\n",
    "print_linked_list(head1)\n",
    "print_linked_list(head2)\n",
    "new_head = merge2(head1, head2)\n",
    "print(\"Output:\")\n",
    "print_linked_list(new_head)"
   ]
  },
  {
   "cell_type": "code",
   "execution_count": null,
   "metadata": {
    "collapsed": true
   },
   "outputs": [],
   "source": []
  }
 ],
 "metadata": {
  "kernelspec": {
   "display_name": "Python 3",
   "language": "python",
   "name": "python3"
  },
  "language_info": {
   "codemirror_mode": {
    "name": "ipython",
    "version": 3
   },
   "file_extension": ".py",
   "mimetype": "text/x-python",
   "name": "python",
   "nbconvert_exporter": "python",
   "pygments_lexer": "ipython3",
   "version": "3.6.3"
  }
 },
 "nbformat": 4,
 "nbformat_minor": 2
}
