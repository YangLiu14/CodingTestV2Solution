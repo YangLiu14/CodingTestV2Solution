{
 "cells": [
  {
   "cell_type": "markdown",
   "metadata": {},
   "source": [
    "## 18. 删除链表中重复的节点\n",
    "题目一：在O(1)时间内删除链表节点。\n",
    "\n",
    "给定单向链表的头指针和一个节点指针，定义一个函数在O(1)时间内删除该节点。\n",
    "\n",
    "#### 分析：\n",
    "- 常规做法是从头节点开始遍历直到找到要删除的节点，但是复杂度为O(n)。\n",
    "\n",
    "- 换一个思路，可以把目标节点的**下一个节点的内容**复制到目标节点上，再删除下一个节点。但是要注意目标节点已经是**尾节点**的情况。此时只能用遍历链表的老方法解决问题。\n",
    "\n",
    "- 最后一个要注意的点：当整个链表只有一个节点时，直接删除节点然后把链表的头节点设成`None`(`nullptr` in C++)\n"
   ]
  },
  {
   "cell_type": "code",
   "execution_count": 1,
   "metadata": {},
   "outputs": [],
   "source": [
    "class ListNode:\n",
    "    def __init__(self, x):\n",
    "        self.val = x\n",
    "        self.next = None"
   ]
  },
  {
   "cell_type": "code",
   "execution_count": 2,
   "metadata": {},
   "outputs": [],
   "source": [
    "def deleteNode(head, node_to_delete):\n",
    "    \"\"\"\n",
    "    Delete a node from a linked-list.\n",
    "    \n",
    "    :param head:           ListNode \n",
    "    :param node_to_delete: ListNode\n",
    "    \"\"\"\n",
    "    # Check for correctness of the input\n",
    "    if head is None or node_to_delete is None:\n",
    "        return\n",
    "    \n",
    "    # Normal case： the node_to_delete is NOT the last node. O(1)\n",
    "    if node_to_delete.next is not None:\n",
    "        p_next = node_to_delete.next\n",
    "        # copy all the content of the next node into node_to_delete\n",
    "        node_to_delete.val = p_next.val\n",
    "        node_to_delete.next = p_next.next\n",
    "        \n",
    "        # Now the node_to_delete becomes the new p_next,\n",
    "        # so we need to delete the old p_next\n",
    "        del p_next\n",
    "        \n",
    "    # Special case: the linked-list only has one node.  O(1)\n",
    "    elif head.next is None:\n",
    "        assert head.val == node_to_delete.val\n",
    "        assert node_to_delete.next is None\n",
    "        head = None\n",
    "        \n",
    "    # Special case: the node_to_delete is the last node. O(n)\n",
    "    else:\n",
    "        p_node = head\n",
    "        while(p_node.next != node_to_delete):\n",
    "            p_node = p_node.next\n",
    "        p_node.next = None"
   ]
  },
  {
   "cell_type": "markdown",
   "metadata": {},
   "source": [
    "### 复杂度分析\n",
    "对于n-1个非尾节点而言，我们可以在$O(1)$的时间内把要`删除的节点`用`下一个节点`的内容覆盖掉，并删除下一个节点。\n",
    "\n",
    "对于尾节点: $O(n)$\n",
    "\n",
    "总的平均时间复杂度是 $[(n-1) \\cdot O(1) + O(n)] / n$，所以结果还是$O(1)$\n",
    "\n",
    "### 其他分析\n",
    "上述代码仍然不完美，因为它假定了`node_to_delete`一定存在于链表中。而判断一个链表中是否包含某一节点需要全部遍历一遍，也就是$O(n)$"
   ]
  },
  {
   "cell_type": "markdown",
   "metadata": {},
   "source": [
    "### 题目二：删除链表中重复的节点\n",
    "\n",
    "在一个排序的链表中，存在重复的结点，请删除该链表中重复的结点，重复的结点不保留，返回链表头指针。 \n",
    "\n",
    "例如，链表1->2->3->3->4->4->5 处理后为 1->2->5"
   ]
  },
  {
   "cell_type": "code",
   "execution_count": 13,
   "metadata": {},
   "outputs": [],
   "source": [
    "def deleteDuplication(pHead):\n",
    "    if pHead is None:\n",
    "        return None\n",
    "    if pHead.next is None:\n",
    "        return pHead\n",
    "    \n",
    "    prev_node = None\n",
    "    p_node = pHead\n",
    "    \n",
    "    while p_node is not None:\n",
    "        next_node = p_node.next\n",
    "        need_delete = False\n",
    "        \n",
    "        if next_node is not None and next_node.val == p_node.val:\n",
    "            need_delete = True\n",
    "        \n",
    "        if not need_delete:\n",
    "            prev_node = p_node\n",
    "            p_node = p_node.next\n",
    "        else:\n",
    "            value = p_node.val\n",
    "            while next_node is not None and next_node.val == value:\n",
    "                next_node = next_node.next\n",
    "            if prev_node is None: # it means pHead had the duplicate value with the following node\n",
    "                pHead = next_node # assign new head\n",
    "                p_node = pHead\n",
    "            else:\n",
    "                prev_node.next = next_node\n",
    "                p_node = prev_node.next\n",
    "    return pHead"
   ]
  },
  {
   "cell_type": "code",
   "execution_count": 17,
   "metadata": {},
   "outputs": [],
   "source": [
    "# Helper function to print the nodes in linked-list\n",
    "def print_linked_list(pHead):\n",
    "    p_node = pHead\n",
    "    while p_node is not None:\n",
    "        if p_node.next is None:\n",
    "            print(p_node.val, end=\"\")\n",
    "        else:\n",
    "            print(p_node.val, end=\"->\")\n",
    "        p_node = p_node.next\n",
    "    print(\"\")"
   ]
  },
  {
   "cell_type": "code",
   "execution_count": 18,
   "metadata": {},
   "outputs": [
    {
     "name": "stdout",
     "output_type": "stream",
     "text": [
      "1->2->3->3->4->4->5\n",
      "1->2->5\n"
     ]
    }
   ],
   "source": [
    "# Test 1:\n",
    "# 1->2->3->3->4->4->5\n",
    "a1 = [1, 2, 3, 3, 4, 4, 5]\n",
    "test1 = ListNode(1)\n",
    "p_node = test1\n",
    "for i in a1[1:]:\n",
    "    p_node.next = ListNode(i)\n",
    "    p_node = p_node.next\n",
    "print_linked_list(test1)\n",
    "    \n",
    "result1 = deleteDuplication(test1)\n",
    "print_linked_list(result1)"
   ]
  },
  {
   "cell_type": "code",
   "execution_count": 21,
   "metadata": {},
   "outputs": [
    {
     "name": "stdout",
     "output_type": "stream",
     "text": [
      "2->2->3->3->1->4->4->4->5\n",
      "1->5\n"
     ]
    }
   ],
   "source": [
    "# Test 2:\n",
    "# 2->2->3->3->1->4->4->4->5\n",
    "a2 = [2, 2, 3, 3, 1, 4, 4, 4, 5]\n",
    "test2 = ListNode(2)\n",
    "p_node = test2\n",
    "for i in a2[1:]:\n",
    "    p_node.next = ListNode(i)\n",
    "    p_node = p_node.next\n",
    "print_linked_list(test2)\n",
    "    \n",
    "result2 = deleteDuplication(test2)\n",
    "print_linked_list(result2)"
   ]
  }
 ],
 "metadata": {
  "kernelspec": {
   "display_name": "Python 3",
   "language": "python",
   "name": "python3"
  },
  "language_info": {
   "codemirror_mode": {
    "name": "ipython",
    "version": 3
   },
   "file_extension": ".py",
   "mimetype": "text/x-python",
   "name": "python",
   "nbconvert_exporter": "python",
   "pygments_lexer": "ipython3",
   "version": "3.7.2"
  }
 },
 "nbformat": 4,
 "nbformat_minor": 2
}
