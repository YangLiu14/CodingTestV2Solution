{
 "cells": [
  {
   "cell_type": "markdown",
   "metadata": {},
   "source": [
    "## 26. 树的子结构\n",
    "\n",
    "输入两棵二叉树A，B，判断B是不是A的子结构。（此题中，*空树*不是任意一个树的子结构）\n",
    "\n",
    "### 分析\n",
    "1. 找到树A和树B的根节点的值一样的节点。\n",
    "2. 判断树A中以R为根节点的子树是不是包含和树B一样的结构。  --> 听上去已经像递归了。\n",
    "[//]: # (<img src=\"images/img25.png\" style=\"width: 400px;\"/>)"
   ]
  },
  {
   "cell_type": "code",
   "execution_count": 1,
   "metadata": {
    "collapsed": true
   },
   "outputs": [],
   "source": [
    "class TreeNode:\n",
    "    def __init__(self, x):\n",
    "        self.val = x\n",
    "        self.left = None\n",
    "        self.right = None"
   ]
  },
  {
   "cell_type": "markdown",
   "metadata": {},
   "source": [
    "### 递归方法\n",
    "\n",
    "需要一个function来遍历树A来比较`root1`和`root2`，只有当root一样的，才进行左右sub-tree的比较。\n",
    "\n",
    "而比较左右sub-tree时又需要另一个function进行递归遍历。递归返回的条件则是树B无法再继续往下遍历了（也就是之前的node都check out了）"
   ]
  },
  {
   "cell_type": "code",
   "execution_count": 2,
   "metadata": {
    "collapsed": true
   },
   "outputs": [],
   "source": [
    "def has_subtree(pRoot1, pRoot2):\n",
    "    result = False\n",
    "\n",
    "    # recursively traverse tree1 and compare root1 and root2\n",
    "    if pRoot1 is not None and pRoot2 is not None:\n",
    "        if pRoot1.val == pRoot2.val:\n",
    "            # if they match, check left and right sub-tree\n",
    "            result = does_tree1_have_tree2(pRoot1, pRoot2)\n",
    "\n",
    "        # this is typical pre-order traverser:\n",
    "        if not result:\n",
    "            result = has_subtree(pRoot1.left, pRoot2)\n",
    "        if not result:\n",
    "            result = has_subtree(pRoot1.right, pRoot2)\n",
    "\n",
    "    return result\n",
    "\n",
    "def does_tree1_have_tree2(pRoot1, pRoot2):\n",
    "    if pRoot2 is None:\n",
    "        return True\n",
    "\n",
    "    if pRoot1 is None:\n",
    "        return False\n",
    "\n",
    "    if pRoot1.val != pRoot2.val:\n",
    "        return False\n",
    "\n",
    "    return does_tree1_have_tree2(pRoot1.left, pRoot2.left) and \\\n",
    "           does_tree1_have_tree2(pRoot1.right, pRoot2.right)"
   ]
  },
  {
   "cell_type": "markdown",
   "metadata": {},
   "source": [
    "### Test"
   ]
  },
  {
   "cell_type": "code",
   "execution_count": null,
   "metadata": {
    "collapsed": true
   },
   "outputs": [],
   "source": []
  }
 ],
 "metadata": {
  "kernelspec": {
   "display_name": "Python 3",
   "language": "python",
   "name": "python3"
  },
  "language_info": {
   "codemirror_mode": {
    "name": "ipython",
    "version": 3
   },
   "file_extension": ".py",
   "mimetype": "text/x-python",
   "name": "python",
   "nbconvert_exporter": "python",
   "pygments_lexer": "ipython3",
   "version": "3.6.3"
  }
 },
 "nbformat": 4,
 "nbformat_minor": 2
}
