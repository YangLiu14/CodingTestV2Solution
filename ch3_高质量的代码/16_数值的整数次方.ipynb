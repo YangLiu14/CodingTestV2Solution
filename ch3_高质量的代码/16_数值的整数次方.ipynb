{
 "cells": [
  {
   "cell_type": "markdown",
   "metadata": {},
   "source": [
    "## 16. 数值的整数次方\n",
    "给定一个double类型的浮点数base和int类型的整数exponent。求base的exponent次方。"
   ]
  },
  {
   "cell_type": "code",
   "execution_count": 1,
   "metadata": {
    "collapsed": true
   },
   "outputs": [],
   "source": [
    "def Power(base, exponent):\n",
    "    if base == 0.0 and exponent < 0:\n",
    "        raise Exception('Exponent should not be negative when base is 0: {}')\n",
    "    \n",
    "    if exponent < 0:\n",
    "        result = PowerUnsignedExponent(base, -exponent)\n",
    "        result = 1 / result\n",
    "    else:\n",
    "        result = PowerUnsignedExponent(base, exponent)\n",
    "    return result\n",
    "\n",
    "\n",
    "def PowerUnsignedExponent(base, exponent):\n",
    "    assert exponent >= 0\n",
    "    if exponent == 0:\n",
    "        return 1\n",
    "    if exponent == 1:\n",
    "        return base\n",
    "    \n",
    "    result = PowerUnsignedExponent(base, exponent >> 1)\n",
    "    result *= result\n",
    "    if exponent & 0x1 == 1:\n",
    "        result *= base\n",
    "\n",
    "    return result"
   ]
  },
  {
   "cell_type": "markdown",
   "metadata": {},
   "source": [
    "在函数`PowerUnsignedExponent`中，\n",
    "\n",
    "- 用了**递归**和如下公式来计算次方，比循环的复杂度小：\n",
    "\n",
    "$$ a^n=\\left\\{\n",
    "\\begin{array}{rcl}\n",
    "a^{n/2} \\cdot a^{n/2}                    &      & {n为偶数}\\\\\n",
    "a^{(n-1)/2} \\cdot a^{(n-1)/2} \\cdot a    &      & {n为奇数}\n",
    "\\end{array} \\right. $$\n",
    "\n",
    "\n",
    " - 用位运算`>>`进行*除以2*\n",
    " - 用位运算`&0x01`检查某个int是否能整除2"
   ]
  },
  {
   "cell_type": "code",
   "execution_count": 2,
   "metadata": {},
   "outputs": [
    {
     "data": {
      "text/plain": [
       "8"
      ]
     },
     "execution_count": 2,
     "metadata": {},
     "output_type": "execute_result"
    }
   ],
   "source": [
    "Power(2, 3)\n"
   ]
  },
  {
   "cell_type": "code",
   "execution_count": 3,
   "metadata": {},
   "outputs": [
    {
     "data": {
      "text/plain": [
       "0.1111111111111111"
      ]
     },
     "execution_count": 3,
     "metadata": {},
     "output_type": "execute_result"
    }
   ],
   "source": [
    "Power(3, -2)"
   ]
  },
  {
   "cell_type": "code",
   "execution_count": 4,
   "metadata": {},
   "outputs": [
    {
     "data": {
      "text/plain": [
       "0.0625"
      ]
     },
     "execution_count": 4,
     "metadata": {},
     "output_type": "execute_result"
    }
   ],
   "source": [
    "Power(2, -4)"
   ]
  }
 ],
 "metadata": {
  "kernelspec": {
   "display_name": "Python 3",
   "language": "python",
   "name": "python3"
  },
  "language_info": {
   "codemirror_mode": {
    "name": "ipython",
    "version": 3
   },
   "file_extension": ".py",
   "mimetype": "text/x-python",
   "name": "python",
   "nbconvert_exporter": "python",
   "pygments_lexer": "ipython3",
   "version": "3.7.3"
  }
 },
 "nbformat": 4,
 "nbformat_minor": 2
}
