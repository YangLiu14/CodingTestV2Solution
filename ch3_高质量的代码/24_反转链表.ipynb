{
 "cells": [
  {
   "cell_type": "markdown",
   "metadata": {},
   "source": [
    "## 24. 反转链表\n",
    "\n",
    "输入一个链表，反转链表后，输出新链表的表头。\n",
    "\n",
    "### 注意点：链表断裂\n",
    "如下图所示，在把`node i`指向`h`的同时，`i`和`j`的联系也就断了。所以需要三个指针。\n",
    "<img src=\"images/img24.png\" style=\"width: 700px;\"/>"
   ]
  },
  {
   "cell_type": "code",
   "execution_count": 2,
   "metadata": {
    "collapsed": true
   },
   "outputs": [],
   "source": [
    "class ListNode:\n",
    "    def __init__(self, x):\n",
    "        self.val = x\n",
    "        self.next = None"
   ]
  },
  {
   "cell_type": "code",
   "execution_count": 3,
   "metadata": {
    "collapsed": true
   },
   "outputs": [],
   "source": [
    "def reverse_list(pHead):\n",
    "    # write code here\n",
    "    if not pHead:  #pHead == None\n",
    "        return \n",
    "    p1 = pHead\n",
    "    p2 = None\n",
    "    while p1:\n",
    "        next = p1.next\n",
    "        p1.next = p2\n",
    "        p2 = p1\n",
    "        p1 = next\n",
    "    return p2"
   ]
  },
  {
   "cell_type": "code",
   "execution_count": 4,
   "metadata": {
    "collapsed": true
   },
   "outputs": [],
   "source": [
    "# Helper function to print the nodes in linked-list\n",
    "def print_linked_list(pHead):\n",
    "    p_node = pHead\n",
    "    while p_node is not None:\n",
    "        if p_node.next is None:\n",
    "            print(p_node.val, end=\"\")\n",
    "        else:\n",
    "            print(p_node.val, end=\"->\")\n",
    "        p_node = p_node.next\n",
    "    print(\"\")"
   ]
  },
  {
   "cell_type": "code",
   "execution_count": 6,
   "metadata": {},
   "outputs": [
    {
     "name": "stdout",
     "output_type": "stream",
     "text": [
      "Input: 1->2->3->4->5->6\n",
      "Output: 6->5->4->3->2->1\n"
     ]
    }
   ],
   "source": [
    "# Create a test linked-list\n",
    "test = [1, 2, 3, 4, 5, 6]\n",
    "head = ListNode(1)\n",
    "p = head\n",
    "for i in test[1:]:\n",
    "    p.next = ListNode(i)\n",
    "    p = p.next\n",
    "\n",
    "# Test\n",
    "print(\"Input:\", end=\" \")\n",
    "print_linked_list(head)\n",
    "new_head = reverse_list(head)\n",
    "print(\"Output:\", end=\" \")\n",
    "print_linked_list(new_head)"
   ]
  }
 ],
 "metadata": {
  "kernelspec": {
   "display_name": "Python 3",
   "language": "python",
   "name": "python3"
  },
  "language_info": {
   "codemirror_mode": {
    "name": "ipython",
    "version": 3
   },
   "file_extension": ".py",
   "mimetype": "text/x-python",
   "name": "python",
   "nbconvert_exporter": "python",
   "pygments_lexer": "ipython3",
   "version": "3.6.3"
  }
 },
 "nbformat": 4,
 "nbformat_minor": 2
}
