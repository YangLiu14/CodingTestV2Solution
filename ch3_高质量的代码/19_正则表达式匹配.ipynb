{
 "cells": [
  {
   "cell_type": "markdown",
   "metadata": {},
   "source": [
    "## 19. 正则表达式匹配\n",
    "\n",
    "请实现一个函数用来匹配包括`'.'`和`'*'`的正则表达式。模式中的字符`'.'`表示任意一个字符，而`'*'`表示它前面的字符可以出现任意次（包含0次）。 在本题中，匹配是指字符串的所有字符匹配整个模式。例如，字符串`\"aaa\"`与模式`\"a.a\"`和`\"ab*ac*a\"`匹配，但是与`\"aa.a\"`和`\"ab*a\"`均不匹配"
   ]
  },
  {
   "cell_type": "markdown",
   "metadata": {},
   "source": [
    "### My Solution\n",
    "和书中用递归比较容易理解，如果用循环来做的话就必须要考虑到所有的可能行"
   ]
  },
  {
   "cell_type": "code",
   "execution_count": 14,
   "metadata": {
    "collapsed": true
   },
   "outputs": [],
   "source": [
    "def match(s, pattern):\n",
    "    sub_string = s[0:]\n",
    "    sub_pattern = pattern[0:]\n",
    "    \n",
    "    while sub_string != '' and sub_pattern != '':\n",
    "\n",
    "        if len(sub_pattern) == 1:\n",
    "            if (sub_string[0] == sub_pattern[0] or sub_pattern[0] == '.') and len(sub_string) == 1:\n",
    "                return True\n",
    "            else:\n",
    "                return False\n",
    "\n",
    "        if len(pattern) >= 2:\n",
    "            if sub_pattern[1] == '*':\n",
    "                if sub_string[0] == sub_pattern[0] or sub_pattern[0] == '.':\n",
    "                    # see if the next char of sub_string repeat itself\n",
    "                    char = sub_string[0]\n",
    "                    while sub_string[0] == char and len(sub_string) > 1:\n",
    "                        sub_string = sub_string[1:]\n",
    "                    if len(sub_pattern) > 2:\n",
    "                        sub_pattern = sub_pattern[2:]\n",
    "                        continue\n",
    "                    else:\n",
    "                        return True\n",
    "                else:\n",
    "                    if sub_pattern[2] == sub_string[0] or sub_pattern[2] == '.':\n",
    "                        # skip this '*'\n",
    "                        sub_pattern = sub_pattern[2:]\n",
    "                        continue\n",
    "                    else:\n",
    "                        return False\n",
    "\n",
    "        if sub_string[0] == sub_pattern[0] or (sub_pattern[0] == '.' and sub_string != ''):\n",
    "            # move on to next char\n",
    "            sub_string = sub_string[1:]\n",
    "            sub_pattern = sub_pattern[1:]\n",
    "        else:\n",
    "            return False\n",
    "\n",
    "    # This is for special case like match(\"\", \"c*\")\n",
    "    if sub_string == '' and sub_pattern != '':\n",
    "        if len(sub_pattern) >= 2:\n",
    "            if sub_pattern[1] == '*':\n",
    "                if len(sub_pattern) == 2:\n",
    "                    return True\n",
    "                else:\n",
    "                    return False\n",
    "                \n",
    "    if sub_pattern != '' or sub_string != '':\n",
    "        return False\n",
    "    if sub_pattern == '' and sub_string == '':\n",
    "        return True"
   ]
  },
  {
   "cell_type": "code",
   "execution_count": 15,
   "metadata": {},
   "outputs": [
    {
     "name": "stdout",
     "output_type": "stream",
     "text": [
      "All test cases passed\n"
     ]
    }
   ],
   "source": [
    "assert match(\"aaa\", \"ab*a*c*a\")     # True\n",
    "assert match(\"aaa\", \"ab*a*c*a\")     # True\n",
    "assert match('a', '.')              # True\n",
    "assert match('a', '.*')             # True\n",
    "assert match('', 'c*')              # True\n",
    "assert match('', '.*')              # True\n",
    "assert not match('abba', 'ac*ba')   # False\n",
    "assert match('abbba', 'ab*a')       # True\n",
    "assert match('aaa', 'a.a')          # True\n",
    "assert not match('aaa', 'aa.a')     # False\n",
    "assert match('aaa', 'ab*ac*a')      # True\n",
    "assert not match('aaa', 'ab*a')     # False\n",
    "\n",
    "print(\"All test cases passed\")"
   ]
  },
  {
   "cell_type": "markdown",
   "metadata": {},
   "source": [
    "### 书中的解答：递归\n",
    "这里强行把C++翻译成了Python，但是遇到了很多index上的问题。这里就体现出C++中指针的优势了，当指针超出字符串范围时会变成`nullptr`，而不会直接报错。在Python里如果用index实现就要设置各种各样的边界条件。很遗憾暂时还没有时间debug出来这个程序。\n",
    "\n",
    "```py\n",
    "def match(s, pattern):\n",
    "    \n",
    "    if s is None or pattern is None:\n",
    "        return False\n",
    "    \n",
    "    return matchCore(s, pattern)\n",
    "\n",
    "def matchCore(s, pattern):\n",
    "    if s == '' and pattern == '':\n",
    "        return True\n",
    "    if s != ''  and pattern == '':\n",
    "        return False\n",
    "    \n",
    "    if pattern[1] == '*':\n",
    "        if pattern[0] == s[0] or (pattern[0] == '.' and s != ''):\n",
    "            # move on to the next state  \n",
    "            # go to next char in s and keep matching pattern\n",
    "            # ignore the '*', because the next character could still be a match\n",
    "            return matchCore(s[1:], pattern[2:]) or matchCore(s[1:], pattern) \\\n",
    "                    or matchCore(s, pattern[2:])\n",
    "                   # ignore the '*', because the next character could still be a match\n",
    "                   \n",
    "        else:\n",
    "            #ignore the '*'\n",
    "            matchCore(s, pattern[2:])\n",
    "    \n",
    "    if s[0] == pattern[0] or (pattern[0] == '.' and s != ''):\n",
    "        return matchCore(s[1:], pattern[1:])\n",
    "    \n",
    "    return False\n",
    "```"
   ]
  }
 ],
 "metadata": {
  "kernelspec": {
   "display_name": "Python 3",
   "language": "python",
   "name": "python3"
  },
  "language_info": {
   "codemirror_mode": {
    "name": "ipython",
    "version": 3
   },
   "file_extension": ".py",
   "mimetype": "text/x-python",
   "name": "python",
   "nbconvert_exporter": "python",
   "pygments_lexer": "ipython3",
   "version": "3.6.3"
  }
 },
 "nbformat": 4,
 "nbformat_minor": 2
}
