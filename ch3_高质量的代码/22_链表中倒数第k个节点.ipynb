{
 "cells": [
  {
   "cell_type": "markdown",
   "metadata": {},
   "source": [
    "## 22. 链表中倒数第k个节点\n",
    "\n",
    "输入一个链表，输出该链表中倒数第k个节点。为了符合大多数人的习惯，本题从1开始计数，即链表的尾节点是倒数第1个节点。例如，一个链表有6个节点，从头节点开始，他们的值依次是1，2，3，4，5，6。那么这个链表的倒数第3个节点是值为4的节点。\n",
    "\n",
    "### 分析\n",
    "- 这题无法先遍历到链表的尾部，再回溯k步，因为是单向链表。\n",
    "- 可以想想怎么先得到整个链表的长度n，那么要找的元素就在n-k+1的位置上。可是这样需要把链表遍历两次，不太好。\n",
    "- 为了只遍历一次，我们可以定义两个指针:\n",
    "  1. 先让第一个指针A遍历走k-1步，暂停\n",
    "  2. 此时让第二个指针B也从头开始，两个指针就这样保持着k-1的距离往下遍历。\n",
    "  3. 当指针A走到尾部时，B也就正好在k的位置上\n",
    "  \n",
    "\n",
    "### 鲁棒性\n",
    "这题还强调了代码的鲁棒性，执行以上算法之前，应该充分考虑可能会出现的错误：\n",
    "1. `head`是否为空\n",
    "2. 链表的总节点数小于k\n",
    "3. 输入的`k`为0"
   ]
  },
  {
   "cell_type": "code",
   "execution_count": 1,
   "metadata": {
    "collapsed": true
   },
   "outputs": [],
   "source": [
    "class ListNode:\n",
    "    def __init__(self, x):\n",
    "        self.val = x\n",
    "        self.next = None"
   ]
  },
  {
   "cell_type": "code",
   "execution_count": 3,
   "metadata": {
    "collapsed": true
   },
   "outputs": [],
   "source": [
    "def find_Kth_to_tail(head, k):\n",
    "    if head == None or k == 0:\n",
    "        return None\n",
    "\n",
    "    p_ahead = head\n",
    "    p_behind = None\n",
    "\n",
    "    for i in range(k-1):\n",
    "        if p_ahead.next != None:\n",
    "            p_ahead = p_ahead.next\n",
    "        else:\n",
    "            # k is bigger than the length of the linked-list\n",
    "            return None\n",
    "\n",
    "    p_behind = head\n",
    "    while p_ahead.next != None:\n",
    "        p_ahead = p_ahead.next\n",
    "        p_behind = p_behind.next\n",
    "\n",
    "    return p_behind"
   ]
  },
  {
   "cell_type": "code",
   "execution_count": 9,
   "metadata": {},
   "outputs": [
    {
     "name": "stdout",
     "output_type": "stream",
     "text": [
      "倒数第2个节点: 5\n",
      "倒数第3个节点: 4\n",
      "'NoneType' object has no attribute 'val'\n",
      "'NoneType' object has no attribute 'val'\n"
     ]
    }
   ],
   "source": [
    "# Create a test linked-list\n",
    "test = [1, 2, 3, 4, 5, 6]\n",
    "head = ListNode(1)\n",
    "p = head\n",
    "for i in test[1:]:\n",
    "    p.next = ListNode(i)\n",
    "    p = p.next\n",
    "\n",
    "# Test\n",
    "node = find_Kth_to_tail(head, 2)\n",
    "print(\"倒数第2个节点: {}\".format(node.val))\n",
    "node = find_Kth_to_tail(head, 3)\n",
    "print(\"倒数第3个节点: {}\".format(node.val))\n",
    "\n",
    "# Error Test1\n",
    "node = find_Kth_to_tail(head, 0)\n",
    "try:\n",
    "    print(\"倒数第0个节点: {}\".format(node.val))\n",
    "except Exception as e:\n",
    "    print(e)\n",
    "\n",
    "# Error Test2\n",
    "node = find_Kth_to_tail(head, 8)\n",
    "try:\n",
    "    print(\"倒数第8个节点: {}\".format(node.val))\n",
    "except Exception as e:\n",
    "    print(e)"
   ]
  },
  {
   "cell_type": "code",
   "execution_count": null,
   "metadata": {
    "collapsed": true
   },
   "outputs": [],
   "source": []
  }
 ],
 "metadata": {
  "kernelspec": {
   "display_name": "Python 3",
   "language": "python",
   "name": "python3"
  },
  "language_info": {
   "codemirror_mode": {
    "name": "ipython",
    "version": 3
   },
   "file_extension": ".py",
   "mimetype": "text/x-python",
   "name": "python",
   "nbconvert_exporter": "python",
   "pygments_lexer": "ipython3",
   "version": "3.6.3"
  }
 },
 "nbformat": 4,
 "nbformat_minor": 2
}
