{
 "cells": [
  {
   "cell_type": "markdown",
   "metadata": {},
   "source": [
    "## 23. 链表中环的入口节点\n",
    "\n",
    "给一个链表，若其中包含环，请找出该链表的环的入口结点，否则，输出null。\n",
    "\n",
    "### 分析\n",
    "1. 确定是否有环：承接22题的思路，可以用两个**速度不同**的指针，p1走一步，p2走两步，如果最后p2追上了p1则有环结构，如果p2走到了链表末尾都没有追上p1，则不包含环。\n",
    "2. 找到环的入口：还是可以用两个指针来解决，p1，p2来解决。p1先走，如果**环中有n个节点**则让p1先移动n步，此时p2再开始走，于是当两个指针指向同一个node时，这个node就是环的入口。（如下图所示）\n",
    "3. 确定环里的节点个数：第一个方法里，如果有两个**速度不同**的指针且存在环结构的话，那么他们必然会在环中的某一个节点相遇。那么从这个节点开始计数，记下绕一圈又回到这个节点所经过的节点数量即可。\n",
    "<img src=\"images/img23.png\" style=\"width: 400px;\"/>"
   ]
  },
  {
   "cell_type": "code",
   "execution_count": 1,
   "metadata": {
    "collapsed": true
   },
   "outputs": [],
   "source": [
    "class ListNode:\n",
    "    def __init__(self, x):\n",
    "        self.val = x\n",
    "        self.next = None"
   ]
  },
  {
   "cell_type": "code",
   "execution_count": 2,
   "metadata": {
    "collapsed": true
   },
   "outputs": [],
   "source": [
    "def find_meeting_node(head):\n",
    "    \"\"\"\n",
    "    Find out if there is a loop in the linked-list by letting two pointers traverse with different step sizes.\n",
    "    :param head: ListNode, first node of a linked_list\n",
    "    :return: ListNode, the node where two pointers meet. Or: None, if they did not meet.\n",
    "    \"\"\"\n",
    "    if head is None:\n",
    "        return None\n",
    "    elif head.next is None:\n",
    "        return None\n",
    "    elif head.next.next is None:\n",
    "        return None\n",
    "    elif head.next.next.next is None:\n",
    "        # you need at least 4 nodes to form a loop with entry-node\n",
    "        return None\n",
    "\n",
    "    p_slow = head\n",
    "    p_fast = p_slow.next\n",
    "\n",
    "    while p_fast is not None and p_slow is not None:\n",
    "        if id(p_fast) == id(p_slow):\n",
    "            return p_fast\n",
    "\n",
    "        p_slow = p_slow.next\n",
    "        p_fast = p_fast.next.next\n",
    "        if p_fast is None:\n",
    "            return None\n",
    "\n",
    "    # p_slow and p_fast didn't meet\n",
    "    return None\n",
    "\n",
    "def entry_node_of_loop(head):\n",
    "    meeting_node = find_meeting_node(head)\n",
    "    if meeting_node is None:\n",
    "        return None\n",
    "\n",
    "    # Count number of nodes in the loop\n",
    "    # Start from meeting_node, traverse the linked-list and count the number of nodes we pass through,\n",
    "    # until we came back to meeting_node again.\n",
    "    nodes_in_loop = 1\n",
    "    p1 = meeting_node\n",
    "    while id(p1.next) != id(meeting_node):\n",
    "        p1 = p1.next\n",
    "        nodes_in_loop += 1\n",
    "\n",
    "    # Determine the entrance of loop\n",
    "    p1 = head\n",
    "    p2 = head\n",
    "\n",
    "    for i in range(nodes_in_loop):\n",
    "        p1 = p1.next\n",
    "\n",
    "    while id(p2) != id(p1):\n",
    "        p1 = p1.next\n",
    "        p2 = p2.next\n",
    "\n",
    "    return p1"
   ]
  },
  {
   "cell_type": "code",
   "execution_count": 3,
   "metadata": {},
   "outputs": [
    {
     "name": "stdout",
     "output_type": "stream",
     "text": [
      "Set entry node with: id: 4530223648 and value: 3\n",
      "3\n",
      "4530223648\n"
     ]
    }
   ],
   "source": [
    "# Create a test linked-list\n",
    "test = [1, 2, 3, 4, 5, 6]\n",
    "head = ListNode(1)\n",
    "p = head\n",
    "for i in test[1:]:\n",
    "    p.next = ListNode(i)\n",
    "    p = p.next\n",
    "# Set the 3rd node as entry node\n",
    "p_entry = head\n",
    "for i in range(2):\n",
    "    p_entry = p_entry.next\n",
    "print(\"Set entry node with: id: {} and value: {}\".format(id(p_entry), p_entry.val))\n",
    "p.next = p_entry\n",
    "\n",
    "# Test\n",
    "node = entry_node_of_loop(head)\n",
    "print(node.val)\n",
    "print(id(node))"
   ]
  }
 ],
 "metadata": {
  "kernelspec": {
   "display_name": "Python 3",
   "language": "python",
   "name": "python3"
  },
  "language_info": {
   "codemirror_mode": {
    "name": "ipython",
    "version": 3
   },
   "file_extension": ".py",
   "mimetype": "text/x-python",
   "name": "python",
   "nbconvert_exporter": "python",
   "pygments_lexer": "ipython3",
   "version": "3.6.3"
  }
 },
 "nbformat": 4,
 "nbformat_minor": 2
}
