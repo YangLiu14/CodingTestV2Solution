{
 "cells": [
  {
   "cell_type": "markdown",
   "metadata": {},
   "source": [
    "## 48. 最大不含重复字符的子字符串\n",
    "\n",
    "请从字符串中找出一个最长的不包含重复字符的子字符串，计算该最长子字符串的长度。假设字符串中只包含a~z的字符。例如，在字符串“arabcacfr\"中，最长的不含重复字符的子字符串是\"acfr\"，长度为4.\n",
    "\n",
    "\n",
    "### 分析\n",
    "**动态规划**\n",
    "\n",
    "首先定义函数`f(i)`表示以第i个字符结尾的 不含重复字符的子字符串的最长长度。我从左到右逐一扫描字符串中的每个字符。当我们计算以第i个字符为结尾的不包含重复字符的子字符串的最长长度`f(i)`时，我们已经知道`f(i-1)`了.\n",
    "\n",
    "如果第i个字符之前没有出现过，那么f(i) = f(i-1) + 1。例如，在字符串\"arabcacfr\"中，显然f(0) = 1. 在计算f(1)时，字符'r'之前没有出现过，因此f(1) = 2 = f(0) + 1.\n",
    "\n",
    "-----------------------------------------\n",
    "\n",
    "这道题解法的精髓在于，每次遍历到一个新的char，记录下它最近出现的位置，只要没有出现过的char，`cur_length`都加1；如果是出现过的char，则跳过。不用去考虑i遍历到后面发现有重复的char，又要回到前面来重新算。比如：\n",
    "\n",
    "'abc a xy abcx'\n",
    "\n",
    "一开始最长的substring是abc，`cur_length = 3`，之后需要a，跳过，遇到xy `cur_length=5`, 跳过之后的abcx，最终得到的`max_length = 5`。\n",
    "\n",
    "\n",
    "实际上如果人来分析，经过的步骤是: `abc a` --> nope --> `bcaxy a` --> `max_length = 5` --> 遇到a --> `caxy` --> `length = 4` 等等等。\n",
    "\n",
    "\n",
    "[//]: # (<img src=\"images/img123.png\" style=\"width: 400px;\"/>)"
   ]
  },
  {
   "cell_type": "code",
   "execution_count": 8,
   "metadata": {},
   "outputs": [],
   "source": [
    "def longest_substring(input: str):\n",
    "    if str == None:\n",
    "        return\n",
    "\n",
    "    cur_length = 0\n",
    "    max_length = 0\n",
    "\n",
    "    # 用包含26个位置的position数组来存储每个字符上一次出现的位置\n",
    "    position = [-1] * 26\n",
    "\n",
    "    for i in range(len(input)):\n",
    "        prev_index = position[ord(input[i]) - ord('a')]\n",
    "        if prev_index < 0 or i - prev_index > cur_length:\n",
    "            # prev_index < 0意味着当前字符input[i]还没有出现过\n",
    "            # i - prev_index得到了距离, 如果d大于cur_length说明当前的char还没有出现\n",
    "            cur_length += 1\n",
    "        else:\n",
    "            # 如果出现了重复的char，存储当前最大的max_length\n",
    "            if cur_length > max_length:\n",
    "                max_length = cur_length\n",
    "            # 并且更新当前的cur_char\n",
    "            cur_length = i - prev_index\n",
    "\n",
    "        position[ord(input[i]) - ord('a')] = i\n",
    "        if cur_length > max_length:\n",
    "            max_length = cur_length\n",
    "\n",
    "    return max_length"
   ]
  },
  {
   "cell_type": "code",
   "execution_count": 7,
   "metadata": {},
   "outputs": [
    {
     "name": "stdout",
     "output_type": "stream",
     "text": [
      "4\n",
      "6\n",
      "5\n"
     ]
    }
   ],
   "source": [
    "print(longest_substring('arabcacfr'))\n",
    "print(longest_substring('axxcdefgxccacfr'))\n",
    "print(longest_substring('abcaxyabcx'))"
   ]
  },
  {
   "cell_type": "code",
   "execution_count": null,
   "metadata": {},
   "outputs": [],
   "source": []
  }
 ],
 "metadata": {
  "kernelspec": {
   "display_name": "Python 3",
   "language": "python",
   "name": "python3"
  },
  "language_info": {
   "codemirror_mode": {
    "name": "ipython",
    "version": 3
   },
   "file_extension": ".py",
   "mimetype": "text/x-python",
   "name": "python",
   "nbconvert_exporter": "python",
   "pygments_lexer": "ipython3",
   "version": "3.7.3"
  }
 },
 "nbformat": 4,
 "nbformat_minor": 2
}
