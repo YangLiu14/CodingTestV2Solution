{
 "cells": [
  {
   "cell_type": "markdown",
   "metadata": {},
   "source": [
    "## 46. 把数字翻译成字符串\n",
    "\n",
    "给定一个数字，我们按照如下规则把它翻译为字符串：0翻译成\"a\", 1翻译成\"b\", ... , 12翻译成\"m\", ... 25翻译成\"z\"。一个数字可能有多个翻译，例如，12258有5种不同的翻译，分别是\"bccfi\"(1,2,2,5,8), “bwfi\"(1,22,5,8), \"bczi\"(1,2,25,8), \"mcfi\"(12,2,5,8), \"mzi\"(12，25，8)。请编写一个函数，用来计算一个数字有多少种不同的翻译方法。\n",
    "\n",
    "\n",
    "### 分析\n",
    "这道题的突破口在于，可以用于翻译的数字最多就两位，且区间在在0到25。所以这个问题就转化成了：给一个数列，顺序不变的情况下有多少种组合方法。\n",
    "\n",
    "以[1,2,2,5,8]为例：如果利用递归的思想，先看第一个数可以是1, 也可以是12，后面的剩下的数字[2,2,5,8]（情况1）或者[2,5,8]（情况2）。再来讨论第一个数是一位还是两位。\n",
    "\n",
    "[//]: # (<img src=\"images/img123.png\" style=\"width: 400px;\"/>)"
   ]
  },
  {
   "cell_type": "code",
   "execution_count": 10,
   "metadata": {},
   "outputs": [],
   "source": [
    "# helper functions\n",
    "def get_all_digits(number: int):\n",
    "    digits = list()\n",
    "    while number > 0:\n",
    "        digits.insert(0, number % 10)\n",
    "        number = number // 10\n",
    "    return digits\n",
    "\n",
    "# main solution\n",
    "def get_translation_count(number: int):\n",
    "    if number is None or number < 0:\n",
    "        return\n",
    "    if number == 0:\n",
    "        print('a <- [0]')\n",
    "        return\n",
    "    digits = get_all_digits(number)\n",
    "    get_translation_recursive(digits, [],  0)\n",
    "\n",
    "def get_translation_recursive(digits: list, combination: list, index: int):\n",
    "    if index >= len(digits):\n",
    "        char_list = list()\n",
    "        for number in combination:\n",
    "            char_list.append(chr(97 + number))\n",
    "        print(\"{} <- {}\".format(''.join(char_list), combination))\n",
    "    else:\n",
    "        i = index\n",
    "        combination.append(digits[i]) # 一位数\n",
    "        get_translation_recursive(digits, combination, i+1)\n",
    "        combination.pop() # 跳出上一级，需要把上面加进来的数删除\n",
    "        if i < len(digits) - 1:\n",
    "            if digits[i]*10 + digits[i+1] < 26:\n",
    "                combination.append(digits[i]*10 + digits[i+1])  # 合并成两位数\n",
    "                get_translation_recursive(digits, combination, i+2)\n",
    "                combination.pop() # 跳出上一级，需要把上面加进来的数删除"
   ]
  },
  {
   "cell_type": "code",
   "execution_count": 11,
   "metadata": {
    "scrolled": true
   },
   "outputs": [
    {
     "name": "stdout",
     "output_type": "stream",
     "text": [
      "--------------------\n",
      "bcdef <- [1, 2, 3, 4, 5]\n",
      "bxef <- [1, 23, 4, 5]\n",
      "mdef <- [12, 3, 4, 5]\n",
      "--------------------\n",
      "bccfi <- [1, 2, 2, 5, 8]\n",
      "bczi <- [1, 2, 25, 8]\n",
      "bwfi <- [1, 22, 5, 8]\n",
      "mcfi <- [12, 2, 5, 8]\n",
      "mzi <- [12, 25, 8]\n",
      "--------------------\n",
      "a <- [0]\n"
     ]
    }
   ],
   "source": [
    "# TEST\n",
    "print(\"--------------------\")\n",
    "get_translation_count(12345)\n",
    "print(\"--------------------\")\n",
    "get_translation_count(12258)\n",
    "print(\"--------------------\")\n",
    "get_translation_count(0)"
   ]
  },
  {
   "cell_type": "code",
   "execution_count": null,
   "metadata": {},
   "outputs": [],
   "source": []
  }
 ],
 "metadata": {
  "kernelspec": {
   "display_name": "Python 3",
   "language": "python",
   "name": "python3"
  },
  "language_info": {
   "codemirror_mode": {
    "name": "ipython",
    "version": 3
   },
   "file_extension": ".py",
   "mimetype": "text/x-python",
   "name": "python",
   "nbconvert_exporter": "python",
   "pygments_lexer": "ipython3",
   "version": "3.7.3"
  }
 },
 "nbformat": 4,
 "nbformat_minor": 2
}
