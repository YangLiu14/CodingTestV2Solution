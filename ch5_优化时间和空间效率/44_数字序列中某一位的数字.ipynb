{
 "cells": [
  {
   "cell_type": "markdown",
   "metadata": {},
   "source": [
    "## 44. 数字序列中某一位的数字\n",
    "\n",
    "数字以  0123456789101112131415... 的格式序列化到一个字符序列中。在这个序列中，第5位（从0开始计数）是5，第13位是1，第19位是4，等等。请写一个函数，求任意第n位对应的数字。\n",
    "\n",
    "### 找规律\n",
    "1. 一位整数 0～9：有10个数字，index_range = (0, 9)\n",
    "2. 两位整数 10～99：有90个数字，index_range(10, 10+90x**2**-1) ==> (10, 189)\n",
    "3. 三位整数 100～999：有900个数字，index_range(190, 190+900x**3**-1) ==> (100, 2889)\n",
    "\n",
    "整体思路是：先按照给定的index，找出这个index在哪一个整数数字范围内，这样也就知道了这个index指向的整数是多少位的(num_digits)。然后开始找这个index具体对应的是哪一个digit。\n",
    "\n",
    "以两位整数的数字21为例，21中，“2”的index=32，“1”的index=33，21属于10～99范围，这个整数范围囊括的index_range=(10, 189)，很容易想到\n",
    "(32-10)%num_digits = 0 --> 指向“2”, (33-10)%num_digits = 1 --> 指向”1“。如此一来就得出了答案。\n",
    "\n",
    "[//]: # (<img src=\"images/img123.png\" style=\"width: 400px;\"/>)"
   ]
  },
  {
   "cell_type": "code",
   "execution_count": 1,
   "metadata": {
    "collapsed": true
   },
   "outputs": [],
   "source": [
    "# main function\n",
    "def get_number_from_index(index):\n",
    "    if index is None or not isinstance(index, int) or index < 0:\n",
    "        return None\n",
    "\n",
    "    num_digits = 1\n",
    "    while True:\n",
    "        index_range, number_range = get_index_range(num_digits)\n",
    "        if index_range[0] <= index <= index_range[1]:\n",
    "            number = (index - index_range[0]) // num_digits + number_range[0]\n",
    "            digit_index = (index - index_range[0]) % num_digits\n",
    "            digits = get_digits_from_int(number)\n",
    "            return digits[digit_index]\n",
    "\n",
    "        if num_digits > 10000000000:\n",
    "            break\n",
    "        num_digits += 1\n",
    "\n",
    "\n",
    "# helper functions\n",
    "def get_digits_from_int(number):\n",
    "    \"\"\"\n",
    "    Store each digit in a number into a list\n",
    "    \"\"\"\n",
    "    digits = []\n",
    "    while number // 10 != 0:\n",
    "        digits.insert(0, number % 10)\n",
    "        number = number // 10\n",
    "    digits.insert(0, number % 10)\n",
    "\n",
    "    return digits\n",
    "\n",
    "def get_index_range(num_digits):\n",
    "    if num_digits is None or num_digits < 1 or not isinstance(num_digits, int):\n",
    "        raise Exception(\"input should be stricly non-negative int\")\n",
    "\n",
    "    if num_digits == 1:\n",
    "        return [(0, 9), (0, 9)]\n",
    "\n",
    "    lower_index = 0\n",
    "    upper_index = 9\n",
    "    lower_number = 0\n",
    "    upper_number = 9\n",
    "    for i in range(2, num_digits+1):\n",
    "        lower_index = upper_index + 1\n",
    "        upper_index = lower_index + i * 9 * 10**(i - 1) - 1\n",
    "        lower_number = 10 ** (i-1)\n",
    "        upper_number = lower_number + 9 * 10**(i - 1) - 1\n",
    "\n",
    "    return (lower_index, upper_index), (lower_number, upper_number)"
   ]
  },
  {
   "cell_type": "code",
   "execution_count": 2,
   "metadata": {},
   "outputs": [
    {
     "name": "stdout",
     "output_type": "stream",
     "text": [
      "普通测试1\n",
      "5\n",
      "1\n",
      "4\n",
      "普通测试2\n",
      "1\n",
      "1\n",
      "3\n",
      "边界测试\n",
      "0\n",
      "1\n"
     ]
    }
   ],
   "source": [
    "print(\"普通测试1\")\n",
    "print(get_number_from_index(5))\n",
    "print(get_number_from_index(13))\n",
    "print(get_number_from_index(19))\n",
    "\n",
    "print(\"普通测试2\")\n",
    "print(get_number_from_index(10))\n",
    "print(get_number_from_index(190))\n",
    "print(get_number_from_index(1000))\n",
    "\n",
    "print(\"边界测试\")\n",
    "print(get_number_from_index(0))\n",
    "print(get_number_from_index(1))"
   ]
  }
 ],
 "metadata": {
  "kernelspec": {
   "display_name": "Python 3",
   "language": "python",
   "name": "python3"
  },
  "language_info": {
   "codemirror_mode": {
    "name": "ipython",
    "version": 3
   },
   "file_extension": ".py",
   "mimetype": "text/x-python",
   "name": "python",
   "nbconvert_exporter": "python",
   "pygments_lexer": "ipython3",
   "version": "3.6.3"
  }
 },
 "nbformat": 4,
 "nbformat_minor": 2
}
