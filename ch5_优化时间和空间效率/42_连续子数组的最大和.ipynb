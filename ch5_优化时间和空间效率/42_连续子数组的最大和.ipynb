{
 "cells": [
  {
   "cell_type": "markdown",
   "metadata": {},
   "source": [
    "## 42_连续子数组的最大和\n",
    "\n",
    "输入一个int型数组，数组里面有正数也有负数。截取数组中连续的一段作为一个子数组并对子数组求和。求sum最大的那个子数组。要求时间复杂度为O(n)。\n",
    "\n",
    "例如输入数组为：[1, -2, 3, 10, -4, 7, 2, -5]，那么和最大的子数组为[3, 10, -4, 7, 2]，sum = 18。\n",
    "\n",
    "### 分析\n",
    "如果用最直观的方法解，即枚举数组的所有子树组并求它们的和，那么一个长度为n的数组，总共有 n(n+1)/2个子数组。一个一个计算出所有的子数组的和再比较，最快也需要$O(n^2)$的时间。下面讨论时间更快的方法。\n",
    "\n",
    "[//]: # (<img src=\"images/img123.png\" style=\"width: 400px;\"/>)"
   ]
  },
  {
   "cell_type": "markdown",
   "metadata": {},
   "source": [
    "### 解法一：举例分析数组的规律\n",
    "一步一步考虑这个数组[1, -2, 3, 10, -4, 7, 2, -5]，\n",
    "\n",
    "• sum初始化为0。第一步加上第一个数字1，sum=1；第二步加-2, sum=-1；第三步加3, sum=2。这里就能注意到，由于此前累加的和是-1，小于0，如果用前面的sum加上3，得到的和是2，比3本身还小。所以我们可以直接弃用前面的数字，直接从3开始。结论就是，**如果前面数字的和是负数**，那么就**直接弃用**前面的数字，从下一个数字开始找sub-array。\n",
    "\n",
    "\n",
    "• 从3开始，sum=3；加10，sum=13；加-4，sum=9。这里开始有两种情况：\n",
    "- 之后加一个正数，sum变得比13大\n",
    "- sum=13有可能已经是最大的和了\n",
    "因此要把之前得到的max_sum=13先保存下来。之后加7，sum=16 --> max_sum=16；加2，sum=18，--> max_sum=18；最后是-5，到了原数组末尾，于是不考虑-5。"
   ]
  },
  {
   "cell_type": "code",
   "execution_count": 4,
   "metadata": {
    "collapsed": true
   },
   "outputs": [],
   "source": [
    "def find_greatest_sum_of_subarray(array):\n",
    "    if array is None or array == [] or not all(isinstance(x, int) for x in array):\n",
    "        return []\n",
    "\n",
    "    sum = 0\n",
    "    max_sum = array[0] # max_sum should not be initialized as 0!\n",
    "    start_index, last_index = 0, 0\n",
    "\n",
    "    for i in range(len(array)):\n",
    "        if sum <= 0:\n",
    "            sum = array[i]\n",
    "            start_index = i\n",
    "        else:\n",
    "            sum += array[i]\n",
    "\n",
    "        if sum > max_sum:\n",
    "            max_sum = sum\n",
    "            last_index = i\n",
    "\n",
    "    if start_index > last_index: # every elemet is a negative int\n",
    "        return array[last_index:last_index+1], max_sum\n",
    "    else:\n",
    "        return array[start_index:last_index+1], max_sum"
   ]
  },
  {
   "cell_type": "code",
   "execution_count": 7,
   "metadata": {},
   "outputs": [
    {
     "name": "stdout",
     "output_type": "stream",
     "text": [
      "([3, 10, -4, 7, 2], 18)\n",
      "([-1], -1)\n",
      "([4, 3, 7, 10, 11], 35)\n"
     ]
    }
   ],
   "source": [
    "# Test\n",
    "test1 = [1, -2, 3, 10, -4, 7, 2, -5, -2, -1]\n",
    "print(find_greatest_sum_of_subarray(test1))\n",
    "\n",
    "test2 = [-2, -8, -1, -5, -9]\n",
    "print(find_greatest_sum_of_subarray(test2))\n",
    "\n",
    "test3 = [4, 3, 7, 10, 11]\n",
    "print(find_greatest_sum_of_subarray(test3))"
   ]
  },
  {
   "cell_type": "markdown",
   "metadata": {},
   "source": [
    "### 应用动态规划法\n",
    "如果用函数法f(i)表示以第i个数字结尾的子数组的最大和，那么我们需要求出max{f(i)}，其中0<=i<n。我们可以用如下递归公式求f(i)：\n",
    "\n",
    "$$ f(i)=\\left\\{\n",
    "\\begin{array}{rcl}\n",
    "& array[i]                      & {i=0 \\lor f(i-1) \\leq 0}\\\\\n",
    "& f(i-1) + array[i]             & {i \\ne 0 \\land f(i-1) > 0}\n",
    "\\end{array} \\right. $$\n",
    "\n",
    "此公式的意义：当以第i-1个数字结尾的子数组中所有数字的和小于0时，如果把这个负数与第i个数累加，则得到的结果比第i个数字本身还要小，所以这种情况下以第i个数字结尾的子数组就是第i个数字本身。（也就是之前解法一中，丢掉所有之前sum<=0 的数字）。\n",
    "\n",
    "如果以第i-1个数字结尾的子数组f(i-1)中所有数字的和大于0，则与第i个数字累加-->就得到以第i个数字结尾的子数组f(i)中所有数字的和。\n",
    "\n",
    "其实思路和之前是异曲同工的，只不过换了递归的思想。"
   ]
  }
 ],
 "metadata": {
  "kernelspec": {
   "display_name": "Python 3",
   "language": "python",
   "name": "python3"
  },
  "language_info": {
   "codemirror_mode": {
    "name": "ipython",
    "version": 3
   },
   "file_extension": ".py",
   "mimetype": "text/x-python",
   "name": "python",
   "nbconvert_exporter": "python",
   "pygments_lexer": "ipython3",
   "version": "3.6.3"
  }
 },
 "nbformat": 4,
 "nbformat_minor": 2
}
