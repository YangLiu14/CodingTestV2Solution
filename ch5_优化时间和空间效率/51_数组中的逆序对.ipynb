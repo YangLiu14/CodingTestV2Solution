{
 "cells": [
  {
   "cell_type": "markdown",
   "metadata": {},
   "source": [
    "## 51. 数组中的逆序对\n",
    "\n",
    "### 题目一：\n",
    "在数组中的两个数字，如果前面一个数字大于后面的数字，则这两个数字组成一个逆序对。输入一个数组,求出这个数组中的逆序对的总数。 例如，数组[7, 5, 6, 4]中，一共有5个逆序对，分别是(7,5) (7,6) (7,4) (5,4) (6,4)\n",
    "\n",
    "### 分析\n",
    "Naive的方法：如果从头开始一个个字符遍历过去，遍历一次的时间复杂度是`O(n)`，每个字符都要和后面的字符比较一遍，总的时间复杂度是$O(n^2)$\n",
    "\n",
    "换一种思路：每扫描到一个数字的时候，我们不能拿它和后面的每一个数字进行比较，否则时间复杂度就是$O(n^2)$。因为，我们可以考虑先比较两个相邻的数字。\n",
    "\n",
    "如下图所示，先把数组分解成两个长度为2的子数组(a)，再把这两个子数组分别拆分成两个长度为1的子数组(b)。第一对长度为1的子数组{7},{5}中，7大于5，因此（7,5)组成一个逆序对。同样，第二对{6},{4}中，也有逆序对(6,4)。由于我们已经统计了这两个子数组内部的逆序对，因为需要把这两对子数组排序(c)，以免在以后的统计过程中再重复统计。\n",
    "<img src=\"images/img51_a.png\" style=\"width: 500px;\"/>\n",
    "\n",
    "下图是上图中(d)过程合并两个子数组的详细过程，\n",
    "<img src=\"images/img51_b.png\" style=\"width: 500px;\"/>\n",
    "简单来说，先比较P1,P2, 如果`P1 > P2`，表明数组中存在逆序对，此时P2指向的是第二个子数组中的第二个数字，所以逆序对`count+2`。大的数字(P1)被取出来放入merge_list，并且P1向前移动一个位置，P1,P2继续进行比较。\n",
    "\n",
    "总结：先把数组分割成子数组，统计出子数组内部的逆序对的数目，然后再统计出两个相邻子数组之间的逆序对的数目。在统计逆序对的过程中，还需要对数组进行排序，而且排序的过程其实就是[归并排序](https://www.jianshu.com/p/3ad5373465fd)。\n",
    "\n",
    "[//]: # (<img src=\"images/img123.png\" style=\"width: 500px;\"/>)"
   ]
  },
  {
   "cell_type": "code",
   "execution_count": 7,
   "metadata": {},
   "outputs": [],
   "source": [
    "def inverse_pairs(data: list):\n",
    "    if data == None or len(data) < 0:\n",
    "        return 0\n",
    "\n",
    "    copy = data[:]\n",
    "    count = inverse_pairs_core(data, copy, 0, len(data) - 1)\n",
    "    return count\n",
    "\n",
    "\n",
    "def inverse_pairs_core(data: list, copy: list, start: int, end: int):\n",
    "    if start == end:\n",
    "        copy[start] = data[start]\n",
    "        return 0\n",
    "    # split in half\n",
    "    length = (end - start) // 2\n",
    "\n",
    "    left = inverse_pairs_core(copy, data, start, start + length)\n",
    "    right = inverse_pairs_core(copy, data, start + length + 1, end)\n",
    "\n",
    "    # i 初始化为前半段最后一个数字的下标\n",
    "    i = start + length\n",
    "    # j 初始化为后半段最后一个数字的下标\n",
    "    j = end\n",
    "    index_copy = end\n",
    "    count = 0\n",
    "    # 合并两个子数组\n",
    "    while i >= start and j >= start + length + 1:\n",
    "        if data[i] > data[j]:\n",
    "            copy[index_copy] = data[i]\n",
    "            index_copy -= 1\n",
    "            i -= 1\n",
    "            count += j - start - length\n",
    "        else:\n",
    "            copy[index_copy] = data[j]\n",
    "            index_copy -= 1\n",
    "            j -= 1\n",
    "\n",
    "    # 如果某一个子数组还有剩余的element，直接加到copy数组里\n",
    "    while i >= start:\n",
    "        # print(index_copy)\n",
    "        copy[index_copy] = data[i]\n",
    "        index_copy -= 1\n",
    "        i -= 1\n",
    "    while j >= start + length + 1:\n",
    "        copy[index_copy] = data[j]\n",
    "        index_copy -= 1\n",
    "        j -= 1\n",
    "\n",
    "    return left + right + count"
   ]
  },
  {
   "cell_type": "code",
   "execution_count": 10,
   "metadata": {},
   "outputs": [
    {
     "name": "stdout",
     "output_type": "stream",
     "text": [
      "7\n",
      "5\n"
     ]
    }
   ],
   "source": [
    "test = [1,2,3,4,5,6,7,0]\n",
    "print(inverse_pairs(test))\n",
    "\n",
    "test = [7, 5, 6, 4]\n",
    "print(inverse_pairs(test))"
   ]
  },
  {
   "cell_type": "markdown",
   "metadata": {},
   "source": [
    "归并排序的时间复杂度是$O(n \\log n)$, 比最直观的$O(n^2)$要快，但是同时归并排序需要一个长度为n的辅助数组，相当于我们用$O(n)$的空间消耗换来了时间效率的提升，因此这是一种用空间换时间的算法。"
   ]
  }
 ],
 "metadata": {
  "kernelspec": {
   "display_name": "Python 3",
   "language": "python",
   "name": "python3"
  },
  "language_info": {
   "codemirror_mode": {
    "name": "ipython",
    "version": 3
   },
   "file_extension": ".py",
   "mimetype": "text/x-python",
   "name": "python",
   "nbconvert_exporter": "python",
   "pygments_lexer": "ipython3",
   "version": "3.7.3"
  }
 },
 "nbformat": 4,
 "nbformat_minor": 2
}
