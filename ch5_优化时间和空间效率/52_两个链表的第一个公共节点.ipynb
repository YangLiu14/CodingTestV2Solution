{
 "cells": [
  {
   "cell_type": "markdown",
   "metadata": {},
   "source": [
    "## 52. 两个链表的第一个公共节点\n",
    "\n",
    "输入两个链表，找出它们的第一个公共节点。\n",
    "\n",
    "### 分析\n",
    "首先来分析，如果两个单向链表有公共节点，那么从公共节点开始，之后它们所有的节点都是重合的，不可能再出现分叉。所以这样的链表，其拓扑形状看起来像一个Y，而不可能像X。\n",
    "<img src=\"images/img52.png\" style=\"width: 360px;\"/>\n",
    "\n",
    "总结起来，如果两个链表有公共节点，那么公共节点出现在两个链表的尾部。如果可以从后往前寻找，那么最后一个相同的节点就是我们要找的节点。可问题是，在单向链表中，我们只能从头节点开始按顺序遍历，最后到达尾节点。而最后到达的尾节点却要最先被比较，这“后进先出”正好可以用`stack`来实现：\n",
    "\n",
    "- 思路一：\n",
    "分别把两个链表的节点放入两个stack里，这样两个链表的尾节点就位于两个stack的栈顶，接下来比较两个栈顶是否相同，如果相同，则弹出栈顶继续下面的比较，直到找到最后一个相同的节点。\n",
    "\n",
    "上述思路中，需要用到两个辅助栈，假设他们的长度分别为m和n，那么空间复杂度是$O(m+n)$，时间复杂度也是$O(m+n)$。和蛮力法相比，提高了时间效率，相当于用空间消耗换去了时间效率。\n",
    "\n",
    "- 思路二：\n",
    "先遍历两个链表得到他们的长度，就能知道哪个链表比较长，以及长的链表比短的链表多几个节点。第二次遍历的时候，在较长的链表上先走若干步，接着同时在两个链表上遍历，找到的第一个相同的节点就是它们的第一个公共节点。这种思路的时间复杂度也是$O(m+n)$，但是我们不再需要辅助栈，因此提高了空间效率。\n",
    "\n",
    "\n",
    "[//]: # (<img src=\"images/img123.png\" style=\"width: 500px;\"/>)"
   ]
  },
  {
   "cell_type": "code",
   "execution_count": 1,
   "metadata": {},
   "outputs": [],
   "source": [
    "class ListNode:\n",
    "    def __init__(self, x):\n",
    "        self.val = x\n",
    "        self.next = None\n",
    "        \n",
    "\n",
    "def get_list_length(pHead: ListNode):\n",
    "    current_node = pHead\n",
    "    count = 0\n",
    "    while current_node is not None:\n",
    "        current_node = current_node.next\n",
    "        count += 1\n",
    "\n",
    "    return count\n",
    "\n",
    "def find_core(pHead1, pHead2, length1, length2):\n",
    "\n",
    "        len_diff = length1 - length2\n",
    "        current1 = pHead1\n",
    "        current2 = pHead2\n",
    "        # 长的链表先走\n",
    "        for i in range(len_diff):\n",
    "            current1 = current1.next\n",
    "        # 再两个链表同时遍历，找到公共节点\n",
    "        while current1 is not None and current2 is not None:\n",
    "            if current1.val == current2.val:\n",
    "                return current1\n",
    "            else:\n",
    "                current1 = current1.next\n",
    "                current2 = current2.next\n",
    "                \n",
    "        return None\n",
    "\n",
    "def find_first_common_node(pHead1, pHead2):\n",
    "    if pHead1 is None or pHead2 is None:\n",
    "        return\n",
    "    # Get the length of both linked-list\n",
    "    length1 = get_list_length(pHead1)\n",
    "    length2 = get_list_length(pHead2)\n",
    "    \n",
    "    if length1 >= length2:\n",
    "        return find_core(pHead1, pHead2, length1, length2)\n",
    "    elif length1 < length2:\n",
    "        len_diff = length2 - length1\n",
    "        return find_core(pHead2, pHead1, length2, length1)"
   ]
  },
  {
   "cell_type": "code",
   "execution_count": 2,
   "metadata": {},
   "outputs": [
    {
     "name": "stdout",
     "output_type": "stream",
     "text": [
      "6\n"
     ]
    }
   ],
   "source": [
    "# 测试1: 第一个公共节点在链表中间\n",
    "list1 = [1, 2, 3, 6, 7]\n",
    "list2 =    [4, 5, 6, 7]\n",
    "pHead1 = ListNode(1)\n",
    "current1 = pHead1\n",
    "for i in list1[1:]:\n",
    "    current1.next = ListNode(i)\n",
    "    current1 = current1.next\n",
    "\n",
    "pHead2 = ListNode(4)\n",
    "current2 = pHead2\n",
    "for i in list2[1:]:\n",
    "    current2.next = ListNode(i)\n",
    "    current2 = current2.next\n",
    "\n",
    "node = find_first_common_node(pHead1, pHead2)\n",
    "print(node.val)"
   ]
  },
  {
   "cell_type": "code",
   "execution_count": 3,
   "metadata": {},
   "outputs": [
    {
     "name": "stdout",
     "output_type": "stream",
     "text": [
      "7\n"
     ]
    }
   ],
   "source": [
    "# 测试2: 第一个公共节点在链表末尾\n",
    "list1 = [1, 2, 3, 6, 7]\n",
    "list2 =       [4, 5, 7]\n",
    "pHead1 = ListNode(1)\n",
    "current1 = pHead1\n",
    "for i in list1[1:]:\n",
    "    current1.next = ListNode(i)\n",
    "    current1 = current1.next\n",
    "\n",
    "pHead2 = ListNode(4)\n",
    "current2 = pHead2\n",
    "for i in list2[1:]:\n",
    "    current2.next = ListNode(i)\n",
    "    current2 = current2.next\n",
    "\n",
    "node = find_first_common_node(pHead1, pHead2)\n",
    "print(node.val)"
   ]
  },
  {
   "cell_type": "code",
   "execution_count": 6,
   "metadata": {},
   "outputs": [
    {
     "name": "stdout",
     "output_type": "stream",
     "text": [
      "1\n"
     ]
    }
   ],
   "source": [
    "# 测试3: 第一个公共节点是头节点\n",
    "list1 = [1, 2, 3, 6, 7]\n",
    "list2 = [1, 2, 3, 6, 7]\n",
    "pHead1 = ListNode(1)\n",
    "current1 = pHead1\n",
    "for i in list1[1:]:\n",
    "    current1.next = ListNode(i)\n",
    "    current1 = current1.next\n",
    "\n",
    "pHead2 = ListNode(1)\n",
    "current2 = pHead2\n",
    "for i in list2[1:]:\n",
    "    current2.next = ListNode(i)\n",
    "    current2 = current2.next\n",
    "\n",
    "node = find_first_common_node(pHead1, pHead2)\n",
    "print(node.val)"
   ]
  },
  {
   "cell_type": "code",
   "execution_count": 7,
   "metadata": {},
   "outputs": [
    {
     "name": "stdout",
     "output_type": "stream",
     "text": [
      "None\n"
     ]
    }
   ],
   "source": [
    "# 测试4: 没有公共节点\n",
    "node = find_first_common_node(ListNode(2), ListNode(1))\n",
    "print(node)"
   ]
  }
 ],
 "metadata": {
  "kernelspec": {
   "display_name": "Python 3",
   "language": "python",
   "name": "python3"
  },
  "language_info": {
   "codemirror_mode": {
    "name": "ipython",
    "version": 3
   },
   "file_extension": ".py",
   "mimetype": "text/x-python",
   "name": "python",
   "nbconvert_exporter": "python",
   "pygments_lexer": "ipython3",
   "version": "3.7.3"
  }
 },
 "nbformat": 4,
 "nbformat_minor": 2
}
