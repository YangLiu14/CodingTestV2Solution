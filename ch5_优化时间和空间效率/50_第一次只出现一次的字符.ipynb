{
 "cells": [
  {
   "cell_type": "markdown",
   "metadata": {},
   "source": [
    "## 50. 第一个只出现一次的字符\n",
    "\n",
    "### 题目一：\n",
    "字符串中第一个只出现一次的字符。如输入\"abaccdeff\"，则输出'b'.\n",
    "\n",
    "### 分析\n",
    "Naive的方法：如果从头开始一个个字符遍历过去，遍历一次的时间复杂度是`O(n)`，每个字符都要喝后面的字符比较一遍，总的时间复杂度是$O(n^2)$\n",
    "\n",
    "可以用一个哈希表的key存储字符，用value存储字符出现的次数。这样只需要遍历整个字符串一次。\n",
    "\n",
    "[//]: # (<img src=\"images/img123.png\" style=\"width: 400px;\"/>)"
   ]
  },
  {
   "cell_type": "code",
   "execution_count": 3,
   "metadata": {},
   "outputs": [
    {
     "name": "stdout",
     "output_type": "stream",
     "text": [
      "b\n",
      "a\n"
     ]
    }
   ],
   "source": [
    "def first_not_repeating_char(input: str):\n",
    "    if input is None or input == '':\n",
    "        return \n",
    "    char2count = dict()\n",
    "    for char in input:\n",
    "        if char in char2count.keys():\n",
    "            char2count[char] += 1\n",
    "        else:\n",
    "            char2count[char] = 1\n",
    "    \n",
    "    for char, count in char2count.items():\n",
    "        if count == 1:\n",
    "            return char\n",
    "\n",
    "# TEST\n",
    "print(first_not_repeating_char(\"abaccdeff\")) # b\n",
    "print(first_not_repeating_char(\"abcdefg\"))  # a"
   ]
  },
  {
   "cell_type": "markdown",
   "metadata": {},
   "source": [
    "#### 举一反三\n",
    "如果需要判断多个字符是不是在某个字符串里出现过或者统计多个字符在某个字符串中出现的次数，那么我们可以考虑基于数组创建数组创建一个简单的哈希表，这样可以用很小的空间消耗换来时间效率的提升。"
   ]
  },
  {
   "cell_type": "markdown",
   "metadata": {},
   "source": [
    "### 题目二：\n",
    "请实现一个函数，用来找出字符流中第一个只出现一次的字符。例如，当字符流中只读出前两个字符\"go\"时，输出\"g\"；当从该字符流中读出前6个字符\"google\"时，输出\"l\"\n",
    "\n",
    "### 分析\n",
    "还是可以用dictionary，只不过需要动态更新dict。"
   ]
  },
  {
   "cell_type": "code",
   "execution_count": null,
   "metadata": {},
   "outputs": [],
   "source": []
  }
 ],
 "metadata": {
  "kernelspec": {
   "display_name": "Python 3",
   "language": "python",
   "name": "python3"
  },
  "language_info": {
   "codemirror_mode": {
    "name": "ipython",
    "version": 3
   },
   "file_extension": ".py",
   "mimetype": "text/x-python",
   "name": "python",
   "nbconvert_exporter": "python",
   "pygments_lexer": "ipython3",
   "version": "3.7.3"
  }
 },
 "nbformat": 4,
 "nbformat_minor": 2
}
