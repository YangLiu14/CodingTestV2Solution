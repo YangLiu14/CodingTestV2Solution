{
 "cells": [
  {
   "cell_type": "markdown",
   "metadata": {},
   "source": [
    "## 47. 礼物的最大价值\n",
    "\n",
    "在一个mxn的棋盘的每一格都放有一个礼物，每个礼物都有一定的价值（价值大于0）。你可以从棋盘的**左上角**开始拿格子里的礼物，并每次**向右或者向下**移动一格，直到到达棋盘的右下角。给定一个棋盘及其上面的礼物，请计算你最多能拿到多少价值的礼物？例如：\n",
    "\n",
    "**1**  10  3  8\n",
    "\n",
    "**12**  2  9  6\n",
    "\n",
    "**5** **7** 4  11\n",
    "\n",
    "3  **7** **16** **5**\n",
    "\n",
    "能拿到最大价值为53的礼物。\n",
    "\n",
    "\n",
    "### 分析\n",
    "这是一个典型的能用**动态规划**解决的问题。\n",
    "\n",
    "递归思路：先定义第一个函数*f(i,j)*表示到达坐标为*(i,j)*的格子时候能拿到的礼物总和。因为只能向右或者向下，即到达*(i,j)*只能通过格子*(i-1, j)*或者*(i, j-1)*，所以*f(i, j) = max( f(i-1, j), f(i, j-1) + gift[i, j] )*\n",
    "\n",
    "但是递归函数有大量重复的计算，不是最优的方法。相对而言，基础循环的代码效率要高很多。为了缓存中间计算结果，我们需要一个辅助的二维数组。数组中坐标为*(i,j)*的元素表示到达坐标为*(i,j)*的格子时能拿到的礼物价值总和的最大值。\n",
    "\n",
    "[//]: # (<img src=\"images/img123.png\" style=\"width: 400px;\"/>)"
   ]
  },
  {
   "cell_type": "code",
   "execution_count": 6,
   "metadata": {},
   "outputs": [
    {
     "name": "stdout",
     "output_type": "stream",
     "text": [
      "53\n"
     ]
    }
   ],
   "source": [
    "def get_max_value(input_m: list, rows: int, cols: int):\n",
    "    if input_m is None or input_m == []:\n",
    "        return\n",
    "    if rows <= 0 or cols <= 0:\n",
    "        return\n",
    "\n",
    "    # init helper matrix, store max_value in each position\n",
    "    max_value_matrix = [[0] * cols]*rows\n",
    "    for i in range(rows):\n",
    "        for j in range(cols):\n",
    "            left = 0\n",
    "            up = 0\n",
    "\n",
    "            if i > 0:\n",
    "                up = max_value_matrix[i - 1][j]\n",
    "\n",
    "            if j > 0:\n",
    "                left = max_value_matrix[i][j - 1]\n",
    "            max_value_matrix[i][j] = max(left, up) + input_m[i*cols + j]\n",
    "\n",
    "    max_value = max_value_matrix[rows - 1][cols - 1]\n",
    "    return max_value\n",
    "\n",
    "# TEST\n",
    "matrix = [1, 10, 3, 8,\n",
    "          12, 2, 9, 6,\n",
    "          5, 7, 4, 11,\n",
    "          3, 7, 16, 5]\n",
    "\n",
    "print(get_max_value(matrix, 4, 4))"
   ]
  },
  {
   "cell_type": "code",
   "execution_count": 5,
   "metadata": {},
   "outputs": [
    {
     "name": "stdout",
     "output_type": "stream",
     "text": [
      "53\n"
     ]
    }
   ],
   "source": [
    "# 递归写法\n",
    "def get_max_value(input_m: list, rows: int, cols: int):\n",
    "    if input_m is None or input_m == []:\n",
    "        return 0\n",
    "    if len(input_m) != rows*cols:\n",
    "        return \n",
    "    if rows <= 0 or cols <=0:\n",
    "        return\n",
    "    \n",
    "    # start from the bottom left, and trace back\n",
    "    return get_max_value_recursive(input_m, rows, cols, rows-1, cols-1)\n",
    "\n",
    "\n",
    "def get_max_value_recursive(input_m: list, rows: int, cols: int, i: int, j: int):\n",
    "    if i == 0 and j == 0:\n",
    "        return input_m[0]\n",
    "\n",
    "    if i > 0 and j > 0:\n",
    "        gift = input_m[i*cols + j]\n",
    "        return max(get_max_value_recursive(input_m, rows, cols, i-1, j),\n",
    "                   get_max_value_recursive(input_m, rows, cols, i, j-1)) + gift\n",
    "    elif i == 0 and j > 0:\n",
    "        gift = input_m[i*cols + j]\n",
    "        return get_max_value_recursive(input_m, rows, cols, i, j-1) + gift\n",
    "    elif i > 0 and j == 0:\n",
    "        gift = input_m[i*cols + j]\n",
    "        return get_max_value_recursive(input_m, rows, cols, i-1, j) + gift\n",
    "\n",
    "# TEST\n",
    "matrix = [1, 10, 3, 8,\n",
    "          12, 2, 9, 6,\n",
    "          5, 7, 4, 11,\n",
    "          3, 7, 16, 5]\n",
    "\n",
    "print(get_max_value(matrix, 4, 4))"
   ]
  },
  {
   "cell_type": "code",
   "execution_count": null,
   "metadata": {},
   "outputs": [],
   "source": []
  }
 ],
 "metadata": {
  "kernelspec": {
   "display_name": "Python 3",
   "language": "python",
   "name": "python3"
  },
  "language_info": {
   "codemirror_mode": {
    "name": "ipython",
    "version": 3
   },
   "file_extension": ".py",
   "mimetype": "text/x-python",
   "name": "python",
   "nbconvert_exporter": "python",
   "pygments_lexer": "ipython3",
   "version": "3.7.3"
  }
 },
 "nbformat": 4,
 "nbformat_minor": 2
}
