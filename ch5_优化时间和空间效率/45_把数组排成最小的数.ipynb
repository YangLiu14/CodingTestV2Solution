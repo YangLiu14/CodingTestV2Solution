{
 "cells": [
  {
   "cell_type": "markdown",
   "metadata": {},
   "source": [
    "## 45. 把数组排成最小的数\n",
    "\n",
    "输入一个正整数数组，把数组里所有数字拼接起来排成一个数，打印能拼接出的所有数字中最小的一个。例如输入数组[3，32，321]，则打印出这三个数字能排成的最小数字为321323。\n",
    "\n",
    "### 分析\n",
    "最直接的方法是先求出数组中所有数字的全排列，然后找出最小的数字。求数组的排列可以用面试题38“字符串的排列”的方法。但是这题有更快的解法。\n",
    "1. 重新定义 大小等于 的概念, 比如 3 < 32 < 321,  64 < 46, 3 = 333等\n",
    "2. 有了两两之间的大小的比较之后，就可以顺利地用现有的排序方法。\n",
    "\n",
    "- 另外由于组合出来的数字很容易出现大数，我们最好用字符的形式来存储数字，而且python和C++中，字符表示的大数都可以直接比较大小。\n",
    "\n",
    "[//]: # (<img src=\"images/img123.png\" style=\"width: 400px;\"/>)"
   ]
  },
  {
   "cell_type": "code",
   "execution_count": 4,
   "metadata": {},
   "outputs": [
    {
     "name": "stdout",
     "output_type": "stream",
     "text": [
      "bigger\n",
      "bigger\n",
      "smaller\n",
      "equal\n",
      "equal\n"
     ]
    }
   ],
   "source": [
    "def compare_elements(e1: str, e2: str):\n",
    "    comb1 = ''.join([e1, e2])\n",
    "    comb2 = ''.join([e2, e1])\n",
    "    \n",
    "    if comb1 == comb2:\n",
    "        return 'equal'\n",
    "    elif comb1 > comb2:\n",
    "        return 'bigger'\n",
    "    else:\n",
    "        return 'smaller'\n",
    "    \n",
    "\n",
    "# Unit Test\n",
    "print(compare_elements('3', '32'))        # 3 > 32\n",
    "print(compare_elements('32', '321'))      # 32 > 321\n",
    "print(compare_elements('345', '64'))      # 345 < 64\n",
    "print(compare_elements('345', '345'))     # 345 = 345\n",
    "print(compare_elements('3', '3333'))      # 3 = 3333"
   ]
  },
  {
   "cell_type": "code",
   "execution_count": 7,
   "metadata": {},
   "outputs": [],
   "source": [
    "def printMinNumber_insertSort(numbers):\n",
    "    if numbers is None or numbers == []:\n",
    "        print(\"\")\n",
    "        return\n",
    "    \n",
    "    # Traverse through 1 to len(arr)\n",
    "    for i in range(1, len(numbers)):\n",
    "        key = numbers[i]\n",
    "\n",
    "        # Move elements of arr[0..i-1], that are\n",
    "        # greater than key, to one position ahead\n",
    "        # of their current position\n",
    "        j = i - 1\n",
    "        while j >= 0 and compare_elements(str(key), str(numbers[j])) == 'smaller':\n",
    "            numbers[j + 1] = numbers[j]\n",
    "            j -= 1\n",
    "        numbers[j + 1] = key\n",
    "    s = [str(i) for i in numbers]\n",
    "    print(''.join(s))"
   ]
  },
  {
   "cell_type": "code",
   "execution_count": 13,
   "metadata": {},
   "outputs": [
    {
     "name": "stdout",
     "output_type": "stream",
     "text": [
      "Input: [3, 32, 321]\n",
      "321323\n",
      "[321, 32, 3]\n",
      "\n",
      "Input: [6, 666, 39, 1563]\n",
      "1563396666\n",
      "[1563, 39, 6, 666]\n",
      "\n",
      "Input: [5, 4, 6, 1, 2, 3, 7]\n",
      "1234567\n",
      "[1, 2, 3, 4, 5, 6, 7]\n",
      "\n",
      "边界测试\n",
      "\n",
      "\n"
     ]
    }
   ],
   "source": [
    "numbers = [3, 32, 321]\n",
    "print(\"Input: {}\".format(numbers))\n",
    "printMinNumber_insertSort(numbers)\n",
    "print(numbers)\n",
    "print()\n",
    "\n",
    "numbers = [6, 666, 39, 1563]\n",
    "print(\"Input: {}\".format(numbers))\n",
    "printMinNumber_insertSort(numbers)\n",
    "print(numbers)\n",
    "print()\n",
    "\n",
    "numbers = [5, 4, 6, 1, 2, 3, 7]\n",
    "print(\"Input: {}\".format(numbers))\n",
    "printMinNumber_insertSort(numbers)\n",
    "print(numbers)\n",
    "print()\n",
    "\n",
    "print(\"边界测试\")\n",
    "numbers = []\n",
    "printMinNumber_insertSort(numbers)\n",
    "numbers = None\n",
    "printMinNumber_insertSort(numbers)"
   ]
  },
  {
   "cell_type": "code",
   "execution_count": null,
   "metadata": {},
   "outputs": [],
   "source": [
    "# TODO 把其他的sort算法也实现一遍"
   ]
  }
 ],
 "metadata": {
  "kernelspec": {
   "display_name": "Python 3",
   "language": "python",
   "name": "python3"
  },
  "language_info": {
   "codemirror_mode": {
    "name": "ipython",
    "version": 3
   },
   "file_extension": ".py",
   "mimetype": "text/x-python",
   "name": "python",
   "nbconvert_exporter": "python",
   "pygments_lexer": "ipython3",
   "version": "3.7.3"
  }
 },
 "nbformat": 4,
 "nbformat_minor": 2
}
