{
 "cells": [
  {
   "cell_type": "markdown",
   "metadata": {},
   "source": [
    "## 49. 丑数\n",
    "\n",
    "把只包含质因子2、3和5的数称作丑数（Ugly Number）。例如6、8都是丑数，但14不是，因为它包含质因子7。 习惯上我们把1当做是第一个丑数。求按从小到大的顺序的第N个丑数。\n",
    "\n",
    "### 分析\n",
    "Naive的方案：对每个数都进行检查，直到达到N个数。但是明显这样的算法不够效率。\n",
    "\n",
    "更好的方案：创建数组保存已经找到的丑数，**用空间换时间**的解法。\n",
    "\n",
    "根据定义，丑数应该是另一个丑数乘以2，3或者5的结果（1除外）。因此，我们可以创建一个数组，里面的数字是排好序的丑数，每个丑数都是前面的丑数乘以2 3 5得到的。\n",
    "\n",
    "此思路的关键在于确保如何数组里面的丑数是排好序的。假设数组中已经有若干个排好序的丑数，\n",
    "- 里面必然有一个数T-2，使得T-2之前的所有数乘以2都小于当前最大的数；\n",
    "- 里面必然有一个数T-3，使得T-3之前的所有数乘以3都小于当前最大的数；\n",
    "- 里面必然有一个数T-5，使得T-5之前的所有数乘以5都小于当前最大的数；\n",
    "\n",
    "如此我只需要 用一个数组存储所有的丑数，用三个变量分别保存T-2, T-3, T-5这三个分界点，每次分别用他们x2， x3， x5，然后找出它们三个的最小值，存入数组。\n",
    "\n",
    "[//]: # (<img src=\"images/img123.png\" style=\"width: 400px;\"/>)"
   ]
  },
  {
   "cell_type": "code",
   "execution_count": 1,
   "metadata": {},
   "outputs": [],
   "source": [
    "# Naive Method\n",
    "def is_ugly(number: int):\n",
    "    while number % 2 == 0:\n",
    "        number = number // 2\n",
    "    while number % 3 == 0:\n",
    "        number = number // 3\n",
    "    while number % 5 == 0:\n",
    "        number = number // 5\n",
    "        \n",
    "    return (number == 1)\n",
    "\n",
    "def get_ugly_number_naive(index):\n",
    "    # 遍历，略\n",
    "    pass"
   ]
  },
  {
   "cell_type": "code",
   "execution_count": 5,
   "metadata": {},
   "outputs": [],
   "source": [
    "# Better one\n",
    "def get_ugly_number(index):\n",
    "    if index <= 0 or index is None or not isinstance(index, int):\n",
    "        return 0\n",
    "\n",
    "    ugly_num_list = [0]*index\n",
    "    ugly_num_list[0] = 1\n",
    "    next_ugly_index = 1  # the index of the current max. number in the ugly_num_list\n",
    "\n",
    "    multiply2 = multiply3 = multiply5 = ugly_num_list[0]  # change ugly_num_list will change all content\n",
    "    idx2 = 0\n",
    "    idx3 = 0\n",
    "    idx5 = 0\n",
    "    while next_ugly_index < index:\n",
    "        current_min = min(multiply2 * 2, multiply3 * 3, multiply5 * 5)\n",
    "        ugly_num_list[next_ugly_index] = current_min\n",
    "\n",
    "        while multiply2 * 2 <= ugly_num_list[next_ugly_index]:\n",
    "            multiply2 = ugly_num_list[idx2 + 1]\n",
    "            idx2 += 1\n",
    "        while multiply3 * 3 <= ugly_num_list[next_ugly_index]:\n",
    "            multiply3 = ugly_num_list[idx3 + 1]\n",
    "            idx3 += 1\n",
    "        while multiply5 * 5 <= ugly_num_list[next_ugly_index]:\n",
    "            multiply5 = ugly_num_list[idx5 + 1]\n",
    "            idx5 += 1\n",
    "\n",
    "        next_ugly_index += 1\n",
    "\n",
    "    ugly = ugly_num_list[next_ugly_index - 1]\n",
    "    return ugly"
   ]
  },
  {
   "cell_type": "code",
   "execution_count": 6,
   "metadata": {},
   "outputs": [
    {
     "name": "stdout",
     "output_type": "stream",
     "text": [
      "0\n",
      "1\n",
      "2\n",
      "6\n"
     ]
    }
   ],
   "source": [
    "print(get_ugly_number(0))\n",
    "print(get_ugly_number(1))\n",
    "print(get_ugly_number(2))\n",
    "print(get_ugly_number(6))"
   ]
  }
 ],
 "metadata": {
  "kernelspec": {
   "display_name": "Python 3",
   "language": "python",
   "name": "python3"
  },
  "language_info": {
   "codemirror_mode": {
    "name": "ipython",
    "version": 3
   },
   "file_extension": ".py",
   "mimetype": "text/x-python",
   "name": "python",
   "nbconvert_exporter": "python",
   "pygments_lexer": "ipython3",
   "version": "3.7.3"
  }
 },
 "nbformat": 4,
 "nbformat_minor": 2
}
