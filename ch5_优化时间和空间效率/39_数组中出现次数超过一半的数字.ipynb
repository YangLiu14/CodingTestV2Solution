{
 "cells": [
  {
   "cell_type": "markdown",
   "metadata": {},
   "source": [
    "## 39. 数组中出现次数超过一半的数字\n",
    "\n",
    "数组中有一个数字出现的次数超过数组长度的一半，请找出这个数字。例如输入一个长度为9的数组[1,2,3,2,2,2,5,4,2]。由于数字2在数组中出现了5次，超过数组长度的一半，因此输出2。如果不存在则输出0。\n",
    "\n",
    "### 分析\n",
    "这道题的第一想法可能是先将数组排序，这样就能很容易地统计出每个数字出现的次数。而排序的时间复杂度是$O(n\\log n)$。接下来我们尝试找出更快的算法。\n",
    "\n",
    "[//]: # (<img src=\"images/img123.png\" style=\"width: 400px;\"/>)"
   ]
  },
  {
   "cell_type": "markdown",
   "metadata": {},
   "source": [
    "### 解法一：基于Partition函数的时间复杂度为$O(n)$的算法\n",
    "\n",
    "如果考虑数组的特性：数组中有一个数字出现的次数超过了数组长度的，也就是说如果对数组排序那么出现次数最多的数字一定是位于数组中间。\n",
    "\n",
    "受[Quick Sort](https://www.geeksforgeeks.org/quick-sort/)的启发，在随机快速排序算法中，我们先在数组中随机选择一个数字，然后调整整数组中数字的顺序，使得比选中的数字小的数字都排在它的左边，比选中的数字大的数字都排在它的右边。如果选中的数字的下表刚好是`n/2`，那么这个数字就是中位数；如果它的下标大于`n/2`，那么中位数应该位于它的左边，我们可以接着在它的左边部分查找。如果下标小于`n/2`，同理。"
   ]
  },
  {
   "cell_type": "code",
   "execution_count": 9,
   "metadata": {
    "collapsed": true
   },
   "outputs": [],
   "source": [
    "def more_than_half_num(numbers):\n",
    "    if check_invalid_array(numbers):\n",
    "        return 0\n",
    "    \n",
    "    middle = len(numbers) >> 1 #half of the length\n",
    "    start = 0\n",
    "    end = len(numbers) - 1\n",
    "    index = partition(numbers, start, end)\n",
    "    \n",
    "    while index != middle:\n",
    "        if index > middle:\n",
    "            end = index - 1\n",
    "            index = partition(numbers, start, end)\n",
    "        else:\n",
    "            start = index + 1\n",
    "            index = partition(numbers, start, end)\n",
    "    \n",
    "    result = numbers[middle]\n",
    "    if not check_more_than_half(numbers, result):\n",
    "        result = 0\n",
    "    return result\n",
    "\n",
    "def check_invalid_array(numbers):\n",
    "    input_invalid = False\n",
    "    if numbers is None or len(numbers) == 0:\n",
    "        input_invalid = True\n",
    "    return input_invalid\n",
    "\n",
    "def check_more_than_half(numbers, num):\n",
    "    times = 0\n",
    "    for i in range(len(numbers)):\n",
    "        if numbers[i] == num:\n",
    "            times += 1\n",
    "    \n",
    "    is_more_than_half = True\n",
    "    if times * 2 <= len(numbers):\n",
    "        is_more_than_half = False\n",
    "    \n",
    "    return is_more_than_half\n",
    "\n",
    "################################\n",
    "# partition algorithm          #\n",
    "################################\n",
    "def partition(data, start, end):\n",
    "    \"\"\"\n",
    "    This function takes last element as pivot, places\n",
    "    the pivot element at its correct position in sorted\n",
    "    array, and places all smaller (smaller than pivot)\n",
    "    to left of pivot and all greater elements to right\n",
    "    of pivot\n",
    "    \"\"\"\n",
    "    if data is None or len(data) <= 0 or start < 0 or end >= len(data):\n",
    "        raise Exception('Invalid Parameters')\n",
    "    \n",
    "    # pivot (Element to be placed at right position)\n",
    "    pivot = data[end]\n",
    "    i = start - 1 # index of smaller element\n",
    "    \n",
    "    for j in range(start, end):\n",
    "        # if current element is smaller than or equal to pivot\n",
    "        if data[j] <= pivot:\n",
    "            i += 1 # increase the index of smaller element\n",
    "            data[i], data[j] = data[j], data[i]\n",
    "            \n",
    "    data[i+1], data[end] = data[end], data[i+1]\n",
    "    return i + 1\n",
    "    "
   ]
  },
  {
   "cell_type": "code",
   "execution_count": 10,
   "metadata": {},
   "outputs": [
    {
     "name": "stdout",
     "output_type": "stream",
     "text": [
      "2\n"
     ]
    }
   ],
   "source": [
    "# Test\n",
    "test1 = [1, 2, 3, 2, 2, 2, 5, 4, 2]\n",
    "print(more_than_half_num(test1))"
   ]
  },
  {
   "cell_type": "markdown",
   "metadata": {},
   "source": [
    "###  解法二： 根据数组特点找出时间复杂度为O(n)的算法\n",
    "数组中有一个数字出现的次数超过数组长度的一半，也就是说它出现的次数比**其他所有数字**出现次数的和还要多。因此我们可以考虑在遍历数组的时候保存两个值：一个是数组中的一个数字，另一个是次数。\n",
    "\n",
    "当我们遍历到下一个数字的时候，\n",
    "- 如果下一个数字和我们前一个保存的数字相同，则次数加1\n",
    "- 如果下一个数字和我们前一个保存的数字不同，则次数减1\n",
    "- 如果次数为零，那么我们需要保存下一个数字，并把次数设为1\n",
    "\n",
    "由于我们要找的数字出现的次数比其他所有数字出现的次数之和还要多，那么要找的数字肯定是最后一次把次数设为1时对应的数字"
   ]
  },
  {
   "cell_type": "code",
   "execution_count": 16,
   "metadata": {
    "collapsed": true
   },
   "outputs": [],
   "source": [
    "def more_than_half_num2(numbers):\n",
    "    if check_invalid_array(numbers):\n",
    "        return 0\n",
    "    \n",
    "    result = numbers[0]\n",
    "    times = 1\n",
    "    \n",
    "    for i in range(1, len(numbers)):\n",
    "        if times == 0:\n",
    "            result = numbers[i]\n",
    "            times = 1\n",
    "        elif numbers[i] == result:\n",
    "            times += 1\n",
    "        else:\n",
    "            times -= 1\n",
    "    \n",
    "    if not check_more_than_half(numbers, result):\n",
    "        result = 0\n",
    "    \n",
    "    return result"
   ]
  },
  {
   "cell_type": "markdown",
   "metadata": {},
   "source": [
    "### Test"
   ]
  },
  {
   "cell_type": "code",
   "execution_count": 17,
   "metadata": {},
   "outputs": [
    {
     "name": "stdout",
     "output_type": "stream",
     "text": [
      "2\n"
     ]
    }
   ],
   "source": [
    "# Test\n",
    "test1 = [1, 2, 3, 2, 2, 2, 5, 4, 2]\n",
    "print(more_than_half_num2(test1))"
   ]
  },
  {
   "cell_type": "markdown",
   "metadata": {},
   "source": [
    "### 解法三：自己瞎整的\n",
    "\n",
    "上面的两个方法都是找到一个出现次数最多的数字（这里多多少少已经要遍历一遍数组），然后用`check_more_than_half()`函数**把整个数组遍历一遍**以确定这个数组是不是出现了一半长度以上。\n",
    "\n",
    "所以为什么不直接先遍历一遍数组，把每个数字的次数都记下来（用dictionary），然后这样不是更好比较？"
   ]
  },
  {
   "cell_type": "code",
   "execution_count": 21,
   "metadata": {
    "collapsed": true
   },
   "outputs": [],
   "source": [
    "def more_than_half_num3(numbers):\n",
    "    if check_invalid_array(numbers):\n",
    "        return 0\n",
    "    \n",
    "    elem_count_dict = {}\n",
    "    for i in range(len(numbers)):\n",
    "        if numbers[i] in elem_count_dict.keys():\n",
    "            elem_count_dict[numbers[i]] += 1\n",
    "        else:\n",
    "            elem_count_dict[numbers[i]] = 1\n",
    "    \n",
    "    # find the max_count in the dictionary and check if the max_count >= half of the len(numbers)\n",
    "    max_count = max(elem_count_dict.values())\n",
    "    if max_count > len(numbers) // 2:\n",
    "        for elem, count in elem_count_dict.items():\n",
    "            if count == max_count:\n",
    "                return elem\n",
    "    else:\n",
    "        return 0\n",
    "    "
   ]
  },
  {
   "cell_type": "code",
   "execution_count": 22,
   "metadata": {},
   "outputs": [
    {
     "name": "stdout",
     "output_type": "stream",
     "text": [
      "2\n"
     ]
    }
   ],
   "source": [
    "# Test\n",
    "test1 = [1, 2, 3, 2, 2, 2, 5, 4, 2]\n",
    "print(more_than_half_num3(test1))"
   ]
  },
  {
   "cell_type": "code",
   "execution_count": null,
   "metadata": {
    "collapsed": true
   },
   "outputs": [],
   "source": []
  }
 ],
 "metadata": {
  "kernelspec": {
   "display_name": "Python 3",
   "language": "python",
   "name": "python3"
  },
  "language_info": {
   "codemirror_mode": {
    "name": "ipython",
    "version": 3
   },
   "file_extension": ".py",
   "mimetype": "text/x-python",
   "name": "python",
   "nbconvert_exporter": "python",
   "pygments_lexer": "ipython3",
   "version": "3.6.3"
  }
 },
 "nbformat": 4,
 "nbformat_minor": 2
}
