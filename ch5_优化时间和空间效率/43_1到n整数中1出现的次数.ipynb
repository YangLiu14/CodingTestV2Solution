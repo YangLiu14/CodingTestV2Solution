{
 "cells": [
  {
   "cell_type": "markdown",
   "metadata": {},
   "source": [
    "## 43. 1到n整数中1出现的次数\n",
    "\n",
    "输入一个整数n，求1～n这n个整数的十进制表示中1出现的次数。例如，输入12，1～12这些整数中包含1的数字有1、10、11、12。但是1一共出现5次（算重复的1）。\n",
    "\n",
    "[//]: # (<img src=\"images/img123.png\" style=\"width: 400px;\"/>)"
   ]
  },
  {
   "cell_type": "markdown",
   "metadata": {},
   "source": [
    "### 找规律\n",
    "1. 以41345为例子，先算出n一共有多少位（个、十、百、前、万...）--> 5位\n",
    "2. **f(1)**: 0～9: 出现1次\n",
    "3. **f(2)**: 10～99: 十位上1可以出现10次（10～19） + 个位上1可以分别出现1次，十位有0～9九个数：**f(1)**x9 = 19次   \n",
    "4. **f(3)**: 100～999: 百位上1可以出现100次（100～199） + 剩下的十位和个位之前算过了，只要乘以前面的9个数字就行：（19+1)x9 = 280次  \n",
    "5. **f(4)**: 1000～9999: 找到规律后可以直接算出：1000（千位）+ (**f(1)+f(2)+f(3)**)x9   \n",
    "6. 所以general的公式是： $f(n) = 10^{n-1} + (f(1)+f(2)+ ... +f(n-1)) \\cdot 9$\n",
    "   - 最高位：0～39999: 出现了 f(1)+f(2)+f(3)+f(4)+ 10000 + (1+18+252+3168)x**3**\n",
    "   - 4**0000**～4**1345**这里有点特殊，先算出4**0000**～4**0999**：f(1)+f(2)+f(3)，然后4**1000**～4**1345**千位上的“1”可以出现**345**次，所以总共是：f(1)+f(2)+f(3) + **345** 次\n",
    "   - 41**000**～47**299**相当于0～299，出现了f(1)+f(2) + [100 + (18+1)x**1**] = 138次\n",
    "   - 413**00**～473**39**相当于0～39，出现了f(1)+ [10 + 1x2] = 13次\n",
    "   - 4134**0**～4734**5**相当于0～5，出现了1次\n",
    "\n",
    "这个过程实际上就是，先求出最高位上0～**4**0000出现了多少次1，剩下求次高位0～**7**000，以此类推0～**3**00，0～**4**0，0～5。总共23095次"
   ]
  },
  {
   "cell_type": "code",
   "execution_count": 1,
   "metadata": {
    "collapsed": true
   },
   "outputs": [],
   "source": [
    "def NumberOf1Between1AndN_Solution(n):\n",
    "    if not isinstance(n, int) or n < 0:\n",
    "        raise Exception(\"Input should be strictly non-negative integer!\")\n",
    "    if n == 0:\n",
    "        return 0\n",
    "\n",
    "    count_ones = 0\n",
    "    num_digits, digits = get_num_digits(n)\n",
    "\n",
    "    while len(digits) > 0:\n",
    "        count_ones += number_of_1_full_range(num_digits, digits)\n",
    "        digits = digits[1:]\n",
    "        num_digits -= 1\n",
    "\n",
    "    return count_ones\n",
    "\n",
    "\n",
    "def get_num_digits(n):\n",
    "    \"\"\"\n",
    "    Find the how many digits does int n have and return each digits in a list.\n",
    "    e.g. 21345 have 5 digits, return [2, 1, 3, 4, 5]\n",
    "    \"\"\"\n",
    "    if not isinstance(n, int):\n",
    "        raise Exception(\"Input of num_digits() should be strictly int!\")\n",
    "    count = 1\n",
    "    digits = []\n",
    "\n",
    "    while n // 10 > 0:\n",
    "        count += 1\n",
    "        # store digits reversely\n",
    "        digits.insert(0, n % 10)\n",
    "        # digits.append(n % 10)\n",
    "        n = n // 10\n",
    "    digits.insert(0, n % 10)\n",
    "    # digits.append(n % 10)\n",
    "    return count, digits\n",
    "\n",
    "def number_of_1_full_range(num_digits, digits):\n",
    "    \"\"\"\n",
    "    count how many numbers contains \"1\" from (e.g leading_digit=4):\n",
    "    0~4(num_digits = 1)\n",
    "    10~40 (num_digits = 2)\n",
    "    100~400 (num_digits = 3)\n",
    "    and so on\n",
    "    \"\"\"\n",
    "    leading_digit = digits[0]\n",
    "    if num_digits < 1 or not isinstance(num_digits, int):\n",
    "        raise Exception(\"Input must be an int bigger than 0\")\n",
    "    if leading_digit < 0 or not isinstance(leading_digit, int) or leading_digit > 9:\n",
    "        raise Exception(\"Input must be an int between 0~9\")\n",
    "\n",
    "    if num_digits == 1 and leading_digit != 0:\n",
    "        return 1\n",
    "\n",
    "    f = [1]\n",
    "    # The formular is:\n",
    "    # f(1)=1, f(2)=19\n",
    "    # f(n) = 10^(n-1) + 9 * (f(1) + f(2) + ... + f(n-1))\n",
    "    for i in range(2, num_digits):\n",
    "        f_i = 10 ** (i-1) + 9 * sum(f)\n",
    "        f.append(f_i)\n",
    "\n",
    "    if leading_digit >= 2:\n",
    "        result = 10 ** (num_digits - 1) + (leading_digit - 1) * sum(f) + sum(f)\n",
    "    elif leading_digit == 1: # special case\n",
    "        add_on = 0\n",
    "        for i in range(1, len(digits[1:])+1):\n",
    "            add_on += digits[i] * 10**(len(digits[1:]) - i)\n",
    "        result = sum(f) + 1 + add_on\n",
    "    else:\n",
    "        result = 0\n",
    "\n",
    "    return result"
   ]
  },
  {
   "cell_type": "code",
   "execution_count": 3,
   "metadata": {},
   "outputs": [
    {
     "name": "stdout",
     "output_type": "stream",
     "text": [
      "普通测试\n",
      "1\n",
      "2\n",
      "16\n",
      "20\n",
      "边界测试\n",
      "0\n",
      "1\n",
      "大数字测试\n",
      "18821\n",
      "29275\n",
      "301\n",
      "300\n"
     ]
    }
   ],
   "source": [
    "\n",
    "print(\"普通测试\")\n",
    "print(NumberOf1Between1AndN_Solution(5))\n",
    "print(NumberOf1Between1AndN_Solution(10))\n",
    "print(NumberOf1Between1AndN_Solution(55))\n",
    "print(NumberOf1Between1AndN_Solution(99))\n",
    "\n",
    "print(\"边界测试\")\n",
    "print(NumberOf1Between1AndN_Solution(0))\n",
    "print(NumberOf1Between1AndN_Solution(1))\n",
    "\n",
    "print(\"大数字测试\")\n",
    "print(NumberOf1Between1AndN_Solution(21345))\n",
    "print(NumberOf1Between1AndN_Solution(47345))\n",
    "\n",
    "print(NumberOf1Between1AndN_Solution(1000))\n",
    "print(NumberOf1Between1AndN_Solution(999))"
   ]
  }
 ],
 "metadata": {
  "kernelspec": {
   "display_name": "Python 3",
   "language": "python",
   "name": "python3"
  },
  "language_info": {
   "codemirror_mode": {
    "name": "ipython",
    "version": 3
   },
   "file_extension": ".py",
   "mimetype": "text/x-python",
   "name": "python",
   "nbconvert_exporter": "python",
   "pygments_lexer": "ipython3",
   "version": "3.6.3"
  }
 },
 "nbformat": 4,
 "nbformat_minor": 2
}
