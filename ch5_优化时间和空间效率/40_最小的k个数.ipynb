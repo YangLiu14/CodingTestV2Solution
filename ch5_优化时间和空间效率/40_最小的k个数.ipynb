{
 "cells": [
  {
   "cell_type": "markdown",
   "metadata": {},
   "source": [
    "## 40. 最小的k个数\n",
    "\n",
    "输入n个整数，找出其中最小的K个数。例如输入4,5,1,6,2,7,3,8这8个数字，则最小的4个数字是1,2,3,4。\n",
    "\n",
    "### 分析\n",
    "如果想先把数组排序的话，最快的时间复杂度也是$O(n \\log n)$。下面寻找一些复杂度为$O(n)$的算法。\n",
    "\n",
    "[//]: # (<img src=\"images/img123.png\" style=\"width: 400px;\"/>)"
   ]
  },
  {
   "cell_type": "markdown",
   "metadata": {},
   "source": [
    "### 解法一：基于Partition函数的时间复杂度为$O(n)$的算法\n",
    "只有当我们可以修改输入的数组时才可用。\n",
    "\n",
    "如果基于数组的第k个数字来调整，则使得比第k个数字小的所有数字都位于数组左边，比第k个数字大的所有数字都位于数组右边。\n",
    "\n",
    "[关于partition函数的讲解](https://www.geeksforgeeks.org/quick-sort/)"
   ]
  },
  {
   "cell_type": "code",
   "execution_count": 3,
   "metadata": {
    "collapsed": true
   },
   "outputs": [],
   "source": [
    "def get_least_numbers(input, k):\n",
    "    if check_invalid_array(input) or k > len(input):\n",
    "        return []\n",
    "    \n",
    "    start = 0\n",
    "    end = len(input) - 1\n",
    "    index = partition(input, start, end)\n",
    "    \n",
    "    while index != k - 1:\n",
    "        if index > k - 1:\n",
    "            end = index - 1\n",
    "            index = partition(input, start, end)\n",
    "        else:\n",
    "            start = index + 1\n",
    "            index = partition(input, start, end)\n",
    "    \n",
    "    output = []\n",
    "    for i in range(k):\n",
    "        output.append(input[i])\n",
    "    \n",
    "    return output\n",
    "    \n",
    "\n",
    "def check_invalid_array(numbers):\n",
    "    input_invalid = False\n",
    "    if numbers is None or len(numbers) == 0:\n",
    "        input_invalid = True\n",
    "    return input_invalid\n",
    "\n",
    "################################\n",
    "# partition algorithm          #\n",
    "################################\n",
    "def partition(data, start, end):\n",
    "    \"\"\"\n",
    "    This function takes last element as pivot, places\n",
    "    the pivot element at its correct position in sorted\n",
    "    array, and places all smaller (smaller than pivot)\n",
    "    to left of pivot and all greater elements to right\n",
    "    of pivot\n",
    "    \"\"\"\n",
    "    if data is None or len(data) <= 0 or start < 0 or end >= len(data):\n",
    "        raise Exception('Invalid Parameters')\n",
    "    \n",
    "    # pivot (Element to be placed at right position)\n",
    "    pivot = data[end]\n",
    "    i = start - 1 # index of smaller element\n",
    "    \n",
    "    for j in range(start, end):\n",
    "        # if current element is smaller than or equal to pivot\n",
    "        if data[j] <= pivot:\n",
    "            i += 1 # increase the index of smaller element\n",
    "            data[i], data[j] = data[j], data[i]\n",
    "            \n",
    "    data[i+1], data[end] = data[end], data[i+1]\n",
    "    return i + 1\n",
    "    "
   ]
  },
  {
   "cell_type": "code",
   "execution_count": 4,
   "metadata": {},
   "outputs": [
    {
     "name": "stdout",
     "output_type": "stream",
     "text": [
      "[1, 2, 3, 4]\n"
     ]
    }
   ],
   "source": [
    "# Test\n",
    "a = [4, 5, 6, 1, 2, 7, 3, 8]\n",
    "print(get_least_numbers(a, 4))"
   ]
  },
  {
   "cell_type": "markdown",
   "metadata": {},
   "source": [
    "这个思路有一定的限制，因为partition函数会调整数组中数字的顺序。"
   ]
  },
  {
   "cell_type": "markdown",
   "metadata": {},
   "source": [
    "###  解法二： 时间复杂度为$O(n \\log k)$的算法，适合处理海量数据\n",
    "1. 创建一个容量为k的容器，遍历input前k个数字时直接放进这个容器里。\n",
    "2. 容器满了之后，将待插入的整数和容器内的最大值进行比较，决定进行替换或者不插入。\n",
    "\n",
    "观察到容器满了之后，我们要做3件事情。\n",
    "\n",
    "一是在k个整数中找到最大数；二是有可能在这个容器中删除最大数；三是有可能要插入一个新的数字。\n",
    "\n",
    "如果用**二叉树**来实现这个容器，那么我们能在$O(\\log k)$时间内实现这3步操作。因此对于n个输入数字而言，总的时间效率就是$O(n \\log k)$\n",
    "\n",
    "##### 如何选择二叉树的类型？\n",
    "由于每次都需要找到k个整数中的最大数字，我们很容易想到用[max heap](http://courses.cs.vt.edu/cs2604/spring02/Notes/C07.Heaps.pdf). 在最大堆中，根节点的值总是大于它的子树中任意节点的值。于是我们每次可以在O(1)时间内得到已有的k个数字中的最大值，但是需要O(log k)时间完成删除已经插入操作。\n",
    "\n",
    "Python里的`heapq`库已经有了完整的`min heap`和不是很完整的`max heap`的implementation。\n",
    "```python\n",
    "import heapq\n",
    "############\n",
    "# min heap #\n",
    "############\n",
    "minheap = [1, 2, 3, 4, 5, 6, 7, 8, 9]    \n",
    "heapq.heapify(minheap)       \n",
    "# Get current min\n",
    "current_min = heapq.heappop(minheap) \n",
    "# Push new element in minheap\n",
    "heapq.heappush(minheap, 10)\n",
    "\n",
    "############\n",
    "# max heap #\n",
    "############\n",
    "maxheap = [1, 2, 3, 4, 5, 6, 7, 8, 9] \n",
    "heapq._heapify_max(maxheap)\n",
    "# Get current max\n",
    "current_max = heapq._heappop_max(maxheap)\n",
    "# Push new element in maxheap, but you need to rearrange it to a maxheap\n",
    "heapq.heappush(minheap, 10)\n",
    "heapq._heapify_max(maxheap)\n",
    "```"
   ]
  },
  {
   "cell_type": "code",
   "execution_count": 5,
   "metadata": {
    "collapsed": true
   },
   "outputs": [],
   "source": [
    "import heapq\n",
    "\n",
    "def get_least_numbers2(input, k):\n",
    "    if check_invalid_array(input) or k > len(input):\n",
    "        return []\n",
    "    \n",
    "    maxheap_container = []\n",
    "    for i in range(len(input)):\n",
    "        if len(maxheap_container) == k:\n",
    "            # find current_max\n",
    "            current_max = heapq._heappop_max(maxheap_container)\n",
    "            # compare current_max with input[i]\n",
    "            if input[i] < current_max:\n",
    "                heapq.heappush(maxheap_container, input[i])\n",
    "                heapq._heapify_max(maxheap_container)\n",
    "            else:\n",
    "                heapq.heappush(maxheap_container, current_max)\n",
    "                heapq._heapify_max(maxheap_container)\n",
    "        else:\n",
    "            maxheap_container.append(input[i])\n",
    "            heapq._heapify_max(maxheap_container)\n",
    "    \n",
    "    return maxheap_container\n",
    "\n",
    "def check_invalid_array(numbers):\n",
    "    input_invalid = False\n",
    "    if numbers is None or len(numbers) == 0:\n",
    "        input_invalid = True\n",
    "    return input_invalid"
   ]
  },
  {
   "cell_type": "markdown",
   "metadata": {},
   "source": [
    "### Test"
   ]
  },
  {
   "cell_type": "code",
   "execution_count": 6,
   "metadata": {},
   "outputs": [
    {
     "name": "stdout",
     "output_type": "stream",
     "text": [
      "[4, 3, 1, 2]\n"
     ]
    }
   ],
   "source": [
    "# Test\n",
    "a = [4, 5, 6, 1, 2, 7, 3, 8]\n",
    "print(get_least_numbers2(a, 4))"
   ]
  },
  {
   "cell_type": "markdown",
   "metadata": {
    "collapsed": true
   },
   "source": [
    "### 两种解法的特点比较\n",
    "<img src=\"images/img40.png\" style=\"width: 500px;\"/>"
   ]
  },
  {
   "cell_type": "code",
   "execution_count": null,
   "metadata": {
    "collapsed": true
   },
   "outputs": [],
   "source": []
  }
 ],
 "metadata": {
  "kernelspec": {
   "display_name": "Python 3",
   "language": "python",
   "name": "python3"
  },
  "language_info": {
   "codemirror_mode": {
    "name": "ipython",
    "version": 3
   },
   "file_extension": ".py",
   "mimetype": "text/x-python",
   "name": "python",
   "nbconvert_exporter": "python",
   "pygments_lexer": "ipython3",
   "version": "3.7.3"
  }
 },
 "nbformat": 4,
 "nbformat_minor": 2
}
