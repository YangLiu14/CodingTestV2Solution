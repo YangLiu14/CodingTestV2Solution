{
 "cells": [
  {
   "cell_type": "markdown",
   "metadata": {},
   "source": [
    "## 38. 字符串的排列\n",
    "\n",
    "输入一个字符串,按字典序打印出该字符串中字符的所有排列。例如输入字符串abc,则打印出由字符a,b,c所能排列出来的所有字符串abc,acb,bac,bca,cab和cba。\n",
    "\n",
    "### 分析\n",
    "把字符串的排列看成两部分，第一部分是第一个字符，第二部分是后面的所有字符。\n",
    "\n",
    "第一步求所有可能出现在第一个位置的字符， 即把第一个字符和后面所有的字符交换。第二步固定第一个字符，求后面所有字符的排列，以及这个字符之后的所有字符（这个描述已经非常“递归”了）。\n",
    "<img src=\"images/img38_a.png\" style=\"width: 480px;\"/>\n",
    "\n",
    "[//]: # (<img src=\"images/img123.png\" style=\"width: 400px;\"/>)"
   ]
  },
  {
   "cell_type": "code",
   "execution_count": 1,
   "metadata": {
    "collapsed": true
   },
   "outputs": [],
   "source": [
    "def permutation(ss):\n",
    "    if ss is None or ss == '' or not isinstance(ss, str):\n",
    "        return\n",
    "\n",
    "    permutation_recursive(list(ss), 0)\n",
    "\n",
    "def permutation_recursive(char_list, index):\n",
    "    if index == len(char_list):\n",
    "        print(\"\".join(char_list))\n",
    "\n",
    "    else:\n",
    "        for i in range(index, len(char_list)):\n",
    "            # swap position\n",
    "            char_list[i], char_list[index] = char_list[index], char_list[i]\n",
    "            permutation_recursive(char_list, index + 1)\n",
    "            # swap back\n",
    "            char_list[i], char_list[index] = char_list[index], char_list[i]"
   ]
  },
  {
   "cell_type": "markdown",
   "metadata": {},
   "source": [
    "### Code分析\n",
    "在`permutation_recursive`函数里，如果把for循环和递归展开分析（ 假设`len(char_list) == n` ）：\n",
    "```py\n",
    "for i in range(0, n):\n",
    "    # 第一个字符的所有可能性（把第一个字符和所有字符（包括自己）交换位置）\n",
    "    \n",
    "    for i in range(1, n):\n",
    "        # 第二字符的所有可能性（把第二个字符和所有字符（包括自己）交换位置）\n",
    "        \n",
    "        for i in range(2, n):\n",
    "            # 第三字符的所有可能性\n",
    "           \n",
    "            ...\n",
    "            for i in range(n-1, n):\n",
    "                \n",
    "                # swap(i, n-1)\n",
    "                permutation_recursive(char_list, n) # --> 此时打印出这个组合\n",
    "                \n",
    "                #回到上一层递归\n",
    "                # swap back：把之前的交换过的两个char又换回原来的位置，以便于继续往下循环。\n",
    "                \n",
    "            # for-loop结束：回到上一层递归\n",
    "            # swap back\n",
    "            # 继续下一个iteration\n",
    "            ...\n",
    "        ...\n",
    "```"
   ]
  },
  {
   "cell_type": "markdown",
   "metadata": {},
   "source": [
    "### Test"
   ]
  },
  {
   "cell_type": "code",
   "execution_count": 2,
   "metadata": {},
   "outputs": [
    {
     "name": "stdout",
     "output_type": "stream",
     "text": [
      "abc\n",
      "acb\n",
      "bac\n",
      "bca\n",
      "cba\n",
      "cab\n"
     ]
    }
   ],
   "source": [
    "permutation('abc')"
   ]
  },
  {
   "cell_type": "code",
   "execution_count": 3,
   "metadata": {
    "collapsed": true
   },
   "outputs": [],
   "source": [
    "permutation(12)"
   ]
  },
  {
   "cell_type": "markdown",
   "metadata": {},
   "source": [
    "### 更完美的排列\n",
    "仔细观察`permutation('abc')`的输出其实是有问题的:\n",
    "\n",
    "abc acb bac bca **cba cab**\n",
    "\n",
    "而实际上我们需要：\n",
    "\n",
    "abc acb bac bca **cab cba**\n",
    "\n",
    "问题出在swap上，简单进行swap时，会打乱原来的顺序，造成上面这样的情况。所以instead of进行swap操作，我们应该直接把element移动到第一位，在回到上一层递归之前，再把移动过的element移动到之前的位置。"
   ]
  },
  {
   "cell_type": "code",
   "execution_count": 4,
   "metadata": {
    "collapsed": true
   },
   "outputs": [],
   "source": [
    "def permutation2(ss):\n",
    "    if ss is None or ss == '' or not isinstance(ss, str):\n",
    "        return\n",
    "\n",
    "    permutation_recursive(list(ss), 0)\n",
    "\n",
    "def permutation_recursive(char_list, index):\n",
    "    if index == len(char_list):\n",
    "        print(\"\".join(char_list))\n",
    "\n",
    "    else:\n",
    "        for i in range(index, len(char_list)):\n",
    "            # move to certain position\n",
    "            move_to_index(char_list, i, index)\n",
    "            permutation_recursive(char_list, index + 1)\n",
    "            # move back\n",
    "            move_to_index(char_list, index, i)\n",
    "\n",
    "def move_to_index(array, old_index, new_index):\n",
    "    \"\"\"\n",
    "    move the element in place <old_index> to the <new_index> of the list <array>\n",
    "    \"\"\"\n",
    "    target_char = array.pop(old_index)\n",
    "    array.insert(new_index, target_char)\n",
    "    \n",
    "    return array"
   ]
  },
  {
   "cell_type": "code",
   "execution_count": 5,
   "metadata": {},
   "outputs": [
    {
     "name": "stdout",
     "output_type": "stream",
     "text": [
      "abc\n",
      "acb\n",
      "bac\n",
      "bca\n",
      "cab\n",
      "cba\n"
     ]
    }
   ],
   "source": [
    "permutation2('abc')"
   ]
  },
  {
   "cell_type": "code",
   "execution_count": 6,
   "metadata": {},
   "outputs": [
    {
     "name": "stdout",
     "output_type": "stream",
     "text": [
      "1234\n",
      "1243\n",
      "1324\n",
      "1342\n",
      "1423\n",
      "1432\n",
      "2134\n",
      "2143\n",
      "2314\n",
      "2341\n",
      "2413\n",
      "2431\n",
      "3124\n",
      "3142\n",
      "3214\n",
      "3241\n",
      "3412\n",
      "3421\n",
      "4123\n",
      "4132\n",
      "4213\n",
      "4231\n",
      "4312\n",
      "4321\n"
     ]
    }
   ],
   "source": [
    "permutation2('1234')"
   ]
  },
  {
   "cell_type": "markdown",
   "metadata": {},
   "source": [
    "### 有重复字符的输入\n",
    "上述的code有一个缺点，无法识别重复的字符。如果有重复的字符，会有重复打印，比如如下情况。"
   ]
  },
  {
   "cell_type": "code",
   "execution_count": 7,
   "metadata": {},
   "outputs": [
    {
     "name": "stdout",
     "output_type": "stream",
     "text": [
      "Abb\n",
      "Abb\n",
      "bAb\n",
      "bbA\n",
      "bAb\n",
      "bbA\n"
     ]
    }
   ],
   "source": [
    "permutation('Abb')"
   ]
  },
  {
   "cell_type": "markdown",
   "metadata": {},
   "source": [
    "下面希望修改一下上述的code，从而避免这样的情况发生。最简单的办法，当然是用一个变量存下所有的组合，每次把一个新的字符串组合加入的时候都检查一下是否有重复。"
   ]
  },
  {
   "cell_type": "code",
   "execution_count": 8,
   "metadata": {
    "collapsed": true
   },
   "outputs": [],
   "source": [
    "class Solution:\n",
    "    def __init__(self):\n",
    "        self.all_combination = []\n",
    "        \n",
    "    def permutation(self, ss):\n",
    "        if ss is None or ss == '' or not isinstance(ss, str):\n",
    "            return\n",
    "\n",
    "        self.permutation_recursive(list(ss), 0)\n",
    "\n",
    "    def permutation_recursive(self, char_list, index):\n",
    "        if index == len(char_list):\n",
    "            comb_str = \"\".join(char_list)\n",
    "            if comb_str not in self.all_combination:\n",
    "                self.all_combination.append(comb_str)\n",
    "\n",
    "        else:\n",
    "            for i in range(index, len(char_list)):\n",
    "                # move to  position\n",
    "                self.move_to_index(char_list, i, index)\n",
    "                self.permutation_recursive(char_list, index + 1)\n",
    "                # move back\n",
    "                self.move_to_index(char_list, index, i)\n",
    "                \n",
    "    def move_to_index(self, array, old_index, new_index):\n",
    "        \"\"\"\n",
    "        move the element in place <old_index> to the <new_index> of the list <array>\n",
    "        \"\"\"\n",
    "        target_char = array.pop(old_index)\n",
    "        array.insert(new_index, target_char)\n",
    "\n",
    "        return array\n",
    "    \n",
    "    def clear_combinations(self):\n",
    "        self.all_combination = []"
   ]
  },
  {
   "cell_type": "code",
   "execution_count": 9,
   "metadata": {},
   "outputs": [
    {
     "name": "stdout",
     "output_type": "stream",
     "text": [
      "['Abb', 'bAb', 'bbA']\n",
      "['123', '132', '213', '231', '312', '321']\n",
      "1234\n",
      "1243\n",
      "1324\n",
      "1342\n",
      "1423\n",
      "1432\n",
      "2134\n",
      "2143\n",
      "2314\n",
      "2341\n",
      "2413\n",
      "2431\n",
      "3124\n",
      "3142\n",
      "3214\n",
      "3241\n",
      "3412\n",
      "3421\n",
      "4123\n",
      "4132\n",
      "4213\n",
      "4231\n",
      "4312\n",
      "4321\n"
     ]
    }
   ],
   "source": [
    "# Test\n",
    "solution = Solution()\n",
    "solution.permutation('Abb')\n",
    "print(solution.all_combination)\n",
    "\n",
    "solution.clear_combinations()\n",
    "solution.permutation('123')\n",
    "print(solution.all_combination)\n",
    "\n",
    "solution.clear_combinations()\n",
    "solution.permutation('1234')\n",
    "for i in solution.all_combination:\n",
    "    print(i)"
   ]
  },
  {
   "cell_type": "markdown",
   "metadata": {
    "collapsed": true
   },
   "source": [
    "### 扩展1：求字符的所有组合\n",
    "举例：还是输入三个字符，a，b，c，则它们的组合有：a,b,c,ab,ac,bc,abc。注意ab和bc只能算一个组合。\n",
    "\n",
    "#### 分析：\n",
    "还是按上面的思路将问题拆分，第一步从n个字符种挑出组合的第一个字符，第二步对剩下的n-1个字符做同样的操作。"
   ]
  },
  {
   "cell_type": "code",
   "execution_count": 10,
   "metadata": {
    "collapsed": true
   },
   "outputs": [],
   "source": [
    "def combination_select(ss):\n",
    "    if ss is None or ss == '' or not isinstance(ss, str):\n",
    "        return\n",
    "\n",
    "    combination_recursive(list(ss), '')\n",
    "\n",
    "def combination_recursive(char_list, start_char):\n",
    "    if char_list == []:\n",
    "        return\n",
    "\n",
    "    for i in range(len(char_list)):\n",
    "        # pick the first char, combined with the start_char and print\n",
    "        print(start_char + char_list[i])\n",
    "        # calculate the reset of the char_list\n",
    "        combination_recursive(char_list[i+1:], start_char + char_list[i])\n",
    "\n",
    "# 备注：\n",
    "# 这里只假设输入的字符串里没有重复的字符，如果有重复的字符，可以用上面一样的处理方法，\n",
    "# 把method写在class里，然后用一个array存储所有的输出确保没有重复。"
   ]
  },
  {
   "cell_type": "code",
   "execution_count": 11,
   "metadata": {},
   "outputs": [
    {
     "name": "stdout",
     "output_type": "stream",
     "text": [
      "a\n",
      "ab\n",
      "abc\n",
      "ac\n",
      "b\n",
      "bc\n",
      "c\n"
     ]
    }
   ],
   "source": [
    "combination_select('abc')"
   ]
  },
  {
   "cell_type": "code",
   "execution_count": 12,
   "metadata": {},
   "outputs": [
    {
     "name": "stdout",
     "output_type": "stream",
     "text": [
      "a\n",
      "ab\n",
      "abc\n",
      "abcd\n",
      "abd\n",
      "ac\n",
      "acd\n",
      "ad\n",
      "b\n",
      "bc\n",
      "bcd\n",
      "bd\n",
      "c\n",
      "cd\n",
      "d\n"
     ]
    }
   ],
   "source": [
    "combination_select('abcd')"
   ]
  },
  {
   "cell_type": "markdown",
   "metadata": {
    "collapsed": true
   },
   "source": [
    "## 相关题目1：\n",
    "输入一个含有8个数字的数组，判断有没有可能把这8个数字分别放到正方体的8个顶点上，使得正方体上三组相对的面上的4个顶点的和都相等\n",
    "<img src=\"images/img38_b.png\" style=\"width: 200px;\"/>\n",
    "\n",
    "### 分析\n",
    "这相当于先得到`a1,a2,a3,a4,a5,a5,a6,a7,a8`这8个数字的所有排列，然后判断有没有某一个排列符合题目的条件：\n",
    "```\n",
    "a1+a2+a3+a4 = a5+a6+a7+a8  &&\n",
    "a1+a3+a5+a7 = a2+a4+a6+a8  &&\n",
    "a1+a2+a5+a6 = a3+a4+a7+a8\n",
    "```"
   ]
  },
  {
   "cell_type": "markdown",
   "metadata": {},
   "source": [
    "## 相关题目2: 八皇后问题\n",
    "在8x8的国际象棋上摆放8个皇后，使其不能相互攻击，即任意两个皇后不得处在同一行，同一列或者同一条对角线上。请问一共有多少种符合条件的摆法。\n",
    "<img src=\"images/img38_c.png\" style=\"width: 200px;\"/>\n",
    "\n",
    "### 分析\n",
    "由于8个皇后的任意两个不能出在同一行，那么肯定是每一个皇后占据一行。所以可以确定每行都有一个Queen，接下来只需要确定每行的Queen排在第几列即可。\n",
    "\n",
    "于是可以定义一个size=8的数组`column_index = [0, 1, 2, 3, 4, 5, 6, 7]`，第i个element的数值x，表示第i行的Queen排在第x列。也就是说第i个Queen的位置为：`(i, column_index[i])`\n",
    "\n",
    "对这8个数字进行全排列，对每个排列进行判断，如果两两Queen进行比较，`abs(row1 - row2) == abs(col1 - col2)`则不符合。\n"
   ]
  },
  {
   "cell_type": "code",
   "execution_count": 13,
   "metadata": {
    "collapsed": true
   },
   "outputs": [],
   "source": [
    "class EightQueenSolution:\n",
    "    def __init__(self):\n",
    "        self.all_combination = []\n",
    "\n",
    "    def permutation(self, array):\n",
    "        if array is None or array == [] or not isinstance(array, list):\n",
    "            return\n",
    "\n",
    "        self.permutation_recursive(array, 0)\n",
    "\n",
    "    def permutation_recursive(self, array, index):\n",
    "        if index == len(array):\n",
    "            a = self.check_queens_configuration(array)\n",
    "            if self.check_queens_configuration(array) and (array not in self.all_combination):\n",
    "                self.all_combination.append(array.copy())\n",
    "        else:\n",
    "            for i in range(index, len(array)):\n",
    "                # move to  position\n",
    "                self.move_to_index(array, i, index)\n",
    "                self.permutation_recursive(array, index + 1)\n",
    "                # move back\n",
    "                self.move_to_index(array, index, i)\n",
    "\n",
    "    def check_queens_configuration(self, column_indexes):\n",
    "        \"\"\"\n",
    "        对Queen的位置两两比较，在同一对角线上则返回False。\n",
    "        \"\"\"\n",
    "        for row1 in range(len(column_indexes)):\n",
    "            for row2 in range(row1 + 1, len(column_indexes)):\n",
    "                col1 = column_indexes[row1]\n",
    "                col2 = column_indexes[row2]\n",
    "                if abs(row1 - row2) == abs(col1 - col2):\n",
    "                    return False\n",
    "        return True\n",
    "\n",
    "    def move_to_index(self, array, old_index, new_index):\n",
    "        \"\"\"\n",
    "        move the element in place <old_index> to the <new_index> of the list <array>\n",
    "        \"\"\"\n",
    "        target_char = array.pop(old_index)\n",
    "        array.insert(new_index, target_char)\n",
    "\n",
    "        return array\n",
    "\n",
    "    def print_board(self, column_indexes):\n",
    "\n",
    "        for i in range(8):\n",
    "            row = ['▫️', '▫️', '▫️', '▫️', '▫️', '▫️', '▫️', '▫️']\n",
    "            row[column_indexes[i]] = '♛'\n",
    "            print(\"\".join(row))\n",
    "\n",
    "    def clear_combinations(self):\n",
    "        self.all_combination = []"
   ]
  },
  {
   "cell_type": "code",
   "execution_count": 17,
   "metadata": {},
   "outputs": [
    {
     "name": "stdout",
     "output_type": "stream",
     "text": [
      "Total number of configurations: 92\n",
      "\n",
      "Board configuration 1:\n",
      "▫️▫️♛▫️▫️▫️▫️▫️\n",
      "♛▫️▫️▫️▫️▫️▫️▫️\n",
      "▫️▫️▫️▫️▫️▫️♛▫️\n",
      "▫️▫️▫️▫️♛▫️▫️▫️\n",
      "▫️▫️▫️▫️▫️▫️▫️♛\n",
      "▫️♛▫️▫️▫️▫️▫️▫️\n",
      "▫️▫️▫️♛▫️▫️▫️▫️\n",
      "▫️▫️▫️▫️▫️♛▫️▫️\n",
      "\n",
      "Board configuration 2:\n",
      "▫️▫️▫️▫️▫️♛▫️▫️\n",
      "▫️▫️♛▫️▫️▫️▫️▫️\n",
      "▫️▫️▫️▫️▫️▫️♛▫️\n",
      "▫️♛▫️▫️▫️▫️▫️▫️\n",
      "▫️▫️▫️▫️▫️▫️▫️♛\n",
      "▫️▫️▫️▫️♛▫️▫️▫️\n",
      "♛▫️▫️▫️▫️▫️▫️▫️\n",
      "▫️▫️▫️♛▫️▫️▫️▫️\n"
     ]
    }
   ],
   "source": [
    "eight_queens = EightQueenSolution()\n",
    "column_indexes = [0, 1, 2, 3, 4, 5, 6, 7]\n",
    "eight_queens.permutation(column_indexes)\n",
    "print(\"Total number of configurations: {}\".format(len(eight_queens.all_combination)))\n",
    "print(\"\")\n",
    "\n",
    "# print two of the board configurations\n",
    "print(\"Board configuration 1:\")\n",
    "eight_queens.print_board(eight_queens.all_combination[12])\n",
    "print(\"\")\n",
    "print(\"Board configuration 2:\")\n",
    "eight_queens.print_board(eight_queens.all_combination[73])\n"
   ]
  },
  {
   "cell_type": "markdown",
   "metadata": {
    "collapsed": true
   },
   "source": [
    "### 举一反三\n",
    "\n",
    "如果面试题是按照一定要求摆放若干个数字，则可以先求出这些数字的所有排列，然后一一判断每个排列是不是满足题目要求"
   ]
  },
  {
   "cell_type": "code",
   "execution_count": null,
   "metadata": {
    "collapsed": true
   },
   "outputs": [],
   "source": []
  }
 ],
 "metadata": {
  "kernelspec": {
   "display_name": "Python 3",
   "language": "python",
   "name": "python3"
  },
  "language_info": {
   "codemirror_mode": {
    "name": "ipython",
    "version": 3
   },
   "file_extension": ".py",
   "mimetype": "text/x-python",
   "name": "python",
   "nbconvert_exporter": "python",
   "pygments_lexer": "ipython3",
   "version": "3.6.3"
  }
 },
 "nbformat": 4,
 "nbformat_minor": 2
}
