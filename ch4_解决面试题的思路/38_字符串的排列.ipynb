{
 "cells": [
  {
   "cell_type": "markdown",
   "metadata": {},
   "source": [
    "## 38. 字符串的排列\n",
    "\n",
    "输入一个字符串,按字典序打印出该字符串中字符的所有排列。例如输入字符串abc,则打印出由字符a,b,c所能排列出来的所有字符串abc,acb,bac,bca,cab和cba。\n",
    "\n",
    "### 分析\n",
    "把字符串的排列看成两部分，第一部分是第一个字符，第二部分是后面的所有字符。\n",
    "\n",
    "第一步求所有可能出现在第一个位置的字符， 即把第一个字符和后面所有的字符交换。第二步固定第一个字符，求后面所有字符的排列，以及这个字符之后的所有字符（这个描述已经非常“递归”了）。\n",
    "<img src=\"images/img38.png\" style=\"width: 480px;\"/>\n",
    "\n",
    "[//]: # (<img src=\"images/img123.png\" style=\"width: 400px;\"/>)"
   ]
  },
  {
   "cell_type": "code",
   "execution_count": 3,
   "metadata": {
    "collapsed": true
   },
   "outputs": [],
   "source": [
    "def permutation(ss):\n",
    "    if ss is None or ss == '' or not isinstance(ss, str):\n",
    "        return\n",
    "\n",
    "    permutation_recursive(list(ss), 0)\n",
    "\n",
    "def permutation_recursive(char_list, index):\n",
    "    if index == len(char_list):\n",
    "        print(\"\".join(char_list))\n",
    "\n",
    "    else:\n",
    "        for i in range(index, len(char_list)):\n",
    "            # swap position\n",
    "            char_list[i], char_list[index] = char_list[index], char_list[i]\n",
    "            permutation_recursive(char_list, index + 1)\n",
    "            # swap back\n",
    "            char_list[i], char_list[index] = char_list[index], char_list[i]"
   ]
  },
  {
   "cell_type": "markdown",
   "metadata": {},
   "source": [
    "### Code分析\n",
    "在`permutation_recursive`函数里，如果把for循环和递归展开分析（ 假设`len(char_list) == n` ）：\n",
    "```py\n",
    "for i in range(0, n):\n",
    "    # 第一个字符的所有可能性（把第一个字符和所有字符（包括自己）交换位置）\n",
    "    \n",
    "    for i in range(1, n):\n",
    "        # 第二字符的所有可能性（把第二个字符和所有字符（包括自己）交换位置）\n",
    "        \n",
    "        for i in range(2, n):\n",
    "            # 第三字符的所有可能性\n",
    "           \n",
    "            ...\n",
    "            for i in range(n-1, n):\n",
    "                \n",
    "                # swap(i, n-1)\n",
    "                permutation_recursive(char_list, n) # --> 此时打印出这个组合\n",
    "                \n",
    "                #回到上一层递归\n",
    "                # swap back：把之前的交换过的两个char又换回原来的位置，以便于继续往下循环。\n",
    "                \n",
    "            # for-loop结束：回到上一层递归\n",
    "            # swap back\n",
    "            # 继续下一个iteration\n",
    "            ...\n",
    "        ...\n",
    "```"
   ]
  },
  {
   "cell_type": "markdown",
   "metadata": {},
   "source": [
    "### Test"
   ]
  },
  {
   "cell_type": "code",
   "execution_count": 4,
   "metadata": {},
   "outputs": [
    {
     "name": "stdout",
     "output_type": "stream",
     "text": [
      "abc\n",
      "acb\n",
      "bac\n",
      "bca\n",
      "cba\n",
      "cab\n"
     ]
    }
   ],
   "source": [
    "permutation('abc')"
   ]
  },
  {
   "cell_type": "code",
   "execution_count": 5,
   "metadata": {
    "collapsed": true
   },
   "outputs": [],
   "source": [
    "permutation(12)"
   ]
  },
  {
   "cell_type": "markdown",
   "metadata": {},
   "source": [
    "### 更完美的排列\n",
    "仔细观察`permutation('abc')`的输出其实是有问题的:\n",
    "\n",
    "abc acb bac bca **cba cab**\n",
    "\n",
    "而实际上我们需要：\n",
    "\n",
    "abc acb bac bca **cab cba**\n",
    "\n",
    "问题出在swap上，简单进行swap时，会打乱原来的顺序，造成上面这样的情况。所以instead of进行swap操作，我们应该直接把element移动到第一位，在回到上一层递归之前，再把移动过的element移动到之前的位置。"
   ]
  },
  {
   "cell_type": "code",
   "execution_count": 22,
   "metadata": {
    "collapsed": true
   },
   "outputs": [],
   "source": [
    "def permutation2(ss):\n",
    "    if ss is None or ss == '' or not isinstance(ss, str):\n",
    "        return\n",
    "\n",
    "    permutation_recursive(list(ss), 0)\n",
    "\n",
    "def permutation_recursive(char_list, index):\n",
    "    if index == len(char_list):\n",
    "        print(\"\".join(char_list))\n",
    "\n",
    "    else:\n",
    "        for i in range(index, len(char_list)):\n",
    "            # move to certain position\n",
    "            move_to_index(char_list, i, index)\n",
    "            permutation_recursive(char_list, index + 1)\n",
    "            # move back\n",
    "            move_to_index(char_list, index, i)\n",
    "\n",
    "def move_to_index(array, old_index, new_index):\n",
    "    \"\"\"\n",
    "    move the element in place <old_index> to the <new_index> of the list <array>\n",
    "    \"\"\"\n",
    "    target_char = array.pop(old_index)\n",
    "    array.insert(new_index, target_char)\n",
    "    \n",
    "    return array"
   ]
  },
  {
   "cell_type": "code",
   "execution_count": 18,
   "metadata": {},
   "outputs": [
    {
     "name": "stdout",
     "output_type": "stream",
     "text": [
      "abc\n",
      "acb\n",
      "bac\n",
      "bca\n",
      "cab\n",
      "cba\n"
     ]
    }
   ],
   "source": [
    "permutation2('abc')"
   ]
  },
  {
   "cell_type": "code",
   "execution_count": 23,
   "metadata": {},
   "outputs": [
    {
     "name": "stdout",
     "output_type": "stream",
     "text": [
      "1234\n",
      "1243\n",
      "1324\n",
      "1342\n",
      "1423\n",
      "1432\n",
      "2134\n",
      "2143\n",
      "2314\n",
      "2341\n",
      "2413\n",
      "2431\n",
      "3124\n",
      "3142\n",
      "3214\n",
      "3241\n",
      "3412\n",
      "3421\n",
      "4123\n",
      "4132\n",
      "4213\n",
      "4231\n",
      "4312\n",
      "4321\n"
     ]
    }
   ],
   "source": [
    "permutation2('1234')"
   ]
  },
  {
   "cell_type": "markdown",
   "metadata": {},
   "source": [
    "### 有重复字符的输入\n",
    "上述的code有一个缺点，无法识别重复的字符。如果有重复的字符，会有重复打印，比如如下情况。"
   ]
  },
  {
   "cell_type": "code",
   "execution_count": 7,
   "metadata": {},
   "outputs": [
    {
     "name": "stdout",
     "output_type": "stream",
     "text": [
      "Abb\n",
      "Abb\n",
      "bAb\n",
      "bbA\n",
      "bbA\n",
      "bAb\n"
     ]
    }
   ],
   "source": [
    "permutation('Abb')"
   ]
  },
  {
   "cell_type": "markdown",
   "metadata": {},
   "source": [
    "下面希望修改一下上述的code，从而避免这样的情况发生。最简单的办法，当然是用一个变量存下所有的组合，每次把一个新的字符串组合加入的时候都检查一下是否有重复。"
   ]
  },
  {
   "cell_type": "code",
   "execution_count": 30,
   "metadata": {
    "collapsed": true
   },
   "outputs": [],
   "source": [
    "class Solution:\n",
    "    def __init__(self):\n",
    "        self.all_combination = []\n",
    "        \n",
    "    def permutation(self, ss):\n",
    "        if ss is None or ss == '' or not isinstance(ss, str):\n",
    "            return\n",
    "\n",
    "        self.permutation_recursive(list(ss), 0)\n",
    "\n",
    "    def permutation_recursive(self, char_list, index):\n",
    "        if index == len(char_list):\n",
    "            comb_str = \"\".join(char_list)\n",
    "            if comb_str not in self.all_combination:\n",
    "                self.all_combination.append(comb_str)\n",
    "\n",
    "        else:\n",
    "            for i in range(index, len(char_list)):\n",
    "                # move to  position\n",
    "                self.move_to_index(char_list, i, index)\n",
    "                self.permutation_recursive(char_list, index + 1)\n",
    "                # move back\n",
    "                self.move_to_index(char_list, index, i)\n",
    "                \n",
    "    def move_to_index(self, array, old_index, new_index):\n",
    "        \"\"\"\n",
    "        move the element in place <old_index> to the <new_index> of the list <array>\n",
    "        \"\"\"\n",
    "        target_char = array.pop(old_index)\n",
    "        array.insert(new_index, target_char)\n",
    "\n",
    "        return array\n",
    "    \n",
    "    def clear_combinations(self):\n",
    "        self.all_combination = []"
   ]
  },
  {
   "cell_type": "code",
   "execution_count": 29,
   "metadata": {},
   "outputs": [
    {
     "name": "stdout",
     "output_type": "stream",
     "text": [
      "['Abb', 'bAb', 'bbA']\n",
      "['123', '132', '213', '231', '312', '321']\n",
      "1234\n",
      "1243\n",
      "1324\n",
      "1342\n",
      "1423\n",
      "1432\n",
      "3142\n",
      "3124\n",
      "3412\n",
      "3421\n",
      "3214\n",
      "3241\n",
      "2431\n",
      "2413\n",
      "2341\n",
      "2314\n",
      "2143\n",
      "2134\n",
      "4123\n",
      "4132\n",
      "4213\n",
      "4231\n",
      "4312\n",
      "4321\n"
     ]
    }
   ],
   "source": [
    "# Test\n",
    "solution = Solution()\n",
    "solution.permutation('Abb')\n",
    "print(solution.all_combination)\n",
    "\n",
    "solution.clear_combinations()\n",
    "solution.permutation('123')\n",
    "print(solution.all_combination)\n",
    "\n",
    "solution.clear_combinations()\n",
    "solution.permutation('1234')\n",
    "for i in solution.all_combination:\n",
    "    print(i)"
   ]
  },
  {
   "cell_type": "code",
   "execution_count": null,
   "metadata": {
    "collapsed": true
   },
   "outputs": [],
   "source": []
  }
 ],
 "metadata": {
  "kernelspec": {
   "display_name": "Python 3",
   "language": "python",
   "name": "python3"
  },
  "language_info": {
   "codemirror_mode": {
    "name": "ipython",
    "version": 3
   },
   "file_extension": ".py",
   "mimetype": "text/x-python",
   "name": "python",
   "nbconvert_exporter": "python",
   "pygments_lexer": "ipython3",
   "version": "3.6.3"
  }
 },
 "nbformat": 4,
 "nbformat_minor": 2
}
