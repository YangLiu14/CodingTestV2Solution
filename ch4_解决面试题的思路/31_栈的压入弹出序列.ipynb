{
 "cells": [
  {
   "cell_type": "markdown",
   "metadata": {},
   "source": [
    "## 31. 栈的压入弹出序列\n",
    "\n",
    "输入两个整数序列，第一个序列表示栈的压入顺序，请判断第二个序列是否可能为该栈的弹出顺序。假设压入栈的所有数字均不相等。例如序列1,2,3,4,5是某栈的压入顺序，序列4,5,3,2,1是该压栈序列对应的一个弹出序列，但4,3,5,1,2就不可能是该压栈序列的弹出序列。（注意：这两个序列的长度是相等的）\n",
    "\n",
    "### 分析\n",
    "为什么[1,2,3,4,5]和[4,5,3,2,1]是匹配的：先push[1,2,3,4]，pop4, push 5, 最后pop出3,2,1。\n",
    "\n",
    "为什么[1,2,3,4,5]和[4,3,5,1,2]不匹配。pop序列里面那个1,2就已经不对了。\n",
    "\n",
    "##### 流程：\n",
    "- 遍历pop序列，每个element和push序列的一一比较，如果`popV[0] == push[0]`，那么说明当前push序列的第一个数是被push后里面又被pop出来了 --> 移动到下一个比较对象`pushV = pushV[1:]`, `popV = popV[1:]`。\n",
    "\n",
    "- 如果`popV[0] != push[0]`，则不断地把push列表里的element装进`helper_stack`里面。\n",
    "\n",
    "- 重复以上步骤直到push列表为空。然后再用helper_stack和pop列表比较。\n",
    "\n",
    "\n",
    "[//]: # (<img src=\"images/img123.png\" style=\"width: 400px;\"/>)"
   ]
  },
  {
   "cell_type": "code",
   "execution_count": 2,
   "metadata": {
    "collapsed": true
   },
   "outputs": [],
   "source": [
    "def is_pop_order(pushV, popV):\n",
    "    if pushV is None or popV is None:\n",
    "        return False\n",
    "    assert len(pushV) == len(popV)\n",
    "\n",
    "    helper_stack = []\n",
    "    while len(popV) > 0:\n",
    "        if pushV[0] == popV[0]:\n",
    "            # it means the element gets pushed then directly gets poped,\n",
    "            # both move on to next element\n",
    "            pushV = pushV[1:]\n",
    "            popV = popV[1:]\n",
    "        else:\n",
    "            helper_stack.append(pushV[0])\n",
    "            pushV = pushV[1:]\n",
    "\n",
    "        if len(pushV) == 0:\n",
    "            # all the element in pushV is either checkout, or pushed into helper_stack\n",
    "            while len(helper_stack) > 0:\n",
    "                if len(helper_stack) != len(popV):\n",
    "                    return False\n",
    "                if helper_stack.pop() == popV[0]:\n",
    "                    popV = popV[1:]\n",
    "                else:\n",
    "                    return False\n",
    "\n",
    "    return True"
   ]
  },
  {
   "cell_type": "markdown",
   "metadata": {},
   "source": [
    "### Test"
   ]
  },
  {
   "cell_type": "code",
   "execution_count": 3,
   "metadata": {},
   "outputs": [
    {
     "name": "stdout",
     "output_type": "stream",
     "text": [
      "True\n"
     ]
    }
   ],
   "source": [
    "pushV = [1, 2, 3, 4, 5]\n",
    "popV = [4, 5, 3, 2, 1]\n",
    "print(is_pop_order(pushV, popV))"
   ]
  },
  {
   "cell_type": "code",
   "execution_count": 4,
   "metadata": {},
   "outputs": [
    {
     "name": "stdout",
     "output_type": "stream",
     "text": [
      "False\n"
     ]
    }
   ],
   "source": [
    "pushV = [1, 2, 3, 4, 5]\n",
    "popV = [4, 3, 5, 2, 1]\n",
    "print(is_pop_order(pushV, popV))"
   ]
  },
  {
   "cell_type": "code",
   "execution_count": null,
   "metadata": {
    "collapsed": true
   },
   "outputs": [],
   "source": []
  }
 ],
 "metadata": {
  "kernelspec": {
   "display_name": "Python 3",
   "language": "python",
   "name": "python3"
  },
  "language_info": {
   "codemirror_mode": {
    "name": "ipython",
    "version": 3
   },
   "file_extension": ".py",
   "mimetype": "text/x-python",
   "name": "python",
   "nbconvert_exporter": "python",
   "pygments_lexer": "ipython3",
   "version": "3.7.3"
  }
 },
 "nbformat": 4,
 "nbformat_minor": 2
}
