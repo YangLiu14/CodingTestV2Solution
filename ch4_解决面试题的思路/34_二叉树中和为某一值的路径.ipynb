{
 "cells": [
  {
   "cell_type": "markdown",
   "metadata": {},
   "source": [
    "## 34. 二叉树中和为某一值的路径\n",
    "\n",
    "输入一颗二叉树的根节点和一个整数，打印出二叉树中结点值的和为输入整数的所有路径。路径定义为从树的***根结点***开始往下一直到***叶结点***所经过的结点形成一条路径。(注意: 在返回值的list中，数组长度大的数组靠前)。\n",
    "\n",
    "例子：输入如下二叉树和整数22，则输出`[10, 5, 7]`和`[10, 12]`\n",
    "```\n",
    "      10\n",
    "     /  \\\n",
    "    5    12\n",
    "   / \\\n",
    "  4   7\n",
    "```\n",
    "\n",
    "### 分析\n",
    "当用前序遍历的方式访问到某一节点，把该节点添加到路径上，并累加该节点的值。\n",
    "- 如果该节点为叶节点，并且路径中节点值的和刚好等于输入的整数，则当前路径符合要求，我们把它打印出来。\n",
    "- 如果当前节点不是叶节点，则继续访问它的子节点。\n",
    "当前节点访问结束后，递归函数将自动回到它的父节点。因此，我们在函数退出之前要在路径上删除当前节点并减去当前节点的值，以确保返回父节点时路径刚好时从根节点到父节点。\n",
    "\n",
    "不难看出保存路径的数据结构实际上是一个栈，因为路径要与递归调用状态一致，而递归调用的本质就是一个压栈和出栈的过程。\n",
    "\n",
    "\n",
    "[//]: # (<img src=\"images/img123.png\" style=\"width: 400px;\"/>)"
   ]
  },
  {
   "cell_type": "code",
   "execution_count": 1,
   "metadata": {
    "collapsed": true
   },
   "outputs": [],
   "source": [
    "class TreeNode:\n",
    "    def __init__(self, x):\n",
    "        self.val = x\n",
    "        self.left = None\n",
    "        self.right = None"
   ]
  },
  {
   "cell_type": "code",
   "execution_count": 2,
   "metadata": {
    "collapsed": true
   },
   "outputs": [],
   "source": [
    "def find_path(root, expectNumber):\n",
    "    if root is None or root == []:\n",
    "        return []\n",
    "\n",
    "    path = []\n",
    "    all_path = []\n",
    "    helper(root, 0, expectNumber, path, all_path)\n",
    "    return all_path\n",
    "\n",
    "def helper(node, current_sum, expectNumber, path, all_path):\n",
    "    current_sum += node.val\n",
    "    path.append(node.val)\n",
    "\n",
    "    # 如果是叶节点，并且路径上节点值的和等于输入的值，\n",
    "    # 则保存这条路径\n",
    "    is_leaf = (node.left is None) and (node.right is None)\n",
    "    if current_sum == expectNumber and is_leaf:\n",
    "        # print_path(path)\n",
    "        all_path.append(path.copy())\n",
    "\n",
    "    # 如果不是叶节点，则遍历它的子节点\n",
    "    if node.left is not None:\n",
    "        helper(node.left, current_sum, expectNumber, path, all_path)\n",
    "    if node.right is not None:\n",
    "        helper(node.right, current_sum, expectNumber, path, all_path)\n",
    "\n",
    "    # 执行到这一步则要返回父节点了，在此之前在路径上删除当前节点\n",
    "    path.pop()"
   ]
  },
  {
   "cell_type": "markdown",
   "metadata": {},
   "source": [
    "### Test"
   ]
  },
  {
   "cell_type": "code",
   "execution_count": 3,
   "metadata": {},
   "outputs": [
    {
     "name": "stdout",
     "output_type": "stream",
     "text": [
      "[[10, 5, 7], [10, 12]]\n"
     ]
    }
   ],
   "source": [
    "root1 = TreeNode(10)\n",
    "root1.left = TreeNode(5)\n",
    "root1.right = TreeNode(12)\n",
    "\n",
    "root1.left.left = TreeNode(4)\n",
    "root1.left.right = TreeNode(7)\n",
    "\n",
    "print(find_path(root1, 22))"
   ]
  },
  {
   "cell_type": "code",
   "execution_count": 4,
   "metadata": {},
   "outputs": [
    {
     "name": "stdout",
     "output_type": "stream",
     "text": [
      "[]\n"
     ]
    }
   ],
   "source": [
    "print(find_path([], 0))"
   ]
  }
 ],
 "metadata": {
  "kernelspec": {
   "display_name": "Python 3",
   "language": "python",
   "name": "python3"
  },
  "language_info": {
   "codemirror_mode": {
    "name": "ipython",
    "version": 3
   },
   "file_extension": ".py",
   "mimetype": "text/x-python",
   "name": "python",
   "nbconvert_exporter": "python",
   "pygments_lexer": "ipython3",
   "version": "3.6.3"
  }
 },
 "nbformat": 4,
 "nbformat_minor": 2
}
