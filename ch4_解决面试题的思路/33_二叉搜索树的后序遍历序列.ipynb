{
 "cells": [
  {
   "cell_type": "markdown",
   "metadata": {},
   "source": [
    "## 33. 二叉搜索树的后序遍历序列\n",
    "\n",
    "输入一个整数数组，判断该数组是不是某二叉搜索树的后序遍历的结果。如果是则输出Yes,否则输出No。假设输入的数组的任意两个数字都互不相同。例如：数组`[5, 7, 6, 9, 11, 10, 8]`则返回True，因为这是下图的后序遍历结果。如果输入的数组是[7, 4, 6, 5]则返回False。\n",
    "```\n",
    "          8 \n",
    "        /   \\\n",
    "       6     10\n",
    "      / \\    / \\\n",
    "     5   7  9  11\n",
    "```\n",
    "\n",
    "\n",
    "### 分析\n",
    "Binary Serach Tree：左右子节点的值均小于它的根节点的值。\n",
    "\n",
    "**规律**：\n",
    "- 后序遍历得到的list中，最后一个数一定是整课树的根节点。前面的数字是它的左右子树。\n",
    "\n",
    "- root的左子树的所有值必然都比root小，右子树必然比root大。\n",
    "\n",
    "- 接下来用同样的方法确定左子树的左右子树，和右子树的左右子树。\n",
    "\n",
    "\n",
    "[//]: # (<img src=\"images/img123.png\" style=\"width: 400px;\"/>)"
   ]
  },
  {
   "cell_type": "code",
   "execution_count": 1,
   "metadata": {
    "collapsed": true
   },
   "outputs": [],
   "source": [
    "def verify_sequence_of_BST(sequence):\n",
    "    if sequence is None or sequence == []:\n",
    "        return False\n",
    "\n",
    "    if len(sequence) <= 2:\n",
    "        return True\n",
    "\n",
    "    root = sequence[-1]\n",
    "    left_tree = []\n",
    "    right_tree = []\n",
    "\n",
    "    while len(sequence) > 1:\n",
    "        if sequence[0] < root:\n",
    "            left_tree.append(sequence[0])\n",
    "            sequence = sequence[1:]\n",
    "        else:\n",
    "            break\n",
    "\n",
    "    while len(sequence) > 1: \n",
    "        # ignore the last value which is the root\n",
    "        # From this point, all the left tree should already been stored away,\n",
    "        # there should be NO element bigger than root\n",
    "        if sequence[0] > root:\n",
    "            right_tree.append(sequence[0])\n",
    "            sequence = sequence[1:]\n",
    "        else:\n",
    "            return False\n",
    "\n",
    "\n",
    "    if left_tree != []:\n",
    "        left_tree_result = verify_sequence_of_BST(left_tree)\n",
    "    else:\n",
    "        left_tree_result = True\n",
    "        \n",
    "    if right_tree != []:\n",
    "        right_tree_result = verify_sequence_of_BST(right_tree)\n",
    "    else:\n",
    "        right_tree_result = True\n",
    "\n",
    "    sub_tree_result = left_tree_result and right_tree_result and True\n",
    "\n",
    "    return True and sub_tree_result"
   ]
  },
  {
   "cell_type": "markdown",
   "metadata": {},
   "source": [
    "### Test"
   ]
  },
  {
   "cell_type": "code",
   "execution_count": 2,
   "metadata": {},
   "outputs": [
    {
     "name": "stdout",
     "output_type": "stream",
     "text": [
      "True\n",
      "False\n",
      "True\n",
      "True\n",
      "False\n"
     ]
    }
   ],
   "source": [
    "# True\n",
    "list1 = [5, 7, 6, 9, 11, 10, 8]\n",
    "print(verify_sequence_of_BST(list1))\n",
    "\n",
    "# False\n",
    "list2 = [7, 4, 6, 5]\n",
    "print(verify_sequence_of_BST(list2))\n",
    "\n",
    "# True\n",
    "list3 = [4, 6, 7, 5]\n",
    "print(verify_sequence_of_BST(list3))\n",
    "\n",
    "# True\n",
    "list4 = [1, 2, 3, 4, 5]\n",
    "print(verify_sequence_of_BST(list4))\n",
    "\n",
    "# False\n",
    "print(verify_sequence_of_BST([]))"
   ]
  },
  {
   "cell_type": "code",
   "execution_count": null,
   "metadata": {
    "collapsed": true
   },
   "outputs": [],
   "source": []
  }
 ],
 "metadata": {
  "kernelspec": {
   "display_name": "Python 3",
   "language": "python",
   "name": "python3"
  },
  "language_info": {
   "codemirror_mode": {
    "name": "ipython",
    "version": 3
   },
   "file_extension": ".py",
   "mimetype": "text/x-python",
   "name": "python",
   "nbconvert_exporter": "python",
   "pygments_lexer": "ipython3",
   "version": "3.6.3"
  }
 },
 "nbformat": 4,
 "nbformat_minor": 2
}
