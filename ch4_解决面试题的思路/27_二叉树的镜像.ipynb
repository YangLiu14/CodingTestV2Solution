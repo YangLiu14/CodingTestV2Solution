{
 "cells": [
  {
   "cell_type": "markdown",
   "metadata": {},
   "source": [
    "## 27. 二叉树的镜像\n",
    "\n",
    "操作给定的二叉树，将其变换为源二叉树的镜像\n",
    "<img src=\"images/img27_a.png\" style=\"width: 300px;\"/>\n",
    "\n",
    "### 分析\n",
    "观察到镜像后的二叉树就是不断地对第一棵树做`left`和`right sub-tree`的交换。\n",
    "<img src=\"images/img27_b.png\" style=\"width: 500px;\"/>\n",
    "[//]: # (<img src=\"images/img25.png\" style=\"width: 400px;\"/>)"
   ]
  },
  {
   "cell_type": "code",
   "execution_count": 1,
   "metadata": {
    "collapsed": true
   },
   "outputs": [],
   "source": [
    "class TreeNode:\n",
    "    def __init__(self, x):\n",
    "        self.val = x\n",
    "        self.left = None\n",
    "        self.right = None"
   ]
  },
  {
   "cell_type": "code",
   "execution_count": 7,
   "metadata": {
    "collapsed": true
   },
   "outputs": [],
   "source": [
    "def mirror(root):\n",
    "    if root is None:\n",
    "        return\n",
    "    if root.left is None and root.right is None:\n",
    "        return\n",
    "\n",
    "    root = swap_left_right(root)\n",
    "\n",
    "    mirror(root.left)\n",
    "    mirror(root.right)\n",
    "\n",
    "    return root\n",
    "\n",
    "def swap_left_right(root):\n",
    "    if root is None:\n",
    "        return None\n",
    "\n",
    "    left = root.left\n",
    "    right = root.right\n",
    "\n",
    "    root.left = right\n",
    "    root.right = left\n",
    "\n",
    "    return root"
   ]
  },
  {
   "cell_type": "markdown",
   "metadata": {},
   "source": [
    "### Test and visualization"
   ]
  },
  {
   "cell_type": "code",
   "execution_count": 6,
   "metadata": {},
   "outputs": [
    {
     "name": "stderr",
     "output_type": "stream",
     "text": [
      "/Users/lander14/anaconda3/lib/python3.6/site-packages/networkx/drawing/nx_pylab.py:611: MatplotlibDeprecationWarning: isinstance(..., numbers.Number)\n",
      "  if cb.is_numlike(alpha):\n"
     ]
    },
    {
     "data": {
      "image/png": "[encoded data removed]",
      "text/plain": [
       "<Figure size 432x288 with 1 Axes>"
      ]
     },
     "metadata": {},
     "output_type": "display_data"
    }
   ],
   "source": [
    "import networkx as nx\n",
    "from networkx.drawing.nx_agraph import write_dot, graphviz_layout\n",
    "import matplotlib.pyplot as plt\n",
    "\n",
    "G = nx.DiGraph()\n",
    "\n",
    "G.add_node(\"ROOT\")\n",
    "\n",
    "for i in range(3):\n",
    "    G.add_node(\"Child_%i\" % i)\n",
    "    G.add_node(\"Grandchild_%i\" % i)\n",
    "    G.add_node(\"Greatgrandchild_%i\" % i)\n",
    "\n",
    "    G.add_edge(\"ROOT\", \"Child_%i\" % i)\n",
    "#     G.add_edge(\"Child_%i\" % i, \"Grandchild_%i\" % i)\n",
    "    G.add_edge(\"Child_0\", \"Grandchild_%i\" % i)\n",
    "    G.add_edge(\"Grandchild_%i\" % i, \"Greatgrandchild_%i\" % i)\n",
    "\n",
    "# write dot file to use with graphviz\n",
    "# run \"dot -Tpng test.dot >test.png\"\n",
    "# write_dot(G,'test.dot')\n",
    "\n",
    "# same layout using matplotlib with no labels\n",
    "plt.title('draw_networkx')\n",
    "pos = graphviz_layout(G, prog='dot')\n",
    "nx.draw(G, pos, with_labels=True, arrows=False)\n",
    "plt.show()"
   ]
  },
  {
   "cell_type": "code",
   "execution_count": 2,
   "metadata": {
    "collapsed": true
   },
   "outputs": [],
   "source": [
    "def has_subtree(pRoot1, pRoot2):\n",
    "    result = False\n",
    "\n",
    "    # recursively traverse tree1 and compare root1 and root2\n",
    "    if pRoot1 is not None and pRoot2 is not None:\n",
    "        if pRoot1.val == pRoot2.val:\n",
    "            # if they match, check left and right sub-tree\n",
    "            result = does_tree1_have_tree2(pRoot1, pRoot2)\n",
    "\n",
    "        # this is typical pre-order traverser:\n",
    "        if not result:\n",
    "            result = has_subtree(pRoot1.left, pRoot2)\n",
    "        if not result:\n",
    "            result = has_subtree(pRoot1.right, pRoot2)\n",
    "\n",
    "    return result\n",
    "\n",
    "def does_tree1_have_tree2(pRoot1, pRoot2):\n",
    "    if pRoot2 is None:\n",
    "        return True\n",
    "\n",
    "    if pRoot1 is None:\n",
    "        return False\n",
    "\n",
    "    if pRoot1.val != pRoot2.val:\n",
    "        return False\n",
    "\n",
    "    return does_tree1_have_tree2(pRoot1.left, pRoot2.left) and \\\n",
    "           does_tree1_have_tree2(pRoot1.right, pRoot2.right)"
   ]
  },
  {
   "cell_type": "markdown",
   "metadata": {},
   "source": [
    "### Test"
   ]
  },
  {
   "cell_type": "code",
   "execution_count": null,
   "metadata": {
    "collapsed": true
   },
   "outputs": [],
   "source": []
  }
 ],
 "metadata": {
  "kernelspec": {
   "display_name": "Python 3",
   "language": "python",
   "name": "python3"
  },
  "language_info": {
   "codemirror_mode": {
    "name": "ipython",
    "version": 3
   },
   "file_extension": ".py",
   "mimetype": "text/x-python",
   "name": "python",
   "nbconvert_exporter": "python",
   "pygments_lexer": "ipython3",
   "version": "3.6.3"
  }
 },
 "nbformat": 4,
 "nbformat_minor": 2
}
