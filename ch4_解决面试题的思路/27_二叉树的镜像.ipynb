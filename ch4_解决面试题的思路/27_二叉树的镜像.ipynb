{
 "cells": [
  {
   "cell_type": "markdown",
   "metadata": {},
   "source": [
    "## 27. 二叉树的镜像\n",
    "\n",
    "操作给定的二叉树，将其变换为源二叉树的镜像\n",
    "<img src=\"images/img27_a.png\" style=\"width: 300px;\"/>\n",
    "\n",
    "### 分析\n",
    "观察到镜像后的二叉树就是不断地对第一棵树做`left`和`right sub-tree`的交换。\n",
    "<img src=\"images/img27_b.png\" style=\"width: 500px;\"/>\n",
    "\n",
    "\n",
    "[//]: # (<img src=\"images/img25.png\" style=\"width: 400px;\"/>)"
   ]
  },
  {
   "cell_type": "code",
   "execution_count": 46,
   "metadata": {
    "collapsed": true
   },
   "outputs": [],
   "source": [
    "class TreeNode:\n",
    "    def __init__(self, x):\n",
    "        self.val = x\n",
    "        self.left = None\n",
    "        self.right = None"
   ]
  },
  {
   "cell_type": "code",
   "execution_count": 47,
   "metadata": {
    "collapsed": true
   },
   "outputs": [],
   "source": [
    "def mirror(root):\n",
    "    if root is None:\n",
    "        return\n",
    "    if root.left is None and root.right is None:\n",
    "        return\n",
    "\n",
    "    root = swap_left_right(root)\n",
    "\n",
    "    mirror(root.left)\n",
    "    mirror(root.right)\n",
    "\n",
    "    return root\n",
    "\n",
    "def swap_left_right(root):\n",
    "    if root is None:\n",
    "        return None\n",
    "\n",
    "    left = root.left\n",
    "    right = root.right\n",
    "\n",
    "    root.left = right\n",
    "    root.right = left\n",
    "\n",
    "    return root"
   ]
  },
  {
   "cell_type": "markdown",
   "metadata": {},
   "source": [
    "### Test and visualization"
   ]
  },
  {
   "cell_type": "code",
   "execution_count": 48,
   "metadata": {
    "collapsed": true
   },
   "outputs": [],
   "source": [
    "arrayA = [(8, 6), (8, 10), \n",
    "          (6, 5), (6, 7), (10, 9), (10, 11)]\n",
    "rootA = TreeNode(8)\n",
    "rootA .left = TreeNode(6)\n",
    "rootA .right = TreeNode(10)\n",
    "rootA .left.left = TreeNode(5)\n",
    "rootA .left.right = TreeNode(7)\n",
    "rootA .right.left = TreeNode(9)\n",
    "rootA .right.right = TreeNode(11)"
   ]
  },
  {
   "cell_type": "code",
   "execution_count": 50,
   "metadata": {},
   "outputs": [
    {
     "name": "stderr",
     "output_type": "stream",
     "text": [
      "/Users/lander14/anaconda3/lib/python3.6/site-packages/networkx/drawing/nx_pylab.py:611: MatplotlibDeprecationWarning: isinstance(..., numbers.Number)\n",
      "  if cb.is_numlike(alpha):\n"
     ]
    },
    {
     "data": {
      "image/png": "[encoded data removed]",
      "text/plain": [
       "<Figure size 432x288 with 1 Axes>"
      ]
     },
     "metadata": {},
     "output_type": "display_data"
    }
   ],
   "source": [
    "import networkx as nx\n",
    "from networkx.drawing.nx_agraph import write_dot, graphviz_layout\n",
    "import matplotlib.pyplot as plt\n",
    "\n",
    "G = nx.DiGraph()\n",
    "G.add_edges_from(arrayA)\n",
    "\n",
    "# write dot file to use with graphviz\n",
    "# run \"dot -Tpng test.dot >test.png\"\n",
    "# write_dot(G,'test.dot')\n",
    "\n",
    "# same layout using matplotlib with no labels\n",
    "plt.title('Input binary tree')\n",
    "pos = graphviz_layout(G, prog='dot')\n",
    "nx.draw(G, pos, with_labels=True, arrows=False, node_color='grey')\n",
    "plt.show()"
   ]
  },
  {
   "cell_type": "code",
   "execution_count": null,
   "metadata": {
    "collapsed": true
   },
   "outputs": [],
   "source": [
    "rootB = mirror(rootA)\n",
    "\n",
    "arrayB = []\n"
   ]
  },
  {
   "cell_type": "markdown",
   "metadata": {},
   "source": [
    "### Test"
   ]
  },
  {
   "cell_type": "code",
   "execution_count": null,
   "metadata": {
    "collapsed": true
   },
   "outputs": [],
   "source": []
  }
 ],
 "metadata": {
  "kernelspec": {
   "display_name": "Python 3",
   "language": "python",
   "name": "python3"
  },
  "language_info": {
   "codemirror_mode": {
    "name": "ipython",
    "version": 3
   },
   "file_extension": ".py",
   "mimetype": "text/x-python",
   "name": "python",
   "nbconvert_exporter": "python",
   "pygments_lexer": "ipython3",
   "version": "3.7.3"
  }
 },
 "nbformat": 4,
 "nbformat_minor": 2
}
