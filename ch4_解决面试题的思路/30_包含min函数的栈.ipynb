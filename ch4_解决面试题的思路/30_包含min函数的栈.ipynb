{
 "cells": [
  {
   "cell_type": "markdown",
   "metadata": {},
   "source": [
    "## 30. 包含min函数的栈\n",
    "\n",
    "定义栈的数据结构，请在该类型中实现一个能够得到栈中所含最小元素的min函数。在该栈中，调用min，push以及pop的时间复杂度都为$O(1)$\n",
    "\n",
    "### 分析\n",
    "Stack: last in first out\n",
    "\n",
    "可以添加一个辅助的栈`min_stack`，每次push一个数字进入stack的时候，都把最小值push进`min_stack`，每次pop的时候，也把pop一遍`min_stack`，这样可以保证每次每次pop出来的都是**当前的**最小值。\n",
    "\n",
    "[//]: # (<img src=\"images/img123.png\" style=\"width: 400px;\"/>)"
   ]
  },
  {
   "cell_type": "code",
   "execution_count": 1,
   "metadata": {
    "collapsed": true
   },
   "outputs": [],
   "source": [
    "class Solution:\n",
    "    def __init__(self):\n",
    "        self.stack = []\n",
    "        self.min_stack = []\n",
    "        self.min = None\n",
    "\n",
    "    def push(self, node):\n",
    "        # write code here\n",
    "        if self.stack == []:\n",
    "            self.min = node\n",
    "\n",
    "        if node < self.min:\n",
    "            self.min = node\n",
    "\n",
    "        self.stack.append(node)\n",
    "        self.min_stack.append(self.min)\n",
    "\n",
    "    def pop(self):\n",
    "        # write code here\n",
    "        assert len(self.stack) == len(self.min_stack)\n",
    "\n",
    "        if len(self.stack) > 0 :\n",
    "            self.min_stack.pop()\n",
    "            return self.stack.pop()\n",
    "        else:\n",
    "            return None\n",
    "\n",
    "    def top(self):\n",
    "        # write code here\n",
    "        if len(self.stack) > 0:\n",
    "            return self.stack[-1]\n",
    "        else:\n",
    "            return None\n",
    "\n",
    "    def get_min(self):\n",
    "        assert len(self.stack) == len(self.min_stack)\n",
    "        return self.min"
   ]
  },
  {
   "cell_type": "markdown",
   "metadata": {},
   "source": [
    "### Test"
   ]
  }
 ],
 "metadata": {
  "kernelspec": {
   "display_name": "Python 3",
   "language": "python",
   "name": "python3"
  },
  "language_info": {
   "codemirror_mode": {
    "name": "ipython",
    "version": 3
   },
   "file_extension": ".py",
   "mimetype": "text/x-python",
   "name": "python",
   "nbconvert_exporter": "python",
   "pygments_lexer": "ipython3",
   "version": "3.6.3"
  }
 },
 "nbformat": 4,
 "nbformat_minor": 2
}
