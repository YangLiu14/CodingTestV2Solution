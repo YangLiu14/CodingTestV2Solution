{
 "cells": [
  {
   "cell_type": "markdown",
   "metadata": {},
   "source": [
    "## 28. 对称的二叉树\n",
    "\n",
    "操作给定的二叉树，将其变换为源二叉树的镜像\n",
    "<img src=\"images/img28.png\" style=\"width: 400px;\"/>\n",
    "\n",
    "### 分析\n",
    "前序遍历：先left，再root，后right，如果我们转换一下前序遍历，变成对称前序遍历：先right，再root，后left。那么如果前序遍历和对称前序遍历二叉树后，得到的序列是一样的，那么这颗树就是对称的。\n",
    "\n",
    "⚠️但是对于上图中第三颗树的情况，所有的node的值都是一样的，上面的方法就不行了。为了解决掉这个问题，可以在遍历到没有left或right child node的时候，把`None`加入到输出的序列里。"
   ]
  },
  {
   "cell_type": "code",
   "execution_count": 1,
   "metadata": {
    "collapsed": true
   },
   "outputs": [],
   "source": [
    "class TreeNode:\n",
    "    def __init__(self, x):\n",
    "        self.val = x\n",
    "        self.left = None\n",
    "        self.right = None"
   ]
  },
  {
   "cell_type": "code",
   "execution_count": 2,
   "metadata": {
    "collapsed": true
   },
   "outputs": [],
   "source": [
    "def is_symmetrical(pRoot):\n",
    "    if pRoot is None:\n",
    "        return True\n",
    "    pre_order_normal = pre_order_traverse(pRoot)\n",
    "    pre_order_symmetrical = pre_order_symmetrical_traverse(pRoot)\n",
    "    # Test\n",
    "    print(pre_order_normal)\n",
    "    print(pre_order_symmetrical)\n",
    "\n",
    "    if pre_order_normal == pre_order_symmetrical:\n",
    "        return True\n",
    "    else:\n",
    "        return False\n",
    "\n",
    "def pre_order_traverse(pRoot):\n",
    "    result = []\n",
    "    if pRoot:\n",
    "        result.append(pRoot.val)\n",
    "        result = result + pre_order_traverse(pRoot.left)\n",
    "        result = result + pre_order_traverse(pRoot.right)\n",
    "    else:\n",
    "        result.append(None)\n",
    "    return result\n",
    "\n",
    "def pre_order_symmetrical_traverse(pRoot):\n",
    "    result = []\n",
    "    if pRoot:\n",
    "        result.append(pRoot.val)\n",
    "        result = result + pre_order_symmetrical_traverse(pRoot.right)\n",
    "        result = result + pre_order_symmetrical_traverse(pRoot.left)\n",
    "    else:\n",
    "        result.append(None)\n",
    "    return result"
   ]
  },
  {
   "cell_type": "markdown",
   "metadata": {},
   "source": [
    "### Test"
   ]
  },
  {
   "cell_type": "code",
   "execution_count": 3,
   "metadata": {},
   "outputs": [
    {
     "name": "stdout",
     "output_type": "stream",
     "text": [
      "[8, 6, 5, None, None, 7, None, None, 6, 7, None, None, 5, None, None]\n",
      "[8, 6, 5, None, None, 7, None, None, 6, 7, None, None, 5, None, None]\n",
      "True\n"
     ]
    }
   ],
   "source": [
    "# Create binary tree:\n",
    "root1 = TreeNode(8)\n",
    "node = root1\n",
    "node.left = TreeNode(6)\n",
    "node.left.left = TreeNode(5)\n",
    "node.left.right = TreeNode(7)\n",
    "\n",
    "node.right = TreeNode(6)\n",
    "node.right.left = TreeNode(7)\n",
    "node.right.right = TreeNode(5)\n",
    "\n",
    "print(is_symmetrical(root1))"
   ]
  },
  {
   "cell_type": "code",
   "execution_count": 4,
   "metadata": {},
   "outputs": [
    {
     "name": "stdout",
     "output_type": "stream",
     "text": [
      "[8, 6, 5, None, None, 7, None, None, 9, 7, None, None, 5, None, None]\n",
      "[8, 9, 5, None, None, 7, None, None, 6, 7, None, None, 5, None, None]\n",
      "False\n"
     ]
    }
   ],
   "source": [
    "# Create binary tree:\n",
    "root2 = TreeNode(8)\n",
    "node = root2\n",
    "node.left = TreeNode(6)\n",
    "node.left.left = TreeNode(5)\n",
    "node.left.right = TreeNode(7)\n",
    "\n",
    "node.right = TreeNode(9)\n",
    "node.right.left = TreeNode(7)\n",
    "node.right.right = TreeNode(5)\n",
    "\n",
    "print(is_symmetrical(root2))"
   ]
  },
  {
   "cell_type": "code",
   "execution_count": 5,
   "metadata": {},
   "outputs": [
    {
     "name": "stdout",
     "output_type": "stream",
     "text": [
      "[7, 7, 7, None, None, 7, None, None, 7, 7, None, None, None]\n",
      "[7, 7, None, 7, None, None, 7, 7, None, None, 7, None, None]\n",
      "False\n"
     ]
    }
   ],
   "source": [
    "# Create binary tree:\n",
    "root3 = TreeNode(7)\n",
    "node = root3\n",
    "node.left = TreeNode(7)\n",
    "node.left.left = TreeNode(7)\n",
    "node.left.right = TreeNode(7)\n",
    "\n",
    "node.right = TreeNode(7)\n",
    "node.right.left = TreeNode(7)\n",
    "\n",
    "print(is_symmetrical(root3))"
   ]
  },
  {
   "cell_type": "code",
   "execution_count": null,
   "metadata": {
    "collapsed": true
   },
   "outputs": [],
   "source": []
  }
 ],
 "metadata": {
  "kernelspec": {
   "display_name": "Python 3",
   "language": "python",
   "name": "python3"
  },
  "language_info": {
   "codemirror_mode": {
    "name": "ipython",
    "version": 3
   },
   "file_extension": ".py",
   "mimetype": "text/x-python",
   "name": "python",
   "nbconvert_exporter": "python",
   "pygments_lexer": "ipython3",
   "version": "3.6.3"
  }
 },
 "nbformat": 4,
 "nbformat_minor": 2
}
