{
 "cells": [
  {
   "cell_type": "markdown",
   "metadata": {},
   "source": [
    "## 32. 从上到下打印二叉树\n",
    "\n",
    "从上往下打印出二叉树的每个节点，同层节点从左至右打印。例如：\n",
    "```\n",
    "          8 \n",
    "        /   \\\n",
    "       6     10\n",
    "      / \\    / \\\n",
    "     5   7  9  11\n",
    "```\n",
    "则输出8,6,10,5,7,9,11\n",
    "\n",
    "### 分析\n",
    "二叉树的层次遍历，只需要引入一个Queue，在访问根节点的时候，把左右两个子节点存进Queue里。按顺序访问Queue里的node，并同时把当前node的左右子节点存到Queue的后面。\n",
    "\n",
    "[//]: # (<img src=\"images/img123.png\" style=\"width: 400px;\"/>)"
   ]
  },
  {
   "cell_type": "code",
   "execution_count": 1,
   "metadata": {
    "collapsed": true
   },
   "outputs": [],
   "source": [
    "class TreeNode:\n",
    "    def __init__(self, x):\n",
    "        self.val = x\n",
    "        self.left = None\n",
    "        self.right = None"
   ]
  },
  {
   "cell_type": "code",
   "execution_count": 2,
   "metadata": {
    "collapsed": true
   },
   "outputs": [],
   "source": [
    "def print_from_top_to_bottom(root):\n",
    "    if root is None or root == []:\n",
    "        return []\n",
    "\n",
    "    queue = [root]\n",
    "    result = []\n",
    "\n",
    "    while queue != []:\n",
    "        current_node = queue.pop()\n",
    "        result.append(current_node.val)\n",
    "        # add left and right child to the queue\n",
    "        left = current_node.left\n",
    "        right = current_node.right\n",
    "        if left is not None:\n",
    "            queue = [left] + queue\n",
    "        if right is not None:\n",
    "            queue = [right] + queue\n",
    "\n",
    "    return result"
   ]
  },
  {
   "cell_type": "markdown",
   "metadata": {},
   "source": [
    "### Test"
   ]
  },
  {
   "cell_type": "code",
   "execution_count": 3,
   "metadata": {},
   "outputs": [
    {
     "name": "stdout",
     "output_type": "stream",
     "text": [
      "[8, 6, 10, 5, 7, 9, 11]\n"
     ]
    }
   ],
   "source": [
    "root1 = TreeNode(8)\n",
    "root1.left = TreeNode(6)\n",
    "root1.right = TreeNode(10)\n",
    "\n",
    "root1.left.left = TreeNode(5)\n",
    "root1.left.right = TreeNode(7)\n",
    "\n",
    "root1.right.left = TreeNode(9)\n",
    "root1.right.right = TreeNode(11)\n",
    "\n",
    "print(print_from_top_to_bottom(root1))"
   ]
  },
  {
   "cell_type": "code",
   "execution_count": null,
   "metadata": {
    "collapsed": true
   },
   "outputs": [],
   "source": []
  }
 ],
 "metadata": {
  "kernelspec": {
   "display_name": "Python 3",
   "language": "python",
   "name": "python3"
  },
  "language_info": {
   "codemirror_mode": {
    "name": "ipython",
    "version": 3
   },
   "file_extension": ".py",
   "mimetype": "text/x-python",
   "name": "python",
   "nbconvert_exporter": "python",
   "pygments_lexer": "ipython3",
   "version": "3.6.3"
  }
 },
 "nbformat": 4,
 "nbformat_minor": 2
}
