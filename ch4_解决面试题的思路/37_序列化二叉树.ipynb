{
 "cells": [
  {
   "cell_type": "markdown",
   "metadata": {},
   "source": [
    "## 37. 序列化二叉树\n",
    "\n",
    "请实现两个函数，分别用来序列化和反序列化二叉树。\n",
    "\n",
    "### 分析\n",
    "通过面试题7:重建二叉树，我们知道可以从前序遍历和中序遍历序列中构造出一棵二叉树。但是这个方法有两个缺点：\n",
    "1. 此方法要求二叉树中不能有数值重复的节点。\n",
    "2. 只有当两个序列中所有数据都读出后才能开始反序列化 --> 等待时间很长\n",
    "\n",
    "实际上，如果在前序遍历的基础上，把遇到的`nullptr`(C++)或者`None`(Python)用特殊符号表示出来，那么在序列化的同时就可以进行反序列化构建二叉树。\n",
    "\n",
    "[//]: # (<img src=\"images/img123.png\" style=\"width: 400px;\"/>)"
   ]
  },
  {
   "cell_type": "code",
   "execution_count": 1,
   "metadata": {
    "collapsed": true
   },
   "outputs": [],
   "source": [
    "class TreeNode:\n",
    "    def __init__(self, x):\n",
    "        self.val = x\n",
    "        self.left = None\n",
    "        self.right = None"
   ]
  },
  {
   "cell_type": "code",
   "execution_count": 2,
   "metadata": {},
   "outputs": [],
   "source": [
    "def serialize(root):\n",
    "    \n",
    "    output = []\n",
    "    if root:\n",
    "        output.append(root.val)\n",
    "        output = output + serialize(root.left)\n",
    "        output = output + serialize(root.right)\n",
    "    else:\n",
    "        output.append(None)\n",
    "\n",
    "    return output\n",
    "\n",
    "\n",
    "def deserialize(s):\n",
    "    if len(s) == 0:\n",
    "        return\n",
    "\n",
    "    if s[0] is None:\n",
    "        node = None\n",
    "    else:\n",
    "        node = TreeNode(s[0])\n",
    "\n",
    "    s.pop(0)\n",
    "    if node:\n",
    "        node.left = deserialize(s)\n",
    "        node.right = deserialize(s)\n",
    "\n",
    "    return node"
   ]
  },
  {
   "cell_type": "markdown",
   "metadata": {},
   "source": [
    "### Test"
   ]
  },
  {
   "cell_type": "code",
   "execution_count": 3,
   "metadata": {},
   "outputs": [
    {
     "name": "stdout",
     "output_type": "stream",
     "text": [
      "[10, 6, 4, None, None, 8, None, None, 14, 12, None, None, 16, None, None]\n",
      "Test 1 passed.\n",
      "[1, 2, 4, None, None, None, 3, 5, None, None, 6, None, None]\n",
      "Test 2 passed.\n",
      "[5, 4, None, None, 3, 2, None, None, None]\n",
      "Test 3 passed.\n",
      "[8, 6, 10, None, None, 5, None, None, 7, 9, None, None, 10, None, None]\n",
      "Test 4 passed.\n"
     ]
    }
   ],
   "source": [
    "root1 = TreeNode(10)\n",
    "root1.left = TreeNode(6)\n",
    "root1.right = TreeNode(14)\n",
    "\n",
    "root1.left.left = TreeNode(4)\n",
    "root1.left.right = TreeNode(8)\n",
    "\n",
    "root1.right.left = TreeNode(12)\n",
    "root1.right.right = TreeNode(16)\n",
    "\n",
    "print(serialize(root1))\n",
    "assert serialize(root1) == serialize( deserialize(serialize(root1)) )\n",
    "print(\"Test 1 passed.\")\n",
    "\n",
    "##########################################\n",
    "root2 = TreeNode(1)\n",
    "root2.left = TreeNode(2)\n",
    "root2.left.left = TreeNode(4)\n",
    "\n",
    "root2.right = TreeNode(3)\n",
    "root2.right.left = TreeNode(5)\n",
    "root2.right.right = TreeNode(6)\n",
    "\n",
    "print(serialize(root2))\n",
    "assert serialize(root2) == serialize( deserialize(serialize(root2)) ) \n",
    "print(\"Test 2 passed.\")\n",
    "\n",
    "##########################################\n",
    "root3 = TreeNode(5)\n",
    "root3.left = TreeNode(4)\n",
    "root3.right = TreeNode(3)\n",
    "root3.right.left = TreeNode(2)\n",
    "# root3.right.right.right = TreeNode(1)\n",
    "\n",
    "print(serialize(root3))\n",
    "assert serialize(root3) == serialize( deserialize(serialize(root3)) ) \n",
    "print(\"Test 3 passed.\")\n",
    "\n",
    "###########################################\n",
    "root4 = TreeNode(8)\n",
    "root4.left = TreeNode(6)\n",
    "root4.right = TreeNode(7)\n",
    "\n",
    "root4.left.left = TreeNode(10)\n",
    "root4.left.right = TreeNode(5)\n",
    "\n",
    "root4.right.left = TreeNode(9)\n",
    "root4.right.right = TreeNode(10)\n",
    "\n",
    "print(serialize(root4))\n",
    "assert serialize(root4) == serialize( deserialize(serialize(root4)) ) \n",
    "print(\"Test 4 passed.\")"
   ]
  },
  {
   "cell_type": "markdown",
   "metadata": {},
   "source": [
    "## 用循环实现deserialize函数\n",
    "\n",
    "1. 序列的第一个数字是root，root后面跟着的一串数字（直到遇到第一个`None`之前）都属于左子树。\n",
    "\n",
    "2. 因为是根据前序遍历重构二叉树，永远都是左子树先被填满，所以在没有特殊说想要`add_right`的情况下，都加`left child`。每次加入新的`left child`都把之前的node存入一个列表`parent`里面。这样想要回到上一个parent的时候，只需要把它`pop`出来就好了。\n",
    "\n",
    "3. 一个数字后紧跟着两个`None`，则说明这个数字表示的是`leaf node`。只跟着一个`None`，说明这个数字表示的`node`没有右子树。两种情况，都需要回到`parent node`。  \n",
    "   - ⚠️ 碰到连续两个`None`只回去上一个parent（而不是上两个parent），碰到单独的一个`None`也只回去一次。\n",
    "   \n",
    "4. 遇到了`None`则表示当前没有`left child`可以添加了，应当回到上一个parent，然后下一个`node`必然是`right child`。添加`right child`时，不需要保存parent，不然会导致parent的保存重复。而且每次添加完`right child`，都应该回到parent的parent，所以这里不需要再添加parent到列表里面。\n",
    "\n"
   ]
  },
  {
   "cell_type": "code",
   "execution_count": 4,
   "metadata": {
    "collapsed": true
   },
   "outputs": [],
   "source": [
    "def serialize(root):\n",
    "\n",
    "    output = []\n",
    "    if root:\n",
    "        output.append(root.val)\n",
    "        output = output + serialize(root.left)\n",
    "        output = output + serialize(root.right)\n",
    "    else:\n",
    "        output.append(None)\n",
    "\n",
    "    return output\n",
    "\n",
    "\n",
    "def deserialize(s):\n",
    "    \n",
    "    if s is None or s == []:\n",
    "        return None\n",
    "    try:\n",
    "        root = TreeNode(s[0])\n",
    "        s = s[1:]\n",
    "    except:\n",
    "        return None\n",
    "\n",
    "    parent = []\n",
    "    node = root\n",
    "    i = 0\n",
    "    add_right = False\n",
    "    while i < len(s):\n",
    "\n",
    "        if s[i] is None:\n",
    "            if i+2 >= len(s):\n",
    "                # we've reach the end, the tree-reconstruction is completed\n",
    "                return root\n",
    "            \n",
    "            node = parent.pop()\n",
    "            add_right = True\n",
    "            if s[i+1] == None:\n",
    "                # we've reached a leaf node:\n",
    "                i += 2\n",
    "                continue\n",
    "\n",
    "        else:\n",
    "            if add_right:\n",
    "                node.right = TreeNode(s[i])\n",
    "                node = node.right\n",
    "                add_right = False\n",
    "            else:\n",
    "                node.left = TreeNode(s[i])\n",
    "                parent.append(node)\n",
    "                node = node.left\n",
    "        i += 1\n",
    "\n",
    "    return root"
   ]
  },
  {
   "cell_type": "markdown",
   "metadata": {},
   "source": [
    "### Test"
   ]
  },
  {
   "cell_type": "code",
   "execution_count": 6,
   "metadata": {},
   "outputs": [
    {
     "name": "stdout",
     "output_type": "stream",
     "text": [
      "[10, 6, 4, None, None, 8, None, None, 14, 12, None, None, 16, None, None]\n",
      "Test 1 passed.\n"
     ]
    }
   ],
   "source": [
    "root1 = TreeNode(10)\n",
    "root1.left = TreeNode(6)\n",
    "root1.right = TreeNode(14)\n",
    "\n",
    "root1.left.left = TreeNode(4)\n",
    "root1.left.right = TreeNode(8)\n",
    "\n",
    "root1.right.left = TreeNode(12)\n",
    "root1.right.right = TreeNode(16)\n",
    "\n",
    "print(serialize(root1))\n",
    "assert serialize(root1) == serialize( deserialize(serialize(root1)) )\n",
    "print(\"Test 1 passed.\")"
   ]
  },
  {
   "cell_type": "code",
   "execution_count": 8,
   "metadata": {},
   "outputs": [
    {
     "name": "stdout",
     "output_type": "stream",
     "text": [
      "[1, 2, 4, None, None, None, 3, 5, None, None, 6, None, None]\n",
      "Test 2 passed.\n"
     ]
    }
   ],
   "source": [
    "root2 = TreeNode(1)\n",
    "root2.left = TreeNode(2)\n",
    "root2.left.left = TreeNode(4)\n",
    "\n",
    "root2.right = TreeNode(3)\n",
    "root2.right.left = TreeNode(5)\n",
    "root2.right.right = TreeNode(6)\n",
    "\n",
    "print(serialize(root2))\n",
    "assert serialize(root2) == serialize( deserialize(serialize(root2)) ) \n",
    "print(\"Test 2 passed.\")"
   ]
  },
  {
   "cell_type": "code",
   "execution_count": 9,
   "metadata": {},
   "outputs": [
    {
     "name": "stdout",
     "output_type": "stream",
     "text": [
      "[5, 4, None, None, 3, 2, None, None, None]\n",
      "Test 3 passed.\n"
     ]
    }
   ],
   "source": [
    "root3 = TreeNode(5)\n",
    "root3.left = TreeNode(4)\n",
    "root3.right = TreeNode(3)\n",
    "root3.right.left = TreeNode(2)\n",
    "# root3.right.right.right = TreeNode(1)\n",
    "\n",
    "print(serialize(root3))\n",
    "assert serialize(root3) == serialize( deserialize(serialize(root3)) ) \n",
    "print(\"Test 3 passed.\")"
   ]
  },
  {
   "cell_type": "code",
   "execution_count": 10,
   "metadata": {},
   "outputs": [
    {
     "name": "stdout",
     "output_type": "stream",
     "text": [
      "[8, 6, 10, None, None, 5, None, None, 7, 9, None, None, 10, None, None]\n",
      "Test 4 passed.\n"
     ]
    }
   ],
   "source": [
    "root4 = TreeNode(8)\n",
    "root4.left = TreeNode(6)\n",
    "root4.right = TreeNode(7)\n",
    "\n",
    "root4.left.left = TreeNode(10)\n",
    "root4.left.right = TreeNode(5)\n",
    "\n",
    "root4.right.left = TreeNode(9)\n",
    "root4.right.right = TreeNode(10)\n",
    "\n",
    "print(serialize(root4))\n",
    "assert serialize(root4) == serialize( deserialize(serialize(root4)) ) \n",
    "print(\"Test 4 passed.\")"
   ]
  },
  {
   "cell_type": "code",
   "execution_count": null,
   "metadata": {
    "collapsed": true
   },
   "outputs": [],
   "source": []
  }
 ],
 "metadata": {
  "kernelspec": {
   "display_name": "Python 3",
   "language": "python",
   "name": "python3"
  },
  "language_info": {
   "codemirror_mode": {
    "name": "ipython",
    "version": 3
   },
   "file_extension": ".py",
   "mimetype": "text/x-python",
   "name": "python",
   "nbconvert_exporter": "python",
   "pygments_lexer": "ipython3",
   "version": "3.7.3"
  }
 },
 "nbformat": 4,
 "nbformat_minor": 2
}
