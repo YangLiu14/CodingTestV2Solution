{
 "cells": [
  {
   "cell_type": "markdown",
   "metadata": {},
   "source": [
    "## 29. 顺时针打印矩阵\n",
    "\n",
    "输入一个矩阵，按照从外向里以顺时针的顺序依次打印出每一个数字，例如，如果输入如下4 X 4矩阵： \n",
    "```\n",
    " 1  2  3  4 \n",
    " 5  6  7  8 \n",
    " 9 10 11 12 \n",
    "13 14 15 16 \n",
    "```\n",
    "则依次打印出数字1,2,3,4,8,12,16,15,14,13,9,5,6,7,11,10.\n",
    "\n",
    "### 分析\n",
    "1. 可以写一个函数`print_matrix_in_circle`输出一圈的element，起点设置为(0,0), (1,1), (2,2) ...这样的位置。\n",
    "<img src=\"images/img29_a.png\" style=\"width: 200px;\"/>\n",
    "\n",
    "2. 确定什么时候停止调用`print_matrix_in_circle`：对于5x5的矩阵来说，最后一圈只有一个数字，对应坐标是(2,2)，发现5>2x2，对于6x6的矩阵，最后一圈的左上角坐标仍然是(2,2)，6>2x2 依然适用。依次类推。\n",
    "\n",
    "3. 最后一圈有几种特殊情况，要把边界条件考虑进去。 \n",
    "   - 从左到右是总要打印的，因此不需要检查\n",
    "   - 打印从上到下时，要检查是不是已经只剩下一行了`if start < end_y`\n",
    "   - 打印从右到左时，要检查是不是已经只剩下一行而且已经被从左到右打印过了 `if start < end_y and start < end_x`\n",
    "   - 打印从下到上时，要检查`if start < end_y - 1 and start < end_x`\n",
    "   \n",
    "<img src=\"images/img29_b.png\" style=\"width: 400px;\"/>\n",
    "\n",
    "[//]: # (<img src=\"images/img123.png\" style=\"width: 400px;\"/>)"
   ]
  },
  {
   "cell_type": "code",
   "execution_count": 1,
   "metadata": {
    "collapsed": true
   },
   "outputs": [],
   "source": [
    "# matrix类型为二维列表，需要返回列表\n",
    "def print_matrix_clockwise(matrix):\n",
    "    if matrix is None or matrix == []:\n",
    "        return []\n",
    "\n",
    "    rows = len(matrix)\n",
    "    cols = len(matrix[0])\n",
    "    \n",
    "    start = 0\n",
    "    while start * 2 < rows and start * 2 < cols:\n",
    "        print_matrix_in_circle(matrix, start, rows, cols)\n",
    "        start += 1\n",
    "\n",
    "def print_matrix_in_circle(matrix, start, rows, cols):\n",
    "    \"\"\"\n",
    "    print one circle in the matrix\n",
    "    :param start: we always start printing the circle from the left top corner. e.g. (1,1), (2,2), (3,3), ...\n",
    "    :param rows: the rows matrix\n",
    "    :param cols: the cols matrix\n",
    "    \"\"\"\n",
    "\n",
    "    end_x = cols - 1 - start\n",
    "    end_y = rows - 1 - start\n",
    "\n",
    "    # print from left to right\n",
    "    for i in range(start, end_x + 1):\n",
    "        print(matrix[start][i], end=',')\n",
    "\n",
    "    # print from top to bottom\n",
    "    if start < end_y:\n",
    "        for i in range(start + 1, end_y + 1):\n",
    "            print(matrix[i][end_x], end=',')\n",
    "\n",
    "    # print from right to left\n",
    "    if start < end_x and start < end_y:\n",
    "        for i in reversed(range(start, (end_x - 1) + 1)):\n",
    "            print(matrix[end_y][i], end=',')\n",
    "\n",
    "    # print from bottom to top\n",
    "    if start < end_x and start < end_y - 1:\n",
    "        for i in reversed(range(start + 1, (end_y - 1) + 1)):\n",
    "            print(matrix[i][start], end=',')"
   ]
  },
  {
   "cell_type": "markdown",
   "metadata": {},
   "source": [
    "### Test"
   ]
  },
  {
   "cell_type": "code",
   "execution_count": 2,
   "metadata": {},
   "outputs": [
    {
     "name": "stdout",
     "output_type": "stream",
     "text": [
      "1,2,3,4,8,12,11,10,9,5,6,7,"
     ]
    }
   ],
   "source": [
    "a = [[1, 2, 3, 4],\n",
    "     [5, 6, 7, 8],\n",
    "     [9, 10, 11, 12]]\n",
    "\n",
    "print_matrix_clockwise(a)"
   ]
  },
  {
   "cell_type": "code",
   "execution_count": 4,
   "metadata": {},
   "outputs": [
    {
     "name": "stdout",
     "output_type": "stream",
     "text": [
      "1,2,3,4,\n",
      "1,2,3,4,"
     ]
    }
   ],
   "source": [
    "b = [[1,2,3,4]]\n",
    "c = [[1],\n",
    "     [2],\n",
    "     [3],\n",
    "     [4]]\n",
    "print_matrix_clockwise(b)\n",
    "print(\"\")\n",
    "print_matrix_clockwise(c)"
   ]
  },
  {
   "cell_type": "code",
   "execution_count": 6,
   "metadata": {},
   "outputs": [
    {
     "name": "stdout",
     "output_type": "stream",
     "text": [
      "1,"
     ]
    },
    {
     "data": {
      "text/plain": [
       "[]"
      ]
     },
     "execution_count": 6,
     "metadata": {},
     "output_type": "execute_result"
    }
   ],
   "source": [
    "d = [[1]]\n",
    "print_matrix_clockwise(d)\n",
    "e = []\n",
    "print_matrix_clockwise(e)"
   ]
  }
 ],
 "metadata": {
  "kernelspec": {
   "display_name": "Python 3",
   "language": "python",
   "name": "python3"
  },
  "language_info": {
   "codemirror_mode": {
    "name": "ipython",
    "version": 3
   },
   "file_extension": ".py",
   "mimetype": "text/x-python",
   "name": "python",
   "nbconvert_exporter": "python",
   "pygments_lexer": "ipython3",
   "version": "3.6.3"
  }
 },
 "nbformat": 4,
 "nbformat_minor": 2
}
