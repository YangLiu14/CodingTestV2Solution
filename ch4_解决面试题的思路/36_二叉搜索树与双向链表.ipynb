{
 "cells": [
  {
   "cell_type": "markdown",
   "metadata": {},
   "source": [
    "## 36. 二叉搜索树与双向链表\n",
    "\n",
    "输入一棵二叉搜索树，将该二叉搜索树转换成一个排序的双向链表。要求不能创建任何新的结点，只能调整树中结点指针的指向。\n",
    "<img src=\"images/img36_a.png\" style=\"width: 450px;\"/>\n",
    "\n",
    "### 分析\n",
    "1. 转换后的双向列表正好是中序遍历二叉搜索树的顺序。\n",
    "2. 用递归实现中序遍历，先把左子树转换成双向链表，用一个指针记下左子树转换好的链表的最后一个值（也是最大的那个值），与root连接。\n",
    "3. 递归进入右子树，同样的操作。\n",
    "\n",
    "<img src=\"images/img36_b.png\" style=\"width: 250px;\"/>\n",
    "\n",
    "##### ⚠️ Pitfall\n",
    "和C++或者Java不同的是, \n",
    "1.python里各种数据类型的赋值是**call by reference**，改变一个会使得两个都一起改变。\n",
    "\n",
    "2.如果在递归里传递参数，回到上一层的时候，被传递的参数会回到初始值。\n",
    "\n",
    "基于以上两个点，只能在class里专门写一个变量用来保存需要在各个成员函数里改变的变量。here: `self.convert_node`\n",
    "[//]: # (<img src=\"images/img123.png\" style=\"width: 400px;\"/>)"
   ]
  },
  {
   "cell_type": "code",
   "execution_count": 1,
   "metadata": {
    "collapsed": true
   },
   "outputs": [],
   "source": [
    "class TreeNode:\n",
    "    def __init__(self, x):\n",
    "        self.val = x\n",
    "        self.left = None\n",
    "        self.right = None"
   ]
  },
  {
   "cell_type": "code",
   "execution_count": 2,
   "metadata": {
    "collapsed": true
   },
   "outputs": [],
   "source": [
    "class Solution:\n",
    "\n",
    "    def __init__(self):\n",
    "        self.pLastNodeInList = None\n",
    "\n",
    "    def convert(self, pRootOfTree):\n",
    "        self.convert_node(pRootOfTree)\n",
    "        # pLastNodeInList指向双向链表的尾节点，我们需要返回头头节点\n",
    "        pHeadOfList = self. pLastNodeInList\n",
    "        while pHeadOfList is not None and pHeadOfList.left is not None:\n",
    "            pHeadOfList = pHeadOfList.left\n",
    "\n",
    "        return pHeadOfList\n",
    "\n",
    "    def convert_node(self, pNode):\n",
    "        \"\"\"\n",
    "        go though the tree in in-order recursively\n",
    "        :param pNode: the currently visiting node\n",
    "        :param pLastNodeInList: point at the last node in the already transforms double-linked-list\n",
    "        \"\"\"\n",
    "        if pNode is None:\n",
    "            return\n",
    "        pCurrent = pNode\n",
    "\n",
    "        # 中序遍历：一直往左走\n",
    "        if pCurrent.left is not None:\n",
    "            self.convert_node(pCurrent.left)\n",
    "\n",
    "        # 中序遍历：左边走到了底，对当前node做操作\n",
    "        pCurrent.left = self.pLastNodeInList\n",
    "        if self.pLastNodeInList is not None:\n",
    "            self.pLastNodeInList.right = pCurrent\n",
    "        self.pLastNodeInList = pCurrent\n",
    "\n",
    "        # 中序遍历：访问右边的node\n",
    "        if pCurrent.right is not None:\n",
    "            self.convert_node(pCurrent.right)\n",
    "\n",
    "    def print_forth_and_back(self, linked_list):\n",
    "        while linked_list.right is not None:\n",
    "            print(linked_list.val, end='->')\n",
    "            linked_list = linked_list.right\n",
    "        print(linked_list.val)\n",
    "\n",
    "        while linked_list.left is not None:\n",
    "            print(linked_list.val, end='->')\n",
    "            linked_list = linked_list.left\n",
    "        print(linked_list.val)"
   ]
  },
  {
   "cell_type": "markdown",
   "metadata": {},
   "source": [
    "### Test"
   ]
  },
  {
   "cell_type": "code",
   "execution_count": 3,
   "metadata": {},
   "outputs": [
    {
     "name": "stdout",
     "output_type": "stream",
     "text": [
      "4->6->8->10->12->14->16\n",
      "16->14->12->10->8->6->4\n"
     ]
    }
   ],
   "source": [
    "root1 = TreeNode(10)\n",
    "root1.left = TreeNode(6)\n",
    "root1.right = TreeNode(14)\n",
    "\n",
    "root1.left.left = TreeNode(4)\n",
    "root1.left.right = TreeNode(8)\n",
    "\n",
    "root1.right.left = TreeNode(12)\n",
    "root1.right.right = TreeNode(16)\n",
    "\n",
    "s = Solution()\n",
    "a = s.convert(root1)\n",
    "s.print_forth_and_back(a)"
   ]
  },
  {
   "cell_type": "code",
   "execution_count": null,
   "metadata": {
    "collapsed": true
   },
   "outputs": [],
   "source": []
  }
 ],
 "metadata": {
  "kernelspec": {
   "display_name": "Python 3",
   "language": "python",
   "name": "python3"
  },
  "language_info": {
   "codemirror_mode": {
    "name": "ipython",
    "version": 3
   },
   "file_extension": ".py",
   "mimetype": "text/x-python",
   "name": "python",
   "nbconvert_exporter": "python",
   "pygments_lexer": "ipython3",
   "version": "3.6.3"
  }
 },
 "nbformat": 4,
 "nbformat_minor": 2
}
