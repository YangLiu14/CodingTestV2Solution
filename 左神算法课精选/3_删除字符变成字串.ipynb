{
 "cells": [
  {
   "cell_type": "markdown",
   "metadata": {},
   "source": [
    "## 3. 删除字符变成字串"
   ]
  },
  {
   "cell_type": "markdown",
   "metadata": {},
   "source": [
    "### 前置问题：leetcode 72 - 编辑距离\n",
    "给你两个单词 word1 和 word2，请你计算出将 word1 转换成 word2 所使用的最少操作数 。\n",
    "\n",
    "你可以对一个单词进行如下三种操作：\n",
    "\n",
    "- 插入一个字符\n",
    "- 删除一个字符\n",
    "- 替换一个字符\n",
    "\n",
    "**示例1**\n",
    "```\n",
    "输入：word1 = \"horse\", word2 = \"ros\"\n",
    "输出：3\n",
    "解释：\n",
    "horse -> rorse (将 'h' 替换为 'r')\n",
    "rorse -> rose (删除 'r')\n",
    "rose -> ros (删除 'e')\n",
    "```\n",
    "\n",
    "**示例2**\n",
    "```\n",
    "输入：word1 = \"intention\", word2 = \"execution\"\n",
    "输出：5\n",
    "解释：\n",
    "intention -> inention (删除 't')\n",
    "inention -> enention (将 'i' 替换为 'e')\n",
    "enention -> exention (将 'n' 替换为 'x')\n",
    "exention -> exection (将 'n' 替换为 'c')\n",
    "exection -> execution (插入 'u')\n",
    "```"
   ]
  },
  {
   "cell_type": "code",
   "execution_count": 7,
   "metadata": {},
   "outputs": [],
   "source": [
    "# op[i][j] 表示 word1的[0,i]部分转变为word2的[0,j]部分需要的最少操作次数\n",
    "# 如果word1[i] == word2[j] 那么 op[i][j] == op[i-1][j-1] 不需要任何操作\n",
    "# 否则，op[i][j] = 1 + min(op[i][j-1], op[i-1][j], op[i-1][j-1])\n",
    "#                            删减         添加         替换\n",
    "\n",
    "def minDistance(word1: str, word2: str):\n",
    "    n = len(word1)\n",
    "    m = len(word2)\n",
    "\n",
    "    # 当其中一个字符串为空\n",
    "    if n * m == 0:\n",
    "        return n + m\n",
    "\n",
    "    op = [[0] * (m+1) for _ in range(n+1)]\n",
    "    # 边界状态初始化\n",
    "    for i in range(n+1):\n",
    "        op[i][0] = i   # op[0,0]表示空数组\n",
    "    for j in range(m+1):\n",
    "        op[0][j] = j\n",
    "\n",
    "    for i in range(1, n+1):\n",
    "        for j in range(1, m+1):\n",
    "            delete = op[i][j-1]\n",
    "            add = op[i-1][j]\n",
    "            sub = op[i-1][j-1]\n",
    "\n",
    "            if word1[i-1] == word2[j-1]:\n",
    "                op[i][j] = op[i-1][j-1]\n",
    "            else:\n",
    "                op[i][j] = 1 + min(delete, add, sub)\n",
    "\n",
    "    return op[n][m]"
   ]
  },
  {
   "cell_type": "code",
   "execution_count": 8,
   "metadata": {},
   "outputs": [
    {
     "name": "stdout",
     "output_type": "stream",
     "text": [
      "3\n",
      "5\n"
     ]
    }
   ],
   "source": [
    "print(minDistance(\"horse\", \"ros\"))\n",
    "print(minDistance(\"intention\", \"execution\"))"
   ]
  },
  {
   "cell_type": "code",
   "execution_count": null,
   "metadata": {},
   "outputs": [],
   "source": []
  }
 ],
 "metadata": {
  "kernelspec": {
   "display_name": "Python 3",
   "language": "python",
   "name": "python3"
  },
  "language_info": {
   "codemirror_mode": {
    "name": "ipython",
    "version": 3
   },
   "file_extension": ".py",
   "mimetype": "text/x-python",
   "name": "python",
   "nbconvert_exporter": "python",
   "pygments_lexer": "ipython3",
   "version": "3.7.7"
  }
 },
 "nbformat": 4,
 "nbformat_minor": 2
}
