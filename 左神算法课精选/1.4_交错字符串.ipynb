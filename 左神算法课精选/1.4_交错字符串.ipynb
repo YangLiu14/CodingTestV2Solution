{
 "cells": [
  {
   "cell_type": "markdown",
   "metadata": {},
   "source": [
    "## 4. 交错字符串\n",
    "\n",
    "#### leetcode 97\n",
    "\n",
    "给定三个字符串 s1, s2, s3, 验证 s3 是否是由 s1 和 s2 交错组成的。\n",
    "\n",
    "示例 1:\n",
    "```\n",
    "输入: s1 = \"aabcc\", s2 = \"dbbca\", s3 = \"aadbbcbcac\"\n",
    "输出: true\n",
    "```\n",
    "\n",
    "示例 2:\n",
    "```\n",
    "输入: s1 = \"aabcc\", s2 = \"dbbca\", s3 = \"aadbbbaccc\"\n",
    "输出: false\n",
    "```"
   ]
  },
  {
   "cell_type": "markdown",
   "metadata": {},
   "source": [
    "### 思路\n",
    "定义`dp[i][j]`表示： s1中长度为`i`的前缀`(0~i-1)`，s2中长度为`j`的前缀`(0~j-1)`，\n",
    "是否可以交错组合成s3中长度为`(i + j)`的前缀 `(0~i+j-1)`\n",
    "\n",
    "⚠️注意`dp[0][0]`表示两个空字符串\n",
    "\n",
    "#### 状态转移方程：\n",
    "`dp[i][j]` 为`True`的情况：\n",
    "1. `dp[i-1][j] && s3[i+j-1] == s1[i-1]` 解释：s3的第`(i+j-1)`个字符被 s1的`i-1`位置匹配，且，前面都是匹配的\n",
    "\n",
    "或者\n",
    "\n",
    "2. `dp[i][j-1] && s3[i+j-1] == s2[j-1]` 解释：s3的第`(i+j-1)`个字符被 s2的`j-1`位置匹配，且，前面都是匹配的"
   ]
  },
  {
   "cell_type": "code",
   "execution_count": 4,
   "metadata": {},
   "outputs": [],
   "source": [
    "def isInterleave(s1: str, s2: str, s3: str) -> bool:\n",
    "    if s1 is None or s2 is None or s3 is None:\n",
    "        return False\n",
    "\n",
    "    if len(s1) + len(s2) != len(s3):\n",
    "        return False\n",
    "\n",
    "    if s1 == \"\":\n",
    "        return s2 == s3\n",
    "    if s2 == \"\":\n",
    "        return s1 == s3\n",
    "\n",
    "    # init dp\n",
    "    dp = [[False] * (len(s2) + 1) for _ in range(len(s1) + 1)]\n",
    "    for i in range(len(s1) + 1):\n",
    "        # 表示只用s1时，是否可以配对s3\n",
    "        dp[i][0] = s1[:i] == s3[:i]\n",
    "    for j in range(len(s2) + 1):\n",
    "        # 表示只用s2时，是否可以配对s3\n",
    "        dp[0][j] = s2[:j] == s3[:j]\n",
    "\n",
    "    # 计算dp\n",
    "    for i in range(1, len(s1) + 1):\n",
    "        for j in range(1, len(s2) + 1):\n",
    "            condition1 = (s1[i - 1] == s3[i + j - 1] and dp[i - 1][j])\n",
    "            condition2 = (s2[j - 1] == s3[i + j - 1] and dp[i][j - 1])\n",
    "            if condition1 or condition2:\n",
    "                dp[i][j] = True\n",
    "\n",
    "    return dp[len(s1)][len(s2)]"
   ]
  },
  {
   "cell_type": "code",
   "execution_count": 6,
   "metadata": {},
   "outputs": [
    {
     "name": "stdout",
     "output_type": "stream",
     "text": [
      "True\n",
      "False\n"
     ]
    }
   ],
   "source": [
    "print(isInterleave(s1=\"aabcc\", s2=\"dbbca\", s3=\"aadbbcbcac\"))\n",
    "print(isInterleave(s1=\"aabcc\", s2=\"dbbca\", s3=\"aadbbbaccc\"))"
   ]
  }
 ],
 "metadata": {
  "kernelspec": {
   "display_name": "Python 3",
   "language": "python",
   "name": "python3"
  },
  "language_info": {
   "codemirror_mode": {
    "name": "ipython",
    "version": 3
   },
   "file_extension": ".py",
   "mimetype": "text/x-python",
   "name": "python",
   "nbconvert_exporter": "python",
   "pygments_lexer": "ipython3",
   "version": "3.7.7"
  }
 },
 "nbformat": 4,
 "nbformat_minor": 2
}
