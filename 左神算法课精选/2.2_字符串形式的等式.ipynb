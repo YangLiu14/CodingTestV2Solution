{
 "cells": [
  {
   "cell_type": "markdown",
   "metadata": {},
   "source": [
    "## 2.2. 字符串形式的等式\n",
    "\n",
    "给定一个字符串string表示一个公式，公式里面可能有整数、加减乘除符号 和 左右括号，返回公式的计算结果。\n",
    "\n",
    "\n",
    "**说明**\n",
    "可以认为给定的公式一定正确。且不包含多余空格"
   ]
  },
  {
   "cell_type": "markdown",
   "metadata": {},
   "source": [
    "### 思路\n",
    "本题目的思路和代码可以直接使用在嵌套感觉的字符串处理里面。**嵌套解释**：比如这道题目，会需要用递归，先计算括号里面的值返回到上级函数，然后上级函数再继续从计算到的右边括号继续计算（或入栈）下面的值或者符号。\n",
    "\n",
    "<img src=\"images/img2.2.jpeg\" style=\"width: 500px;\"/>\n"
   ]
  },
  {
   "cell_type": "code",
   "execution_count": 11,
   "metadata": {},
   "outputs": [],
   "source": [
    "###################################\n",
    "# main func\n",
    "###################################\n",
    "def equation_from_str(string: str) -> int:\n",
    "    return recursive(string, 0)[0]\n",
    "\n",
    "\n",
    "# 主要递归函数\n",
    "def recursive(string: str, i: int):\n",
    "    que = list()\n",
    "    num = 0\n",
    "    bracket = list()\n",
    "\n",
    "    # 从 i 位置开始，遇到string终止，或者遇到右括号时候，停止\n",
    "    while i < len(string) and string[i] != ')':\n",
    "        if string[i] >= '0' and string[i] <= '9':  # 遇到的是数字\n",
    "            num = num * 10 + int(string[i])\n",
    "            i += 1\n",
    "        elif string[i] != '(':  # 遇到的是运算符号\n",
    "            # 数字和符号入队列\n",
    "            append_num(que, num)\n",
    "            que.append(string[i])\n",
    "            num = 0\n",
    "            i += 1\n",
    "        else:  # 遇到左括号了`(`\n",
    "            # 请从左括号下一个数字的位置开始，计算当前括号里面的值\n",
    "            bracket = recursive(string, i + 1)\n",
    "            # 遇到了`)`，括号里面的值算完了，把位置返回，递归的上一级函数继续往下入栈数字和符号\n",
    "            num = bracket[0]\n",
    "            i = bracket[1] + 1\n",
    "\n",
    "    append_num(que, num)\n",
    "    return [calc_num(que), i]\n",
    "\n",
    "\n",
    "##################################\n",
    "# 辅助函数\n",
    "##################################\n",
    "def append_num(que, num):\n",
    "    if que:\n",
    "        cur = 0\n",
    "        top = que[-1]\n",
    "        # 如果队列尾部是乘法或除法，先把乘除法运算做掉，加入运算后的数字\n",
    "        if top == '*':\n",
    "            que.pop()  # 弹出符号\n",
    "            cur = que.pop()  # 弹出数字\n",
    "            num = cur * num\n",
    "        elif top == '/':\n",
    "            cur = que.pop()\n",
    "            num = cur / num\n",
    "    # 如果队列为空，或者队列尾部是加减号，直接加入数字\n",
    "    que.append(int(num))\n",
    "\n",
    "\n",
    "def calc_num(que):\n",
    "    # 经过上述 append_num 之后的队列里面，只可能包含数字和 + - 号\n",
    "    res = 0\n",
    "    add = True\n",
    "    cur = 0\n",
    "    num = 0\n",
    "\n",
    "    while que:\n",
    "        # pop queue\n",
    "        cur = que[0]\n",
    "        que = que[1:]\n",
    "        if cur == '+':\n",
    "            add = True\n",
    "        elif cur == '-':\n",
    "            add = False\n",
    "        else:\n",
    "            num = cur if add else (-cur)\n",
    "            res += num\n",
    "\n",
    "    return res "
   ]
  },
  {
   "cell_type": "code",
   "execution_count": 14,
   "metadata": {},
   "outputs": [
    {
     "name": "stdout",
     "output_type": "stream",
     "text": [
      "-142\n",
      "-5\n"
     ]
    }
   ],
   "source": [
    "input_string = \"10*((70-65)-20)+8*1\"\n",
    "print(equation_from_str(input_string))\n",
    "\n",
    "input_string = \"10-5*3\"\n",
    "print(equation_from_str(input_string))"
   ]
  },
  {
   "cell_type": "code",
   "execution_count": null,
   "metadata": {},
   "outputs": [],
   "source": []
  }
 ],
 "metadata": {
  "kernelspec": {
   "display_name": "Python 3",
   "language": "python",
   "name": "python3"
  },
  "language_info": {
   "codemirror_mode": {
    "name": "ipython",
    "version": 3
   },
   "file_extension": ".py",
   "mimetype": "text/x-python",
   "name": "python",
   "nbconvert_exporter": "python",
   "pygments_lexer": "ipython3",
   "version": "3.7.7"
  }
 },
 "nbformat": 4,
 "nbformat_minor": 2
}
