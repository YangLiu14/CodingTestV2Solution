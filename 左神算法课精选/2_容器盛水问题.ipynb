{
 "cells": [
  {
   "cell_type": "markdown",
   "metadata": {},
   "source": [
    "## 2. 容器盛水问题\n",
    "输入一个数组，每一个数字代表一个容器壁的高度。输出这组数组组成的容器能盛多少水。\n",
    "\n",
    "例子1：\n",
    "`n = 6, arr = [3,1,2,5,2,4]`\n",
    "\n",
    "输出5\n",
    "\n",
    "<img src=\"images/img2.png\" style=\"width: 250px;\"/>\n",
    "\n",
    "例子2:\n",
    "`n = 5, arr = [4,5,1,3,2]`\n",
    "\n",
    "输出2"
   ]
  },
  {
   "cell_type": "markdown",
   "metadata": {},
   "source": [
    "### 算法流程\n",
    "1. `max_left`, `max_right` 存储左右的当前最高的容器壁，其中小的那个则是当前的盛水瓶颈\n",
    "2. 建立左右指针，两个向中间移动。如果`max_left`比`max_right`小，则先结算左边的水，并且更新`max_left`的最大值。反之则结算右边的水。"
   ]
  },
  {
   "cell_type": "code",
   "execution_count": 1,
   "metadata": {},
   "outputs": [],
   "source": [
    "def count_water(arr, n) -> int:\n",
    "    if not arr:\n",
    "        return 0\n",
    "    if len(arr) <= 2:\n",
    "        return 0\n",
    "\n",
    "    max_left = arr[0]\n",
    "    max_right = arr[-1]\n",
    "    i, j = 1, n-2\n",
    "    water = 0\n",
    "    while i <= j:\n",
    "        if max_left < max_right:\n",
    "            water += max_left - arr[i] if max_left > arr[i] else 0\n",
    "            max_left = max(max_left, arr[i])\n",
    "            i += 1\n",
    "        else:\n",
    "            water += max_right - arr[j] if max_right > arr[j] else 0\n",
    "            max_right = max(max_right, arr[j])\n",
    "            j -= 1\n",
    "\n",
    "    return water"
   ]
  },
  {
   "cell_type": "code",
   "execution_count": 6,
   "metadata": {},
   "outputs": [
    {
     "name": "stdout",
     "output_type": "stream",
     "text": [
      "0\n",
      "2\n",
      "5\n",
      "2\n"
     ]
    }
   ],
   "source": [
    "print(count_water([4,8], 2))\n",
    "print(count_water([3,1,6], 3))\n",
    "print(count_water([3,1,2,5,2,4], 6))\n",
    "print(count_water([4,5,1,3,2], 5))"
   ]
  }
 ],
 "metadata": {
  "kernelspec": {
   "display_name": "Python 3",
   "language": "python",
   "name": "python3"
  },
  "language_info": {
   "codemirror_mode": {
    "name": "ipython",
    "version": 3
   },
   "file_extension": ".py",
   "mimetype": "text/x-python",
   "name": "python",
   "nbconvert_exporter": "python",
   "pygments_lexer": "ipython3",
   "version": "3.7.7"
  }
 },
 "nbformat": 4,
 "nbformat_minor": 2
}
