{
 "cells": [
  {
   "cell_type": "markdown",
   "metadata": {},
   "source": [
    "## 3.1 已知先序和中序求后序\n",
    "\n",
    "给二叉树的先序和中序遍历数组，求后序遍历数组。保证树中没有重复的节点。\n",
    "\n",
    "[//]: # ( <img src=\"images/img2.2.jpeg\" style=\"width: 500px;\"/> )"
   ]
  },
  {
   "cell_type": "markdown",
   "metadata": {},
   "source": [
    "### 思路\n",
    "\n",
    "<img src=\"images/img3_1.jpeg\" style=\"width: 400px;\"/>\n",
    "\n",
    "递归求解，设当前处理的PreOrder数组是 [L1, R1]，InOrder是[L2, R2]，PostOrder是[L3, R3]\n",
    "\n",
    "1. PreOrder中, L1对应的是root.\n",
    "2. 在InOrder中，找到root值对应的index\n",
    "3. 此时PreOrder中对应的左子树(a)的长度为：`pre_a - L1` (设`pre_a`是`a`里面的最后一个元素的index); InOrder中对应的左子树(a)的长度为`index - L2`. 此时当然有`pre_a - L1 = index - L2` --> `pre_a = index - L2 + L1`\n",
    "同样的道理，可以把左子树的首元素和末元素对应的index都可以求出来，结果如下：\n",
    "\n",
    "    - PreOrder(a) : `[L1+1, index-L2+L1]`\n",
    "    - InOrder(a)  : `[L2, index-1]`\n",
    "    - PostOrder(a): `[L3, (index-L2)+L3-1]`\n",
    "    \n",
    "同理求出右子树(b)部分:\n",
    "\n",
    "    - PreOrder(b) : `[index-L2+L1+1, R1]`\n",
    "    - InOrder(b)  : `[index+1, R2]`\n",
    "    - PostOrder(b): `[index-L2+L3, R3-1]`\n"
   ]
  },
  {
   "cell_type": "code",
   "execution_count": 1,
   "metadata": {},
   "outputs": [],
   "source": [
    "class TreeNode(object):\n",
    "    def __init__(self, x):\n",
    "        self.val = x\n",
    "        self.left = None\n",
    "        self.right = None"
   ]
  },
  {
   "cell_type": "code",
   "execution_count": 37,
   "metadata": {},
   "outputs": [],
   "source": [
    "def getPostOrderArray(pre, in):\n",
    "    "
   ]
  },
  {
   "cell_type": "markdown",
   "metadata": {},
   "source": [
    "### 测试用代码"
   ]
  },
  {
   "cell_type": "code",
   "execution_count": 29,
   "metadata": {},
   "outputs": [],
   "source": [
    "def print_tree(root: TreeNode):\n",
    "    print(\"Binary Tree\")\n",
    "    print_inOrder(root, 0, \"H\", 17)\n",
    "    print()\n",
    "    \n",
    "\n",
    "def print_inOrder(root: TreeNode, height: int, to: str, length: int):\n",
    "    if not root:\n",
    "        return\n",
    "    print_inOrder(root.right, height+1, \"v\", length)\n",
    "    val: str = to + str(root.val) + to\n",
    "    lenM = len(val)\n",
    "    lenL = (length - lenM) // 2\n",
    "    lenR = length - lenM - lenL\n",
    "    val = get_space(lenL) + val + get_space(lenR)\n",
    "    print(get_space(height * length) + val)\n",
    "    print_inOrder(root.left, height+1, \"^\", length)\n",
    "    \n",
    "\n",
    "def get_space(num: int) -> str:\n",
    "    space = ' '\n",
    "    buf = list()\n",
    "    for i in range(num//4):\n",
    "        buf.append(space)\n",
    "    return \"\".join(buf)"
   ]
  },
  {
   "cell_type": "code",
   "execution_count": 30,
   "metadata": {},
   "outputs": [],
   "source": [
    "head = TreeNode(6)\n",
    "head.left = TreeNode(1)\n",
    "head.left.left = TreeNode(0)\n",
    "head.left.right = TreeNode(3)\n",
    "head.right = TreeNode(12)\n",
    "head.right.left = TreeNode(10);\n",
    "head.right.left.left = TreeNode(4)\n",
    "head.right.left.left.left = TreeNode(2)\n",
    "head.right.left.left.right = TreeNode(5)\n",
    "head.right.left.right = TreeNode(14)\n",
    "head.right.left.right.left = TreeNode(11)\n",
    "head.right.left.right.right = TreeNode(15)\n",
    "head.right.right = TreeNode(13)\n",
    "head.right.right.left = TreeNode(20)\n",
    "head.right.right.right = TreeNode(16)"
   ]
  },
  {
   "cell_type": "code",
   "execution_count": 31,
   "metadata": {},
   "outputs": [
    {
     "name": "stdout",
     "output_type": "stream",
     "text": [
      "Binary Tree\n",
      "             v16v \n",
      "         v13v \n",
      "             ^20^ \n",
      "     v12v \n",
      "                  v15v \n",
      "             v14v \n",
      "                  ^11^ \n",
      "         ^10^ \n",
      "                  v5v \n",
      "             ^4^ \n",
      "                  ^2^ \n",
      " H6H \n",
      "         v3v \n",
      "     ^1^ \n",
      "         ^0^ \n",
      "\n"
     ]
    }
   ],
   "source": [
    "print_tree(head)"
   ]
  },
  {
   "cell_type": "markdown",
   "metadata": {},
   "source": [
    "### 测试"
   ]
  },
  {
   "cell_type": "code",
   "execution_count": 38,
   "metadata": {},
   "outputs": [
    {
     "name": "stdout",
     "output_type": "stream",
     "text": [
      "7\n"
     ]
    }
   ],
   "source": [
    "res = biggestSubBSTinTree(head)\n",
    "print(res.maxBSTSize)"
   ]
  }
 ],
 "metadata": {
  "kernelspec": {
   "display_name": "Python 3",
   "language": "python",
   "name": "python3"
  },
  "language_info": {
   "codemirror_mode": {
    "name": "ipython",
    "version": 3
   },
   "file_extension": ".py",
   "mimetype": "text/x-python",
   "name": "python",
   "nbconvert_exporter": "python",
   "pygments_lexer": "ipython3",
   "version": "3.7.6"
  }
 },
 "nbformat": 4,
 "nbformat_minor": 2
}
