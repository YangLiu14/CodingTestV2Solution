{
 "cells": [
  {
   "cell_type": "markdown",
   "metadata": {},
   "source": [
    "## 2.6 最大搜索二叉树节点数\n",
    "\n",
    "给一个任意的二叉树，求其中包含的最大的**二叉搜索树**，返回其节点数。\n",
    "\n",
    "[//]: # ( <img src=\"images/img2.2.jpeg\" style=\"width: 500px;\"/> )"
   ]
  },
  {
   "cell_type": "markdown",
   "metadata": {},
   "source": [
    "### 套路\n",
    "\n",
    "#### Step 1 左右子树的返回信息\n",
    "首先，需要确定左右子树需要返回什么信息：对于每个root节点，我想要知道：\n",
    "- 我的左子树 1.是否为BST；2.BST包含的最多节点数（如果自己不是BST，且不包含BST，那就是0）；3.左子树中最大的数字max\n",
    "- 我的右子树 1.是否为BST；2.BST包含的最多节点数（如果自己不是BST，且不包含BST，那就是0）；3.右子树中最小的数字min\n",
    "需要max和min是因为，我需要考虑我的root和左子树右子树是否可以合并成一个BST，这时候就需要 max < root.val < min.\n",
    "\n",
    "将上面两个信息结合来，我们可以创建一个class Info来作为子节点需要返回给root的信息：\n",
    "```python\n",
    "class Info():\n",
    "    def __init__(self, maxBSTSize: int, isALLBST: bool, maxNum: int, minNum: int):\n",
    "        self.maxBSTSize = maxBSTSize\n",
    "        self.isALLBST = isALLBST\n",
    "        self.maxNum = maxNum\n",
    "        self.minNum = minNum\n",
    "```\n",
    "\n",
    "#### Step 2 递归思路\n",
    "\n",
    "\n",
    "\n",
    "\n"
   ]
  },
  {
   "cell_type": "code",
   "execution_count": 1,
   "metadata": {},
   "outputs": [],
   "source": [
    "class TreeNode(object):\n",
    "    def __init__(self, x):\n",
    "        self.val = x\n",
    "        self.left = None\n",
    "        self.right = None"
   ]
  },
  {
   "cell_type": "code",
   "execution_count": 37,
   "metadata": {},
   "outputs": [],
   "source": [
    "INT_MIN = 2e-31\n",
    "class Info():\n",
    "    def __init__(self, maxBSTSize: int, isAllBST: bool, maxNum: int, minNum: int):\n",
    "        self.maxBSTSize = maxBSTSize\n",
    "        self.isAllBST = isAllBST\n",
    "        self.maxNum = maxNum\n",
    "        self.minNum = minNum\n",
    "\n",
    "\n",
    "def biggestSubBSTinTree(root: TreeNode):\n",
    "    if root is None:\n",
    "        return None\n",
    "\n",
    "    # 递归形式得到左右节点的信息\n",
    "    left_data = biggestSubBSTinTree(root.left)\n",
    "    right_data = biggestSubBSTinTree(root.right)\n",
    "\n",
    "    # 得到了左右子树返回的信息之后开始考虑所有的可能性\n",
    "    maxBSTSize = 0\n",
    "    isAllBST = False\n",
    "\n",
    "    # 可性能1:左子树的最大BST节点数\n",
    "    p1 = INT_MIN\n",
    "    if left_data:\n",
    "        p1 = left_data.maxBSTSize\n",
    "    # 可能性2: 右子树的最大BST节点数\n",
    "    p2 = INT_MIN\n",
    "    if right_data:\n",
    "        p2 = right_data.maxBSTSize\n",
    "    # 可能性3: 左右子树都是完全的BST\n",
    "    # 此时检测，是否可以和root合并\n",
    "    p3 = INT_MIN\n",
    "    if ((left_data is None) or (left_data and left_data.isAllBST and left_data.maxNum < root.val)) and \\\n",
    "            ((right_data is None) or (right_data and right_data.isAllBST and right_data.minNum > root.val)):\n",
    "        left_size = left_data.maxBSTSize if left_data else 0\n",
    "        right_size = right_data.maxBSTSize if right_data else 0\n",
    "        p3 = left_size + right_size + 1  # +1 是算上root node自己\n",
    "\n",
    "        isAllBST = True\n",
    "    maxBSTSize = max(p1, p2, p3)\n",
    "\n",
    "    # 更新当前 以root为根节点的 最大值最小值\n",
    "    maxNum = minNum = root.val  # init\n",
    "    if left_data:\n",
    "        maxNum = max(maxNum, left_data.maxNum)\n",
    "        minNum = min(minNum, left_data.minNum)\n",
    "    if right_data:\n",
    "        maxNum = max(maxNum, right_data.maxNum)\n",
    "        minNum = min(minNum, right_data.minNum)\n",
    "\n",
    "    # 把这个节点的信息传到上一层\n",
    "    return Info(maxBSTSize, isAllBST, maxNum, minNum)"
   ]
  },
  {
   "cell_type": "markdown",
   "metadata": {},
   "source": [
    "### 测试用代码"
   ]
  },
  {
   "cell_type": "code",
   "execution_count": 29,
   "metadata": {},
   "outputs": [],
   "source": [
    "def print_tree(root: TreeNode):\n",
    "    print(\"Binary Tree\")\n",
    "    print_inOrder(root, 0, \"H\", 17)\n",
    "    print()\n",
    "    \n",
    "\n",
    "def print_inOrder(root: TreeNode, height: int, to: str, length: int):\n",
    "    if not root:\n",
    "        return\n",
    "    print_inOrder(root.right, height+1, \"v\", length)\n",
    "    val: str = to + str(root.val) + to\n",
    "    lenM = len(val)\n",
    "    lenL = (length - lenM) // 2\n",
    "    lenR = length - lenM - lenL\n",
    "    val = get_space(lenL) + val + get_space(lenR)\n",
    "    print(get_space(height * length) + val)\n",
    "    print_inOrder(root.left, height+1, \"^\", length)\n",
    "    \n",
    "\n",
    "def get_space(num: int) -> str:\n",
    "    space = ' '\n",
    "    buf = list()\n",
    "    for i in range(num//4):\n",
    "        buf.append(space)\n",
    "    return \"\".join(buf)"
   ]
  },
  {
   "cell_type": "code",
   "execution_count": 30,
   "metadata": {},
   "outputs": [],
   "source": [
    "head = TreeNode(6)\n",
    "head.left = TreeNode(1)\n",
    "head.left.left = TreeNode(0)\n",
    "head.left.right = TreeNode(3)\n",
    "head.right = TreeNode(12)\n",
    "head.right.left = TreeNode(10);\n",
    "head.right.left.left = TreeNode(4)\n",
    "head.right.left.left.left = TreeNode(2)\n",
    "head.right.left.left.right = TreeNode(5)\n",
    "head.right.left.right = TreeNode(14)\n",
    "head.right.left.right.left = TreeNode(11)\n",
    "head.right.left.right.right = TreeNode(15)\n",
    "head.right.right = TreeNode(13)\n",
    "head.right.right.left = TreeNode(20)\n",
    "head.right.right.right = TreeNode(16)"
   ]
  },
  {
   "cell_type": "code",
   "execution_count": 31,
   "metadata": {},
   "outputs": [
    {
     "name": "stdout",
     "output_type": "stream",
     "text": [
      "Binary Tree\n",
      "             v16v \n",
      "         v13v \n",
      "             ^20^ \n",
      "     v12v \n",
      "                  v15v \n",
      "             v14v \n",
      "                  ^11^ \n",
      "         ^10^ \n",
      "                  v5v \n",
      "             ^4^ \n",
      "                  ^2^ \n",
      " H6H \n",
      "         v3v \n",
      "     ^1^ \n",
      "         ^0^ \n",
      "\n"
     ]
    }
   ],
   "source": [
    "print_tree(head)"
   ]
  },
  {
   "cell_type": "markdown",
   "metadata": {},
   "source": [
    "### 测试"
   ]
  },
  {
   "cell_type": "code",
   "execution_count": 38,
   "metadata": {},
   "outputs": [
    {
     "name": "stdout",
     "output_type": "stream",
     "text": [
      "7\n"
     ]
    }
   ],
   "source": [
    "res = biggestSubBSTinTree(head)\n",
    "print(res.maxBSTSize)"
   ]
  }
 ],
 "metadata": {
  "kernelspec": {
   "display_name": "Python 3",
   "language": "python",
   "name": "python3"
  },
  "language_info": {
   "codemirror_mode": {
    "name": "ipython",
    "version": 3
   },
   "file_extension": ".py",
   "mimetype": "text/x-python",
   "name": "python",
   "nbconvert_exporter": "python",
   "pygments_lexer": "ipython3",
   "version": "3.7.7"
  }
 },
 "nbformat": 4,
 "nbformat_minor": 2
}
