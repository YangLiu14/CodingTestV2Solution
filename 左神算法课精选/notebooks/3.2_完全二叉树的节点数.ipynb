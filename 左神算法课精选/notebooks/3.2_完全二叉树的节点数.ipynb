{
 "cells": [
  {
   "cell_type": "markdown",
   "metadata": {},
   "source": [
    "## 3.2 完全二叉树的节点数\n",
    "\n",
    "给一棵\"完全二叉树\"，求整个树包含多少个节点\n",
    "\n",
    "[//]: # ( <img src=\"images/img2.2.jpeg\" style=\"width: 500px;\"/> )"
   ]
  },
  {
   "cell_type": "markdown",
   "metadata": {},
   "source": [
    "### 思路\n",
    "\n",
    "利用了完全二叉树的特点：先填满左树，然后再去填右树\n",
    "\n",
    "<img src=\"images/img3_2.jpeg\" style=\"width: 500px;\"/>"
   ]
  },
  {
   "cell_type": "code",
   "execution_count": 1,
   "metadata": {},
   "outputs": [],
   "source": [
    "class TreeNode(object):\n",
    "    def __init__(self, x):\n",
    "        self.val = x\n",
    "        self.left = None\n",
    "        self.right = None"
   ]
  },
  {
   "cell_type": "code",
   "execution_count": 2,
   "metadata": {},
   "outputs": [],
   "source": [
    "# main func\n",
    "def nodeNum(root: TreeNode) -> int:\n",
    "    if not root:\n",
    "        return 0\n",
    "    tree_depth = mostLeftLevel(root, 1)\n",
    "    return bs(root, 1, tree_depth)\n",
    "\n",
    "# recursive\n",
    "def bs(node: TreeNode, level: int, h: int) -> int:\n",
    "    \"\"\"\n",
    "    @param\n",
    "    level: node在第level层\n",
    "    h: 整个tree的深度，永远不变，是全局变量\n",
    "    \"\"\"\n",
    "    # Exit condition\n",
    "    if level == h:\n",
    "        # 到达最深的一层，返回node自己的个数，也就是1\n",
    "        return 1\n",
    "\n",
    "    # 递归主体\n",
    "    if mostLeftLevel(node.right, level+1) == h:\n",
    "        # node的右子树的最大深度达到了整个树的最大深度，说明左树是满的\n",
    "        return 2**(h-level) - 1 + 1 + bs(node.right, level+1, h)\n",
    "    else:\n",
    "        # node的右子树的最大深度没有达到整个树的最大深度，说明右树是满的\n",
    "        return 2**(h-level-1) - 1 + 1 + bs(node.left, level+1, h)\n",
    "\n",
    "\n",
    "# helper func\n",
    "def mostLeftLevel(root: TreeNode, startLevel) -> int:\n",
    "    \"\"\"\n",
    "    计算一颗完全二叉树的深度\n",
    "    \"\"\"\n",
    "    level = startLevel\n",
    "    while root:\n",
    "        root = root.left\n",
    "        level += 1\n",
    "    return level - 1"
   ]
  },
  {
   "cell_type": "markdown",
   "metadata": {},
   "source": [
    "### 测试"
   ]
  },
  {
   "cell_type": "code",
   "execution_count": 3,
   "metadata": {},
   "outputs": [
    {
     "name": "stdout",
     "output_type": "stream",
     "text": [
      "6\n"
     ]
    }
   ],
   "source": [
    "root = TreeNode(1)\n",
    "root.left = TreeNode(2)\n",
    "root.right = TreeNode(3)\n",
    "root.left.left = TreeNode(4)\n",
    "root.left.right = TreeNode(5)\n",
    "root.right.left = TreeNode(6)\n",
    "print(nodeNum(root))"
   ]
  },
  {
   "cell_type": "code",
   "execution_count": null,
   "metadata": {},
   "outputs": [],
   "source": []
  }
 ],
 "metadata": {
  "kernelspec": {
   "display_name": "Python 3",
   "language": "python",
   "name": "python3"
  },
  "language_info": {
   "codemirror_mode": {
    "name": "ipython",
    "version": 3
   },
   "file_extension": ".py",
   "mimetype": "text/x-python",
   "name": "python",
   "nbconvert_exporter": "python",
   "pygments_lexer": "ipython3",
   "version": "3.7.6"
  }
 },
 "nbformat": 4,
 "nbformat_minor": 2
}
