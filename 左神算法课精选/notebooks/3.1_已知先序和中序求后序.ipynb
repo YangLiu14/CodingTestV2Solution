{
 "cells": [
  {
   "cell_type": "markdown",
   "metadata": {},
   "source": [
    "## 3.1 已知先序和中序求后序\n",
    "\n",
    "给二叉树的先序和中序遍历数组，求后序遍历数组。保证树中没有重复的节点。\n",
    "\n",
    "[//]: # ( <img src=\"images/img2.2.jpeg\" style=\"width: 500px;\"/> )"
   ]
  },
  {
   "cell_type": "markdown",
   "metadata": {},
   "source": [
    "### 思路\n",
    "\n",
    "<img src=\"images/img3_1.jpeg\" style=\"width: 400px;\"/>\n",
    "\n",
    "递归求解，设当前处理的PreOrder数组是 [L1, R1]，InOrder是[L2, R2]，PostOrder是[L3, R3]\n",
    "\n",
    "1. PreOrder中, L1对应的是root.\n",
    "2. 在InOrder中，找到root值对应的index\n",
    "3. 此时PreOrder中对应的左子树(a)的长度为：`pre_a - L1` (设`pre_a`是`a`里面的最后一个元素的index); InOrder中对应的左子树(a)的长度为`index - L2`. 此时当然有`pre_a - L1 = index - L2` --> `pre_a = index - L2 + L1`\n",
    "同样的道理，可以把左子树的首元素和末元素对应的index都可以求出来，结果如下：\n",
    "\n",
    "    - PreOrder(a) : `[L1+1, index-L2+L1]`\n",
    "    - InOrder(a)  : `[L2, index-1]`\n",
    "    - PostOrder(a): `[L3, (index-L2)+L3-1]`\n",
    "    \n",
    "同理求出右子树(b)部分:\n",
    "\n",
    "    - PreOrder(b) : `[index-L2+L1+1, R1]`\n",
    "    - InOrder(b)  : `[index+1, R2]`\n",
    "    - PostOrder(b): `[index-L2+L3, R3-1]`\n"
   ]
  },
  {
   "cell_type": "code",
   "execution_count": 1,
   "metadata": {},
   "outputs": [],
   "source": [
    "class TreeNode(object):\n",
    "    def __init__(self, x):\n",
    "        self.val = x\n",
    "        self.left = None\n",
    "        self.right = None"
   ]
  },
  {
   "cell_type": "code",
   "execution_count": 2,
   "metadata": {},
   "outputs": [],
   "source": [
    "from typing import List, Dict\n",
    "\n",
    "def getPostOrder(preArr: List[int], inArr: List[int]) -> List[int]:\n",
    "    if not preArr or not inArr:\n",
    "        return []\n",
    "\n",
    "    N = len(preArr)\n",
    "    postArr = [None] * N\n",
    "    setPost(preArr, inArr, postArr, 0, N-1, 0, N-1, 0, N-1)\n",
    "    return postArr\n",
    "\n",
    "\n",
    "def setPost(preArr, inArr, postArr, L1, R1, L2, R2, L3, R3):\n",
    "    # 退出条件\n",
    "    if L1 > R1:  # 越界\n",
    "        return\n",
    "    if L1 == R1:  # 只剩下一个数，直接填写\n",
    "        postArr[L3] = preArr[L1]\n",
    "        return \n",
    "\n",
    "    # 填写根节点\n",
    "    postArr[R3] = preArr[L1]\n",
    "    # 找到前序的头一个数字(root)在中序里面的位置\n",
    "    index = inArr.index(preArr[L1])\n",
    "\n",
    "    # 递归寻找下一个范围内的数字\n",
    "    # 左子树(a)部分\n",
    "    setPost(preArr, inArr, postArr, L1+1, index-L2+L1, L2, index-1, L3, index-L2+L3-1)\n",
    "    # 右子树(b)部分\n",
    "    setPost(preArr, inArr, postArr, index-L2+L1+1, R1, index+1, R2, index-L2+L3, R3-1)\n",
    "    "
   ]
  },
  {
   "cell_type": "markdown",
   "metadata": {},
   "source": [
    "### 测试"
   ]
  },
  {
   "cell_type": "code",
   "execution_count": 3,
   "metadata": {},
   "outputs": [
    {
     "name": "stdout",
     "output_type": "stream",
     "text": [
      "[4, 5, 2, 6, 7, 3, 1]\n"
     ]
    }
   ],
   "source": [
    "preArr = [1, 2, 4, 5, 3, 6, 7]\n",
    "inArr = [4, 2, 5, 1, 6, 3, 7]\n",
    "postArr = getPostOrder(preArr, inArr)\n",
    "print(postArr)"
   ]
  },
  {
   "cell_type": "code",
   "execution_count": null,
   "metadata": {},
   "outputs": [],
   "source": []
  }
 ],
 "metadata": {
  "kernelspec": {
   "display_name": "Python 3",
   "language": "python",
   "name": "python3"
  },
  "language_info": {
   "codemirror_mode": {
    "name": "ipython",
    "version": 3
   },
   "file_extension": ".py",
   "mimetype": "text/x-python",
   "name": "python",
   "nbconvert_exporter": "python",
   "pygments_lexer": "ipython3",
   "version": "3.7.6"
  }
 },
 "nbformat": 4,
 "nbformat_minor": 2
}
