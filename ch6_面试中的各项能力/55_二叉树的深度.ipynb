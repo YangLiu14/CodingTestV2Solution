{
 "cells": [
  {
   "cell_type": "markdown",
   "metadata": {},
   "source": [
    "## 55_二叉树的深度\n",
    "\n",
    "题目一：\n",
    "\n",
    "输入一个二叉树的根节点，求该树的深度。从根节点到叶节点依次经过的节点（含根，叶节点）形成树的一条路径，最长路径的长度为树的深度。\n",
    "<img src=\"images/img55.png\" style=\"width: 200px;\"/>\n",
    "\n",
    "\n",
    "### 分析\n",
    "Naive的方法是求出从顶端到每个leaf的所有路径，就能得到最长的路径。在34题“二叉树中和为某一值的路径”中，我们详细讨论了如何记录树中的路径。这种思路的代码量比较大。\n",
    "\n",
    "从递归的角度来理解树的深度。对只有一个节点的树，它的深度为1。如果根节点只有left没有right，那么它的深度为左子树的深度+1。（只有右子树同理）。如果左右都有，那么该树的深度是左右子树的深度的较大值+1。\n",
    "\n",
    "[//]: # (<img src=\"images/img123.png\" style=\"width: 500px;\"/>)"
   ]
  },
  {
   "cell_type": "code",
   "execution_count": 2,
   "metadata": {},
   "outputs": [],
   "source": [
    "class TreeNode:\n",
    "    def __init__(self, x):\n",
    "        self.val = x\n",
    "        self.left = None\n",
    "        self.right = None\n",
    "\n",
    "\n",
    "def tree_depth(root: TreeNode):\n",
    "    if root is None:\n",
    "        return 0\n",
    "    \n",
    "    n_left = tree_depth(root.left)\n",
    "    n_right = tree_depth(root.right)\n",
    "    \n",
    "    return n_left + 1 if n_left > n_right else n_right + 1"
   ]
  },
  {
   "cell_type": "code",
   "execution_count": 3,
   "metadata": {},
   "outputs": [
    {
     "name": "stdout",
     "output_type": "stream",
     "text": [
      "4\n"
     ]
    }
   ],
   "source": [
    "root1 = TreeNode(1)\n",
    "root1.left = TreeNode(2)\n",
    "root1.right = TreeNode(3)\n",
    "\n",
    "root1.left.left = TreeNode(4)\n",
    "root1.left.right = TreeNode(5)\n",
    "root1.left.right.right = TreeNode(7)\n",
    "\n",
    "root1.right.right = TreeNode(6)\n",
    "\n",
    "print(tree_depth(root1))"
   ]
  },
  {
   "cell_type": "markdown",
   "metadata": {},
   "source": [
    "### 题目二：平衡二叉树\n",
    "\n",
    "输入一棵二叉树的根节点，判断该树是不是平衡二叉树。如果某二叉树中任意节点的左，右子树的深度相差不超过1，那么它就是一棵平衡二叉树。例如题目一中的图6.2就是平衡二叉树。\n",
    "\n",
    "### 分析：\n",
    "Naive的方法：有了题目一的基础之后，我们很容易想到，在遍历树的每个节点的时候，调用函数tree_depth得到左右子树的深度。如果任意节点的左右子树的深度差不超过1，那么根据定义它就是一棵平衡二叉树。但是这种方法需要重复遍历节点多次"
   ]
  },
  {
   "cell_type": "code",
   "execution_count": 6,
   "metadata": {},
   "outputs": [
    {
     "name": "stdout",
     "output_type": "stream",
     "text": [
      "True\n"
     ]
    }
   ],
   "source": [
    "def is_balanced(root):\n",
    "    if root is None:\n",
    "        return True\n",
    "    \n",
    "    left = tree_depth(root.left)\n",
    "    right = tree_depth(root.right)\n",
    "    diff = left - right\n",
    "    if diff > 1 or diff < -1:\n",
    "        return False\n",
    "    \n",
    "    return is_balanced(root.left) and is_balanced(root.right)\n",
    "\n",
    "print(is_balanced(root1))"
   ]
  },
  {
   "cell_type": "markdown",
   "metadata": {},
   "source": [
    "### 每个节点只遍历一次的解法\n",
    "如果用**后序遍历**的方式遍历二叉树的每个节点，那么在遍历到一个节点之前我们就已经遍历了它的左右子树。只要在遍历每个节点的时候记录它的深度（某一节点的深度=它到leaf的路径的长度），我们就可以一边遍历，一边判断每个节点是不是平衡的。\n",
    "\n",
    "观察是如何在一个简单的后序遍历基础上发展成下面的算法的：\n",
    "```python\n",
    "seq = []\n",
    "def post_order_traverse(root: TreeNode):\n",
    "    if root.left is None and root.right is None:\n",
    "        seq.append(root.val)\n",
    "        return\n",
    "\n",
    "    # go all the way left\n",
    "    if root.left is not None:\n",
    "        post_order_traverse(root.left)\n",
    "\n",
    "    # go right\n",
    "    if root.right is not None:\n",
    "        post_order_traverse(root.right)\n",
    "\n",
    "    if root is not None:\n",
    "        seq.append(root.val)\n",
    "```"
   ]
  },
  {
   "cell_type": "code",
   "execution_count": 9,
   "metadata": {},
   "outputs": [],
   "source": [
    "class Solution:\n",
    "    def __init__(self):\n",
    "        self.seq = []\n",
    "\n",
    "    def post_order_traverse(self, root: TreeNode):\n",
    "        if root.left is None and root.right is None:\n",
    "            self.seq.append(root.val)\n",
    "            depth = 1\n",
    "            return True, depth\n",
    "\n",
    "        # go left all the way\n",
    "        if root.left is not None:\n",
    "            (left_ok, left) = self.post_order_traverse(root.left)\n",
    "        else:\n",
    "            left = 0\n",
    "            left_ok = True\n",
    "\n",
    "        # go right\n",
    "        if root.right is not None:\n",
    "            (right_ok, right) = self.post_order_traverse(root.right)\n",
    "        else:\n",
    "            right = 0\n",
    "            right_ok = True\n",
    "\n",
    "        if root is not None:\n",
    "            self.seq.append(root.val)\n",
    "            if left_ok and right_ok:\n",
    "                diff = abs(left - right)\n",
    "                if diff <= 1:\n",
    "                    depth = 1 + max(left, right)\n",
    "                    return True, depth\n",
    "        return False, 'unknown'"
   ]
  },
  {
   "cell_type": "markdown",
   "metadata": {},
   "source": [
    "### Test\n",
    "          1                      1\n",
    "        /   \\                   / \\  \n",
    "       2     3                 2   3\n",
    "      / \\     \\               / \\   \\\n",
    "     4   5     6             4   5   6\n",
    "        / \\                     / \\\n",
    "       7   8                   7   8\n",
    "                                    \\\n",
    "                                     9"
   ]
  },
  {
   "cell_type": "code",
   "execution_count": 10,
   "metadata": {},
   "outputs": [
    {
     "name": "stdout",
     "output_type": "stream",
     "text": [
      "[4, 7, 8, 5, 2, 6, 3, 1]\n",
      "is_balanced=True, max_depth=4\n",
      "[4, 7, 9, 8, 5, 2, 6, 3, 1]\n",
      "is_balanced=False, max_depth=unknown\n"
     ]
    }
   ],
   "source": [
    "root1 = TreeNode(1)\n",
    "root1.left = TreeNode(2)\n",
    "root1.right = TreeNode(3)\n",
    "\n",
    "root1.left.left = TreeNode(4)\n",
    "root1.left.right = TreeNode(5)\n",
    "\n",
    "root1.left.right.left = TreeNode(7)\n",
    "root1.left.right.right = TreeNode(8)\n",
    "\n",
    "root1.right.right = TreeNode(6)\n",
    "\n",
    "sol = Solution()\n",
    "result = sol.post_order_traverse(root1)\n",
    "print(sol.seq)\n",
    "print(\"is_balanced={}, max_depth={}\".format(result[0], result[1]))\n",
    "\n",
    "# ==============================\n",
    "root2 = TreeNode(1)\n",
    "root2.left = TreeNode(2)\n",
    "root2.right = TreeNode(3)\n",
    "\n",
    "root2.left.left = TreeNode(4)\n",
    "root2.left.right = TreeNode(5)\n",
    "\n",
    "root2.left.right.left = TreeNode(7)\n",
    "root2.left.right.right = TreeNode(8)\n",
    "root2.left.right.right.right = TreeNode(9)\n",
    "\n",
    "root2.right.right = TreeNode(6)\n",
    "\n",
    "sol = Solution()\n",
    "result = sol.post_order_traverse(root2)\n",
    "print(sol.seq)\n",
    "print(\"is_balanced={}, max_depth={}\".format(result[0], result[1]))"
   ]
  },
  {
   "cell_type": "code",
   "execution_count": null,
   "metadata": {},
   "outputs": [],
   "source": []
  }
 ],
 "metadata": {
  "kernelspec": {
   "display_name": "Python 3",
   "language": "python",
   "name": "python3"
  },
  "language_info": {
   "codemirror_mode": {
    "name": "ipython",
    "version": 3
   },
   "file_extension": ".py",
   "mimetype": "text/x-python",
   "name": "python",
   "nbconvert_exporter": "python",
   "pygments_lexer": "ipython3",
   "version": "3.7.3"
  }
 },
 "nbformat": 4,
 "nbformat_minor": 2
}
