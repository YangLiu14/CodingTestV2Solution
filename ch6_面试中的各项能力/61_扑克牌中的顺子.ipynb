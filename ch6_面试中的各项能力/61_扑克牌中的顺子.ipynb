{
 "cells": [
  {
   "cell_type": "markdown",
   "metadata": {},
   "source": [
    "## 61. 扑克牌中的顺子\n",
    "\n",
    "从扑克牌中随机抽5张牌，判断是不是一个顺子，即这5张牌是不是连续的。2～10为数字本身，A为1，J为11，Q为12，K为13，而大、小王可以看成任意数字。（输入的数组里，大小王用0表示）\n",
    "\n",
    "\n",
    "### 分析\n",
    "其实0就是万能数字，5个数字一个一个检查过去就好了\n",
    "\n",
    "[//]: # (<img src=\"images/img123.png\" style=\"width: 500px;\"/>)"
   ]
  },
  {
   "cell_type": "code",
   "execution_count": 2,
   "metadata": {},
   "outputs": [],
   "source": [
    "def is_continuous(numbers: list):\n",
    "    if numbers is None or len(numbers) != 5:\n",
    "        return False\n",
    "\n",
    "    numbers = sorted(numbers)\n",
    "\n",
    "    list_zeros = []\n",
    "    start = 0\n",
    "    # Store `0`s into a list, so that it can later be used to fill in missing numbers\n",
    "    for i in range(5):\n",
    "        if numbers[i] == 0:\n",
    "            list_zeros.append(0)\n",
    "            continue\n",
    "        else:\n",
    "            start = i\n",
    "            break\n",
    "    prev = numbers[start]\n",
    "\n",
    "    # start the actual checking\n",
    "    for i in range(start+1, 5):\n",
    "        # if the current is continuous to the prev\n",
    "        if numbers[i] == prev + 1:\n",
    "            prev = numbers[i]\n",
    "        else:\n",
    "            distance = numbers[i] - prev - 1\n",
    "            if distance < 1:\n",
    "                return False\n",
    "            for j in range(distance):\n",
    "                # try to use `0` to fill in\n",
    "                if len(list_zeros) > 0:\n",
    "                    list_zeros.pop()\n",
    "                else:\n",
    "                    return False\n",
    "            prev = numbers[i]\n",
    "    return True"
   ]
  },
  {
   "cell_type": "code",
   "execution_count": 3,
   "metadata": {},
   "outputs": [
    {
     "name": "stdout",
     "output_type": "stream",
     "text": [
      "True\n",
      "True\n",
      "False\n",
      "False\n"
     ]
    }
   ],
   "source": [
    "input = [0, 3, 2, 6, 4]  # ==> [2,3,4,0,6]\n",
    "print(is_continuous(input))\n",
    "input = [1, 3, 2, 5, 4]  # ==> [1,2,3,4,5]\n",
    "print(is_continuous(input))\n",
    "\n",
    "input = [1, 3, 0, 7, 0]\n",
    "print(is_continuous(input))\n",
    "\n",
    "input = [1, 0, 0, 1, 0]\n",
    "print(is_continuous(input))"
   ]
  }
 ],
 "metadata": {
  "kernelspec": {
   "display_name": "Python 3",
   "language": "python",
   "name": "python3"
  },
  "language_info": {
   "codemirror_mode": {
    "name": "ipython",
    "version": 3
   },
   "file_extension": ".py",
   "mimetype": "text/x-python",
   "name": "python",
   "nbconvert_exporter": "python",
   "pygments_lexer": "ipython3",
   "version": "3.7.3"
  }
 },
 "nbformat": 4,
 "nbformat_minor": 2
}
