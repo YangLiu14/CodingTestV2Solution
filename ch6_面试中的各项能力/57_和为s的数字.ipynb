{
 "cells": [
  {
   "cell_type": "markdown",
   "metadata": {},
   "source": [
    "## 57. 和为s的数字\n",
    "\n",
    "题目一：和为s的两个数字\n",
    "\n",
    "输入一个**递增排序**的数组和一个数字s，在数组中查找两个数，使得它们的和正好是s。如果有多对数字的和等于S，输出两个数的乘积最小的。\n",
    "\n",
    "例如，输入数组{1, 2, 4, 7, 11, 15}，输入s=15，则输出4和11.\n",
    "\n",
    "\n",
    "\n",
    "### 分析\n",
    "Naive的方法，固定一个数字，剩下的数字一个一个往后遍历，复杂度是$O(n^2)$\n",
    "\n",
    "以上面的数组为例，我们可以用两个指针，第一个指向开头的数字1，第二个指向最后的数字15。1+15=16 > 15，所以我们希望大一点的数字更小一点，于是移动右边的指针指向11。\n",
    "\n",
    "此时1+11 = 13 < 15，我们喜欢较小的数字更大的一点，所以移动左边的指针指向2. 以此类推。\n",
    "\n",
    "另外输出乘积最小的，其实就是输出最先碰到的满足的那对数字。\n",
    "\n",
    "[//]: # (<img src=\"images/img123.png\" style=\"width: 500px;\"/>)"
   ]
  },
  {
   "cell_type": "code",
   "execution_count": 3,
   "metadata": {},
   "outputs": [
    {
     "name": "stdout",
     "output_type": "stream",
     "text": [
      "(4, 11)\n"
     ]
    }
   ],
   "source": [
    "def FindNumbersWithSum(array, tsum):\n",
    "    # write code here\n",
    "    if array is None or array == []:\n",
    "        return []\n",
    "    left = 0\n",
    "    right = len(array) - 1\n",
    "    while left < right:\n",
    "        sum = array[left] + array[right]\n",
    "        if sum > tsum:\n",
    "            right -= 1\n",
    "        elif sum < tsum:\n",
    "            left += 1\n",
    "        else:\n",
    "            return (array[left], array[right])\n",
    "\n",
    "    return []\n",
    "\n",
    "test1 = [1, 2, 4, 7, 11, 15]\n",
    "print(FindNumbersWithSum(test1, 15))"
   ]
  },
  {
   "cell_type": "markdown",
   "metadata": {},
   "source": [
    "### 题目二：和为s的连续正数序列\n",
    "\n",
    "输入一个正数s，打印出所有和为s的连续正数序列（至少含有两个正数）。例如，输入15，由于1+2+3+4+5 = 4+5+6 = 7+8 = 15，所以打印出3个连续序列1～5、4～6、7～8\n",
    "\n",
    "### 分析：\n",
    "借鉴上题的思路，先让`left=1`，`right=2`，1+2 < 15, 增大right, `right <- 3`，一直增大right，直到找到第一个数组[1,2,3,4,5], 此时减小right的同时也增大left, `left=2`, `right=6`，2+3+4=9 < 15.\n",
    "\n",
    "继续增大right，直到 2+3+4+5+6=20 > 15，继续**减小right的同时也增大left** 这样会得到第二数组[4,5,6].\n",
    "\n",
    "这个时候要注意了，`right-left=6-4=2 < 3`，所以这个时候仅仅增大left，再继续以上步骤，得到[7,8]"
   ]
  },
  {
   "cell_type": "code",
   "execution_count": 4,
   "metadata": {},
   "outputs": [
    {
     "name": "stdout",
     "output_type": "stream",
     "text": [
      "[[1, 2, 3, 4, 5], [4, 5, 6], [7, 8]]\n",
      "[]\n",
      "[[4, 5, 6, 7, 8, 9, 10, 11, 12, 13, 14], [7, 8, 9, 10, 11, 12, 13, 14, 15], [14, 15, 16, 17, 18, 19], [32, 33, 34], [49, 50]]\n"
     ]
    }
   ],
   "source": [
    "def FindContinuousSequence(tsum):\n",
    "    if tsum is None or tsum < 3:\n",
    "        return []\n",
    "    left = 1\n",
    "    right = 2\n",
    "    result = []\n",
    "    while left < right and left <= (1+tsum)/2:\n",
    "        sum = 0\n",
    "        for i in range(left, right+1):\n",
    "            sum += i\n",
    "\n",
    "        if sum < tsum:\n",
    "            right += 1\n",
    "        elif sum > tsum:\n",
    "            if right - left > 2:\n",
    "                right -= 1\n",
    "            left += 1\n",
    "\n",
    "        else:\n",
    "            result.append((left, right))\n",
    "            left += 1\n",
    "    all_list = []\n",
    "    for item in result:\n",
    "        arr = []\n",
    "        for i in range(item[0], item[1] + 1):\n",
    "            arr.append(i)\n",
    "        all_list.append(arr)\n",
    "    return all_list\n",
    "\n",
    "# TEST\n",
    "print(FindContinuousSequence(15))\n",
    "print(FindContinuousSequence(16))\n",
    "print(FindContinuousSequence(99))"
   ]
  }
 ],
 "metadata": {
  "kernelspec": {
   "display_name": "Python 3",
   "language": "python",
   "name": "python3"
  },
  "language_info": {
   "codemirror_mode": {
    "name": "ipython",
    "version": 3
   },
   "file_extension": ".py",
   "mimetype": "text/x-python",
   "name": "python",
   "nbconvert_exporter": "python",
   "pygments_lexer": "ipython3",
   "version": "3.7.3"
  }
 },
 "nbformat": 4,
 "nbformat_minor": 2
}
