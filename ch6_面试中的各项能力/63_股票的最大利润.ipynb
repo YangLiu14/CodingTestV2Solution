{
 "cells": [
  {
   "cell_type": "markdown",
   "metadata": {},
   "source": [
    "## 63. 股票的最大利润\n",
    "\n",
    "假设把某股票的价格按照时间先后顺序存储在数组中，请问买卖该股票一次可能获得的最大利润是多少？例如，一只股票在某些时间节点的价格为[9,11,8,5,7,12,16,14]。如果我们能在价格为5的时候买入并在价格为16时卖出，则能收获最大的利润11.\n",
    "\n",
    "\n",
    "### 分析\n",
    "这个题目就是在找数组中所有数对的最大差值。\n",
    "\n",
    "定义函数$diff(i)$表示把第i个元素作为卖出价时，能获得的最大利润。也就是说，如果在扫描到数组中的第i个数字时，只要我们能够记住之前的i-1个数字中的最小值，就能算出“当前卖出价”下的最大利润。\n",
    "\n",
    "[//]: # (<img src=\"images/img123.png\" style=\"width: 500px;\"/>)"
   ]
  },
  {
   "cell_type": "code",
   "execution_count": 2,
   "metadata": {},
   "outputs": [],
   "source": [
    "def get_max_diff(numbers):\n",
    "    if numbers is None or len(numbers) < 2:\n",
    "        return 0\n",
    "\n",
    "    current_min = numbers[0]\n",
    "    max_diff = numbers[1] - current_min\n",
    "\n",
    "    for i in range(2, len(numbers)):\n",
    "        if numbers[i-1] < current_min:\n",
    "            current_min = numbers[i-1]\n",
    "\n",
    "        current_diff = numbers[i] - current_min\n",
    "        if current_diff > max_diff:\n",
    "            max_diff = current_diff\n",
    "\n",
    "    return max_diff"
   ]
  },
  {
   "cell_type": "markdown",
   "metadata": {},
   "source": [
    "上述代码中，变量current_min保存了数组前i-1个数字的最小值，也就是之前股票的最低价。\n",
    "\n",
    "由于我们只需要扫描数组一次，因此该算法的时间复杂度是$O(n)$，比蛮力解法的效率更高。"
   ]
  },
  {
   "cell_type": "code",
   "execution_count": 3,
   "metadata": {},
   "outputs": [
    {
     "name": "stdout",
     "output_type": "stream",
     "text": [
      "11\n"
     ]
    }
   ],
   "source": [
    "arr = [9, 11, 8, 5, 7, 12, 16, 14]\n",
    "print(get_max_diff(arr))"
   ]
  }
 ],
 "metadata": {
  "kernelspec": {
   "display_name": "Python 3",
   "language": "python",
   "name": "python3"
  },
  "language_info": {
   "codemirror_mode": {
    "name": "ipython",
    "version": 3
   },
   "file_extension": ".py",
   "mimetype": "text/x-python",
   "name": "python",
   "nbconvert_exporter": "python",
   "pygments_lexer": "ipython3",
   "version": "3.7.3"
  }
 },
 "nbformat": 4,
 "nbformat_minor": 2
}
