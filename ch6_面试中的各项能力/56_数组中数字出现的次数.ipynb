{
 "cells": [
  {
   "cell_type": "markdown",
   "metadata": {},
   "source": [
    "## 56_数组中数字出现的次数\n",
    "\n",
    "题目一：数组中只出现一次的两个数字。\n",
    "\n",
    "一个整型数组理除两个数字之外，其他数字都出现了两次。请写程序找出这两个只出现一次的数字。要求时间复杂度是$O(n)$，空间复杂度是$O(1)$\n",
    "\n",
    "例如，输入数组[2,4,3,6,3,2,5,5]，因为只有4和6这两个数字只出现了一次，其他数字都出现两次，所以输出4和6。\n",
    "\n",
    "\n",
    "### 分析\n",
    "其实用哈希表dictionary的方法很容易解决。不过还是来看看书中的思路。\n",
    "\n",
    "想到异或运算的一个性质：任何一个数字异或它自己都等于0，也就是说，如果我们从头到尾依次异或数组中的每个数字，那么最终的结果刚好是那个只出现一次的数字，因为那些成对出现两次的数字全部在异或中抵消了。\n",
    "\n",
    "我们把原数组分成两个子数组，使得每个子数组包含一个只出现一次的数字，而其他数字都成对出现两次，那么我们就可以按照前面的办法分别找到康哥只出现一次的数字了。\n",
    "\n",
    "举例，对数组[2,4,3,6,3,2,5,5]每个数字都进行异或运算：\n",
    "```\n",
    "0010  (2)\n",
    "0100  (4)\n",
    "0011  (3)\n",
    "0110  (6)\n",
    "0011  (3)\n",
    "0010  (2)\n",
    "0101  (5)\n",
    "0101  (5)\n",
    "----------------------\n",
    "0010\n",
    "```\n",
    "得到的最终二进制倒数第二位是1，于是我们根据数字的倒数第二位是不是1，将原数组分成两个子数组：[2,3,6,3,2]中所有数字的倒数第二位都是1，[4,5,5]中所有数字的倒数第二位都是0.\n",
    "接下俩只要分别对这两个子数组求异或，就能找打第一个子数组中只出现一次的数字是6，而第二个子数组中只出现一次的数字是4.\n",
    "\n",
    "当然了，有三个不同的数字的情况下要分成3个子数组，规律是，有几个不同的数字n，XOR操作出来的二进制数就有(n-1\n",
    ")个1.\n",
    "不过这道题限定了只有两个数字，所以暂时不用顾虑以上的事情。\n",
    "\n",
    "**Tipps:** 异或运算（0⊕0=0，1⊕0=1，0⊕1=1，1⊕1=0（同为0，异为1）)\n",
    "\n",
    "[//]: # (<img src=\"images/img123.png\" style=\"width: 500px;\"/>)"
   ]
  },
  {
   "cell_type": "code",
   "execution_count": 3,
   "metadata": {},
   "outputs": [
    {
     "name": "stdout",
     "output_type": "stream",
     "text": [
      "0b1010\n",
      "0b1111\n",
      "0b101\n"
     ]
    }
   ],
   "source": [
    "a = 10\n",
    "b = 15\n",
    "c = a ^ b\n",
    "print(bin(a))\n",
    "print(bin(b))\n",
    "print(bin(c))"
   ]
  },
  {
   "cell_type": "code",
   "execution_count": 27,
   "metadata": {},
   "outputs": [
    {
     "name": "stdout",
     "output_type": "stream",
     "text": [
      "(6, 4)\n"
     ]
    }
   ],
   "source": [
    "def first_nums_appear_once(data: list):\n",
    "    if data is None or len(data) < 2:\n",
    "        return\n",
    "    arr1 = list()\n",
    "    arr2 = list()\n",
    "    \n",
    "    # 得到原数组中所有数的xor\n",
    "    xor = 0\n",
    "    for num in data:\n",
    "        xor = xor ^ num\n",
    "    \n",
    "    xor = str(bin(xor))[2:]\n",
    "    rev_index_of_1 = find_first_bit1(xor)\n",
    "    \n",
    "    # 根据xor的倒数第一个‘1’的位置，将原数组分成两堆\n",
    "    # 分别对两个sub array里面的所有数字再进行XOR操作\n",
    "    result_num1 = 0\n",
    "    result_num2 = 0\n",
    "    for num in data:\n",
    "        bin_num_str = str(bin(num))[2:]\n",
    "        if bin_num_str[rev_index_of_1] == '1':\n",
    "            result_num1 = result_num1 ^ num\n",
    "        else:\n",
    "            result_num2 = result_num2 ^ num\n",
    "\n",
    "    return result_num1, result_num2\n",
    "\n",
    "def find_first_bit1(xor_result: str):\n",
    "    rev_index = -1\n",
    "    for char in reversed(xor_result):\n",
    "        if char == '1':\n",
    "            return rev_index\n",
    "        rev_index -= 1\n",
    "\n",
    "arr = [2,4,3,6,3,2,5,5]\n",
    "print(first_nums_appear_once(arr))"
   ]
  },
  {
   "cell_type": "markdown",
   "metadata": {},
   "source": [
    "### 题目二：数组中唯一只出现一次的数字\n",
    "\n",
    "在一个数组中除一个数字只出现一次之外，其他数字都出现了三次。请找出那个只出现一次的数字。\n",
    "\n",
    "### 分析：\n",
    "三个数字用XOR操作之后得到的数字还是自己，所以不能直接用上面的方法。但是我们还是可以用**位运算**的思路。\n",
    "\n",
    "如果一个数字出现三次，那么它的二进制表示的每一位(0或者1)也出现三次。如果把所有出现三次的数字的二进制表示的每一位都分别加起来，那么每一位的和都能被3整除。\n",
    "\n",
    "我们把数组中所有数字的二进制表示的每一位都加起来。如果某一位的和能被3整除，那么那个只出现一次的数字二进制表示中对应的那一位是0；否则就是1。"
   ]
  },
  {
   "cell_type": "code",
   "execution_count": null,
   "metadata": {},
   "outputs": [],
   "source": []
  }
 ],
 "metadata": {
  "kernelspec": {
   "display_name": "Python 3",
   "language": "python",
   "name": "python3"
  },
  "language_info": {
   "codemirror_mode": {
    "name": "ipython",
    "version": 3
   },
   "file_extension": ".py",
   "mimetype": "text/x-python",
   "name": "python",
   "nbconvert_exporter": "python",
   "pygments_lexer": "ipython3",
   "version": "3.7.3"
  }
 },
 "nbformat": 4,
 "nbformat_minor": 2
}
