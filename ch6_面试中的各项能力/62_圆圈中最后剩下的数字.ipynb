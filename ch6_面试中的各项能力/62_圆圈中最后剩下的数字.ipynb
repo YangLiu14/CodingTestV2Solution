{
 "cells": [
  {
   "cell_type": "markdown",
   "metadata": {},
   "source": [
    "## 62. 圆圈中最后剩下的数字\n",
    "\n",
    "0,1, ... ,n-1 这n个数字排成一个圆圈，从数字0开始，每次从这个圆圈里删除第m个数字。求出这个圆圈里剩下的最后一个数字.\n",
    "\n",
    "<img src=\"images/img62.png\" style=\"width: 500px;\"/>\n",
    "\n",
    "### 分析\n",
    "本题是著名的**约瑟夫环**的问题，有两种解法，一种是用环形链表模拟圆圈的经典解法；第二种是分析每次被删除的数字的规律并直接计算出圆圈中最后剩下的数字。\n",
    "\n",
    "[//]: # (<img src=\"images/img123.png\" style=\"width: 500px;\"/>)"
   ]
  },
  {
   "cell_type": "markdown",
   "metadata": {},
   "source": [
    "### 用环形链表模拟圆圈的经典解法\n",
    "可以创建一个共有n个节点的环形链表，然后每次在这个链表中删除第m个节点。当然除了链表我们也可以直接用数组代替。对于\n",
    "举例：\n",
    "[0,1,2,3,4,5,6,7,8,9]  `m=7`\n",
    "- 第一步删除6，下一步从数字7开始计算，所以我们重构一下数组，变成[7,8,9,0,1,2,3,4,5]\n",
    "- 第二步删除3，变成[4,5,7,8,9,0,1,2]\n",
    "- 第三步删除1，变成[2,4,5,7,8,9,0]\n",
    "- 第四步删除0，变成[2,4,5,7,8,9]\n",
    "\n",
    "此时`length`小于`m=7`了，计算一下`diff=7-6=1`: \n",
    "- 删除2，变成[4,5,7,8,9]\n",
    "- `diff=7-5=2`，删除`index=(diff-1)=1`，数字5，变成[7,8,9,4]\n",
    "- `diff=7-4=3`，删除`index=(diff-1)=2`，数字9，变成[4,7,8]\n",
    "- `diff=7-3=4`,此时`diff > 3`,继续减, `diff=diff-3=1`, 删除`index=(diff-1)=0`,数字4，变成[7,8]\n",
    "- `diff=7-2=5`,此时`diff > 3`,继续减, `diff=diff-3=2`, 删除`index=(diff-1)=1`,数字7，变成[8]\n",
    "\n",
    "最后输出8\n",
    "\n",
    "缺点是，需要在环形链表里重复遍历很多遍：每删除一个数字需要m步运算，共有n个数字，因此总的时间复杂度是`O(mn)`"
   ]
  },
  {
   "cell_type": "code",
   "execution_count": 4,
   "metadata": {},
   "outputs": [],
   "source": [
    "def circle_last_remaining(n, m):\n",
    "    # write code here\n",
    "    if n <= 0 or m <= 0:\n",
    "        return -1\n",
    "    nums = [i for i in range(n)]\n",
    "\n",
    "    while len(nums) > 1:\n",
    "        if len(nums) > m:\n",
    "            nums = nums[m:] + nums[:m-1]\n",
    "        elif len(nums) == m:\n",
    "            nums = nums[:-1]\n",
    "        elif len(nums) < m:\n",
    "            diff = m - len(nums)\n",
    "            while diff > len(nums):\n",
    "                diff = diff - len(nums)\n",
    "            if diff - 1 == 0:\n",
    "                nums = nums[1:]\n",
    "            else:\n",
    "                nums = nums[diff:] + nums[:diff-1]\n",
    "\n",
    "    return nums[0]"
   ]
  },
  {
   "cell_type": "code",
   "execution_count": 7,
   "metadata": {},
   "outputs": [
    {
     "name": "stdout",
     "output_type": "stream",
     "text": [
      "3\n",
      "4\n",
      "8\n",
      "-1\n"
     ]
    }
   ],
   "source": [
    "print(circle_last_remaining(5,3))\n",
    "print(circle_last_remaining(7,7))\n",
    "print(circle_last_remaining(10,7))\n",
    "print(circle_last_remaining(0,0))"
   ]
  },
  {
   "cell_type": "code",
   "execution_count": null,
   "metadata": {},
   "outputs": [],
   "source": []
  }
 ],
 "metadata": {
  "kernelspec": {
   "display_name": "Python 3",
   "language": "python",
   "name": "python3"
  },
  "language_info": {
   "codemirror_mode": {
    "name": "ipython",
    "version": 3
   },
   "file_extension": ".py",
   "mimetype": "text/x-python",
   "name": "python",
   "nbconvert_exporter": "python",
   "pygments_lexer": "ipython3",
   "version": "3.7.3"
  }
 },
 "nbformat": 4,
 "nbformat_minor": 2
}
