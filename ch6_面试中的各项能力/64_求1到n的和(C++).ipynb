{
 "cells": [
  {
   "cell_type": "markdown",
   "metadata": {},
   "source": [
    "# 64. 求1+2+ ... +n\n",
    "求1+2+...+n，要求不能使用乘除法，for, while, if..else, switch...case等关键字及条件判断语句(A?B:C)\n",
    "\n",
    "### 解法一：利用构造函数求解 (C++)\n",
    "循环只是让相同的代码重复执行n遍，我们完全可以不用for和while达到这个效果。比如我们先定义一个类型，接着创建n个该类型的实例，那么这个类型的构造函数将确定会被调用n次。我们可以将与累加相关的代码放到构造函数里。"
   ]
  },
  {
   "cell_type": "code",
   "execution_count": 2,
   "metadata": {},
   "outputs": [
    {
     "name": "stderr",
     "output_type": "stream",
     "text": [
      "\u001b[1minput_line_10:16:1: \u001b[0m\u001b[0;1;31merror: \u001b[0m\u001b[1mfunction definition is not allowed here\u001b[0m\n",
      "{\n",
      "\u001b[0;1;32m^\n",
      "\u001b[0m"
     ]
    },
    {
     "ename": "Interpreter Error",
     "evalue": "",
     "output_type": "error",
     "traceback": [
      "Interpreter Error: "
     ]
    }
   ],
   "source": [
    "#include <iostream>\n",
    "// using namespace std;\n",
    "\n",
    "static unsigned int N = 0;\n",
    "static unsigned int Sum = 0;\n",
    "\n",
    "class Temp {\n",
    "public:\n",
    "    \n",
    "    Temp() {++N; Sum += N;}\n",
    "\n",
    "    static void Reset() { N = 0; Sum = 0; }\n",
    "    static unsigned int GetSum() { return Sum;}\n",
    "\n",
    "//private:\n",
    "};\n",
    "\n",
    "// unsigned int Temp::N = 0;\n",
    "// unsigned int Temp::Sum = 0;\n",
    "\n",
    "auto Sum_Solution1(unsigned int n) \n",
    "{\n",
    "    Temp::Reset();\n",
    "    \n",
    "    Temp *a = new Temp[n];\n",
    "    delete []a;\n",
    "    a = nullptr;\n",
    "    \n",
    "    return Temp::GetSum();\n",
    "}"
   ]
  },
  {
   "cell_type": "code",
   "execution_count": 17,
   "metadata": {},
   "outputs": [
    {
     "name": "stderr",
     "output_type": "stream",
     "text": [
      "\u001b[1minput_line_36:3:1: \u001b[0m\u001b[0;1;31merror: \u001b[0m\u001b[1mfunction definition is not allowed here\u001b[0m\n",
      "{\n",
      "\u001b[0;1;32m^\n",
      "\u001b[0m"
     ]
    },
    {
     "ename": "Interpreter Error",
     "evalue": "",
     "output_type": "error",
     "traceback": [
      "Interpreter Error: "
     ]
    }
   ],
   "source": []
  },
  {
   "cell_type": "code",
   "execution_count": null,
   "metadata": {},
   "outputs": [],
   "source": []
  }
 ],
 "metadata": {
  "kernelspec": {
   "display_name": "C++11",
   "language": "C++11",
   "name": "xcpp11"
  },
  "language_info": {
   "codemirror_mode": "text/x-c++src",
   "file_extension": ".cpp",
   "mimetype": "text/x-c++src",
   "name": "c++",
   "version": "-std=c++11"
  }
 },
 "nbformat": 4,
 "nbformat_minor": 2
}
