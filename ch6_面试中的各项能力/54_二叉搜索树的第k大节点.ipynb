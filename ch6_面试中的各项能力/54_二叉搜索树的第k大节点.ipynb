{
 "cells": [
  {
   "cell_type": "markdown",
   "metadata": {},
   "source": [
    "## 54. 二叉搜索树的第k大节点\n",
    "\n",
    "给定一颗二叉搜索树，请找出其中第k大的节点。例如，下图中的二叉搜索树里，按节点数值大小顺序，第三大节点的值是4。\n",
    "<img src=\"images/img54.png\" style=\"width: 100px;\"/>\n",
    "\n",
    "\n",
    "### 分析\n",
    "按照**中序遍历**（左-root-右）得到的遍历序列的数值是递增排序：[2, 3, 4, 5, 6, 7, 8]。因此用中序遍历走一遍很容易找到第k大的节点。\n",
    "\n",
    "[//]: # (<img src=\"images/img123.png\" style=\"width: 500px;\"/>)"
   ]
  },
  {
   "cell_type": "code",
   "execution_count": 28,
   "metadata": {},
   "outputs": [],
   "source": [
    "class TreeNode:\n",
    "    def __init__(self, x):\n",
    "        self.val = x\n",
    "        self.left = None\n",
    "        self.right = None\n",
    "\n",
    "\n",
    "class Solution:\n",
    "    def __init__(self, k):\n",
    "        self.k = k\n",
    "        \n",
    "    def kth_node(self, root: TreeNode):\n",
    "        if root is None or self.k == 0:\n",
    "            return None\n",
    "\n",
    "        return self.kth_node_core(root)\n",
    "\n",
    "\n",
    "    def kth_node_core(self, root: TreeNode):\n",
    "        target = None\n",
    "\n",
    "        # go all the way left until reach a leaf node\n",
    "        if root.left is not None:\n",
    "            target = self.kth_node_core(root.left)\n",
    "\n",
    "        if target is None:\n",
    "            if self.k == 1:\n",
    "                target = root\n",
    "            self.k -= 1\n",
    "\n",
    "        if target is None and root.right is not None:\n",
    "            target = self.kth_node_core(root.right)\n",
    "\n",
    "        return target"
   ]
  },
  {
   "cell_type": "code",
   "execution_count": 29,
   "metadata": {},
   "outputs": [
    {
     "name": "stdout",
     "output_type": "stream",
     "text": [
      "2\n",
      "3\n",
      "4\n",
      "5\n",
      "6\n",
      "7\n",
      "8\n"
     ]
    }
   ],
   "source": [
    "root1 = TreeNode(5)\n",
    "root1.left = TreeNode(3)\n",
    "root1.right = TreeNode(7)\n",
    "\n",
    "root1.left.left = TreeNode(2)\n",
    "root1.left.right = TreeNode(4)\n",
    "\n",
    "root1.right.left = TreeNode(6)\n",
    "root1.right.right = TreeNode(8)\n",
    "\n",
    "for i in range(1,8):\n",
    "    solution = Solution(i)\n",
    "    target_node = solution.kth_node(root1)\n",
    "    print(target_node.val)\n"
   ]
  },
  {
   "cell_type": "markdown",
   "metadata": {},
   "source": [
    "### 我的解法"
   ]
  },
  {
   "cell_type": "code",
   "execution_count": 26,
   "metadata": {},
   "outputs": [],
   "source": [
    "class Solution:\n",
    "    def __init__(self, k):\n",
    "        self.k = k\n",
    "        self.seq = []\n",
    "        self.target = None\n",
    "\n",
    "    def in_order_traverse(self, root: TreeNode):\n",
    "        if self.target is not None:\n",
    "            return\n",
    "\n",
    "        if root.left is None and root.right is None:\n",
    "            # leaf node\n",
    "            self.seq.append(root.val)\n",
    "            self.k -= 1\n",
    "\n",
    "            if self.k == 0:\n",
    "                self.target = root\n",
    "\n",
    "            return\n",
    "\n",
    "        # go all the way left\n",
    "        if root.left is not None:\n",
    "            self.in_order_traverse(root.left)\n",
    "        # The function above returned, now we are in the parent node, append the value\n",
    "\n",
    "        if root is not None:\n",
    "            self.k -= 1\n",
    "            self.seq.append(root.val)\n",
    "\n",
    "        if self.k == 0:\n",
    "            self.target = root\n",
    "\n",
    "        # After store the parant node, go right\n",
    "        if root.right is not None:\n",
    "            # then inside this branch, you will go all the way left again.\n",
    "            self.in_order_traverse(root.right)"
   ]
  },
  {
   "cell_type": "code",
   "execution_count": 27,
   "metadata": {},
   "outputs": [
    {
     "name": "stdout",
     "output_type": "stream",
     "text": [
      "[2, 3, 5]\n",
      "2\n",
      "[2, 3, 5]\n",
      "3\n",
      "[2, 3, 4, 5]\n",
      "4\n",
      "[2, 3, 4, 5]\n",
      "5\n",
      "[2, 3, 4, 5, 6, 7]\n",
      "6\n",
      "[2, 3, 4, 5, 6, 7]\n",
      "7\n",
      "[2, 3, 4, 5, 6, 7, 8]\n",
      "8\n"
     ]
    }
   ],
   "source": [
    "root1 = TreeNode(5)\n",
    "root1.left = TreeNode(3)\n",
    "root1.right = TreeNode(7)\n",
    "\n",
    "root1.left.left = TreeNode(2)\n",
    "root1.left.right = TreeNode(4)\n",
    "\n",
    "root1.right.left = TreeNode(6)\n",
    "root1.right.right = TreeNode(8)\n",
    "\n",
    "\n",
    "for i in range(1,8):\n",
    "    solution = Solution(i)\n",
    "    solution.in_order_traverse(root1)\n",
    "    print(solution.seq)\n",
    "    print(solution.target.val)\n",
    "\n"
   ]
  }
 ],
 "metadata": {
  "kernelspec": {
   "display_name": "Python 3",
   "language": "python",
   "name": "python3"
  },
  "language_info": {
   "codemirror_mode": {
    "name": "ipython",
    "version": 3
   },
   "file_extension": ".py",
   "mimetype": "text/x-python",
   "name": "python",
   "nbconvert_exporter": "python",
   "pygments_lexer": "ipython3",
   "version": "3.7.3"
  }
 },
 "nbformat": 4,
 "nbformat_minor": 2
}
