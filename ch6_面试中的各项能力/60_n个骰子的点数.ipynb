{
 "cells": [
  {
   "cell_type": "markdown",
   "metadata": {},
   "source": [
    "## 60. n个骰子的点数\n",
    "\n",
    "把n个骰子扔在地上，所有骰子朝上一面的点数之和为s。输入n，打印出s的所有可能的值出现的概率。\n",
    "\n",
    "\n",
    "### 分析\n",
    "n个骰子的点数和的最小值为n，最大值为6n。根据排列组合知识，我们还知道n个骰子的所有点数的排列数为$6^n$。要解决这个问题，我们需要先统计出每个点数出现的次数，然后把每个点出现的次数除以$6^n$，就能求出每个点数出现的概率。\n",
    "\n",
    "[//]: # (<img src=\"images/img123.png\" style=\"width: 500px;\"/>)"
   ]
  },
  {
   "cell_type": "markdown",
   "metadata": {},
   "source": [
    "### 解法一：基于递归求骰子点数，时间效率不够高\n",
    "考虑如何统计每个点数出现的次数。要想求出n个骰子的点数和，可以先把n个骰子分为两堆：第一堆只有一个；另一堆有n-1个。单独的那一个有可能出现1～6的点数。我们需要计算1～6的每一种点数和剩下的n-1个骰子来计算点数和。\n",
    "\n",
    "接下来把n-1个骰子仍然分成两堆：第一堆只有一个；第二堆有n-2个。我们把上一轮那个**单独骰子**的点数和这一轮**单独骰子**的点数相加，再和剩下的n-2个骰子来计算点数和。\n",
    "\n",
    "递归结束的条件就是最后只剩下一个骰子。\n",
    "\n",
    "我们可以定义一个长度为`6n-n+1`的数组，将和为s的点数出现的次数保存到数组的第`s-n`个元素里。"
   ]
  },
  {
   "cell_type": "code",
   "execution_count": 7,
   "metadata": {},
   "outputs": [],
   "source": [
    "def print_prob(number: int):\n",
    "    if number < 1:\n",
    "        return\n",
    "\n",
    "    max_sum = number * 6\n",
    "    probs = [0]*(6*number - number + 1)\n",
    "\n",
    "    # fill the probs with count of appearance-time for each sum\n",
    "    probability(number, probs)\n",
    "\n",
    "    total = 6 ** number\n",
    "    #   i in n ~ 6n\n",
    "    for i in range(number, max_sum+1):\n",
    "        ratio = probs[i - number] / total\n",
    "        print(\"sum: {}, prob: {}\".format(i, ratio))\n",
    "\n",
    "    print(\"count of each sum: {}\".format(probs))\n",
    "\n",
    "def probability(number: int, probs: list):\n",
    "    for i in range(1, 7):\n",
    "        probability_recursive(number, number, i, probs)\n",
    "\n",
    "\n",
    "def probability_recursive(orginal: int, current: int, sum: int, probs: list):\n",
    "    if current == 1:\n",
    "        probs[sum - orginal] += 1\n",
    "    else:\n",
    "        for i in range(1, 7):\n",
    "            probability_recursive(orginal, current-1, i+sum, probs)"
   ]
  },
  {
   "cell_type": "code",
   "execution_count": 8,
   "metadata": {},
   "outputs": [
    {
     "name": "stdout",
     "output_type": "stream",
     "text": [
      "sum: 1, prob: 0.16666666666666666\n",
      "sum: 2, prob: 0.16666666666666666\n",
      "sum: 3, prob: 0.16666666666666666\n",
      "sum: 4, prob: 0.16666666666666666\n",
      "sum: 5, prob: 0.16666666666666666\n",
      "sum: 6, prob: 0.16666666666666666\n",
      "count of each sum: [1, 1, 1, 1, 1, 1]\n"
     ]
    }
   ],
   "source": [
    "print_prob(1)"
   ]
  },
  {
   "cell_type": "code",
   "execution_count": 9,
   "metadata": {},
   "outputs": [
    {
     "name": "stdout",
     "output_type": "stream",
     "text": [
      "sum: 2, prob: 0.027777777777777776\n",
      "sum: 3, prob: 0.05555555555555555\n",
      "sum: 4, prob: 0.08333333333333333\n",
      "sum: 5, prob: 0.1111111111111111\n",
      "sum: 6, prob: 0.1388888888888889\n",
      "sum: 7, prob: 0.16666666666666666\n",
      "sum: 8, prob: 0.1388888888888889\n",
      "sum: 9, prob: 0.1111111111111111\n",
      "sum: 10, prob: 0.08333333333333333\n",
      "sum: 11, prob: 0.05555555555555555\n",
      "sum: 12, prob: 0.027777777777777776\n",
      "count of each sum: [1, 2, 3, 4, 5, 6, 5, 4, 3, 2, 1]\n"
     ]
    }
   ],
   "source": [
    "print_prob(2)"
   ]
  },
  {
   "cell_type": "code",
   "execution_count": 10,
   "metadata": {},
   "outputs": [
    {
     "name": "stdout",
     "output_type": "stream",
     "text": [
      "sum: 3, prob: 0.004629629629629629\n",
      "sum: 4, prob: 0.013888888888888888\n",
      "sum: 5, prob: 0.027777777777777776\n",
      "sum: 6, prob: 0.046296296296296294\n",
      "sum: 7, prob: 0.06944444444444445\n",
      "sum: 8, prob: 0.09722222222222222\n",
      "sum: 9, prob: 0.11574074074074074\n",
      "sum: 10, prob: 0.125\n",
      "sum: 11, prob: 0.125\n",
      "sum: 12, prob: 0.11574074074074074\n",
      "sum: 13, prob: 0.09722222222222222\n",
      "sum: 14, prob: 0.06944444444444445\n",
      "sum: 15, prob: 0.046296296296296294\n",
      "sum: 16, prob: 0.027777777777777776\n",
      "sum: 17, prob: 0.013888888888888888\n",
      "sum: 18, prob: 0.004629629629629629\n",
      "count of each sum: [1, 3, 6, 10, 15, 21, 25, 27, 27, 25, 21, 15, 10, 6, 3, 1]\n"
     ]
    }
   ],
   "source": [
    "print_prob(3)"
   ]
  },
  {
   "cell_type": "markdown",
   "metadata": {},
   "source": [
    "### 解法二：基于循环求骰子点数，时间性能好\n",
    "可以考虑用两个数组来存储骰子点数的每个总数出现的次数。\n",
    "\n",
    "在一轮循环中，第一个数组中的第n个数字表示骰子和为n出现的次数。\n",
    "\n",
    "在下一轮循环中，我们加上一个新的骰子，此时和为n的骰子出现的次数应该等于上一轮循环中骰子点数和为 n-1, n-2, n-3, n-4, n-5, n-6的**次数的总和**，所以我们把另一个数组的第n个数字设为前一个数组对应的第n-1, n-2, n-3, n-4, n-5, n-6个数字之和。"
   ]
  },
  {
   "cell_type": "code",
   "execution_count": 11,
   "metadata": {},
   "outputs": [],
   "source": [
    "def print_prob(number: int):\n",
    "    if number < 1:\n",
    "        return\n",
    "\n",
    "    probs = []\n",
    "    probs.append([0] * (6 * number + 1))\n",
    "    probs.append([0] * (6 * number + 1))\n",
    "\n",
    "    flag = 0\n",
    "    for i in range(1, 7):\n",
    "        probs[flag][i] = 1\n",
    "\n",
    "    for k in range(2, number+1):\n",
    "        for i in range(k):\n",
    "            probs[1 - flag][i] = 0\n",
    "\n",
    "        for i in range(k, 6 * k + 1):\n",
    "            probs[1 - flag][i] = 0\n",
    "            for j in range(1, min(i, 6)+1):\n",
    "                probs[1 - flag][i] += probs[flag][i - j]\n",
    "\n",
    "        flag = 1 - flag\n",
    "\n",
    "    total = 6 ** number\n",
    "    for i in range(number, 6 * number + 1):\n",
    "        ratio = probs[flag][i] / total\n",
    "        print(\"sum: {}, prob: {}\".format(i, ratio))\n",
    "\n",
    "    print(probs[flag][number:])"
   ]
  },
  {
   "cell_type": "code",
   "execution_count": 12,
   "metadata": {},
   "outputs": [
    {
     "name": "stdout",
     "output_type": "stream",
     "text": [
      "sum: 1, prob: 0.16666666666666666\n",
      "sum: 2, prob: 0.16666666666666666\n",
      "sum: 3, prob: 0.16666666666666666\n",
      "sum: 4, prob: 0.16666666666666666\n",
      "sum: 5, prob: 0.16666666666666666\n",
      "sum: 6, prob: 0.16666666666666666\n",
      "[1, 1, 1, 1, 1, 1]\n"
     ]
    }
   ],
   "source": [
    "print_prob(1)"
   ]
  },
  {
   "cell_type": "code",
   "execution_count": 13,
   "metadata": {},
   "outputs": [
    {
     "name": "stdout",
     "output_type": "stream",
     "text": [
      "sum: 2, prob: 0.027777777777777776\n",
      "sum: 3, prob: 0.05555555555555555\n",
      "sum: 4, prob: 0.08333333333333333\n",
      "sum: 5, prob: 0.1111111111111111\n",
      "sum: 6, prob: 0.1388888888888889\n",
      "sum: 7, prob: 0.16666666666666666\n",
      "sum: 8, prob: 0.1388888888888889\n",
      "sum: 9, prob: 0.1111111111111111\n",
      "sum: 10, prob: 0.08333333333333333\n",
      "sum: 11, prob: 0.05555555555555555\n",
      "sum: 12, prob: 0.027777777777777776\n",
      "[1, 2, 3, 4, 5, 6, 5, 4, 3, 2, 1]\n"
     ]
    }
   ],
   "source": [
    "print_prob(2)"
   ]
  },
  {
   "cell_type": "code",
   "execution_count": 14,
   "metadata": {},
   "outputs": [
    {
     "name": "stdout",
     "output_type": "stream",
     "text": [
      "sum: 3, prob: 0.004629629629629629\n",
      "sum: 4, prob: 0.013888888888888888\n",
      "sum: 5, prob: 0.027777777777777776\n",
      "sum: 6, prob: 0.046296296296296294\n",
      "sum: 7, prob: 0.06944444444444445\n",
      "sum: 8, prob: 0.09722222222222222\n",
      "sum: 9, prob: 0.11574074074074074\n",
      "sum: 10, prob: 0.125\n",
      "sum: 11, prob: 0.125\n",
      "sum: 12, prob: 0.11574074074074074\n",
      "sum: 13, prob: 0.09722222222222222\n",
      "sum: 14, prob: 0.06944444444444445\n",
      "sum: 15, prob: 0.046296296296296294\n",
      "sum: 16, prob: 0.027777777777777776\n",
      "sum: 17, prob: 0.013888888888888888\n",
      "sum: 18, prob: 0.004629629629629629\n",
      "[1, 3, 6, 10, 15, 21, 25, 27, 27, 25, 21, 15, 10, 6, 3, 1]\n"
     ]
    }
   ],
   "source": [
    "print_prob(3)"
   ]
  },
  {
   "cell_type": "code",
   "execution_count": null,
   "metadata": {},
   "outputs": [],
   "source": []
  }
 ],
 "metadata": {
  "kernelspec": {
   "display_name": "Python 3",
   "language": "python",
   "name": "python3"
  },
  "language_info": {
   "codemirror_mode": {
    "name": "ipython",
    "version": 3
   },
   "file_extension": ".py",
   "mimetype": "text/x-python",
   "name": "python",
   "nbconvert_exporter": "python",
   "pygments_lexer": "ipython3",
   "version": "3.7.3"
  }
 },
 "nbformat": 4,
 "nbformat_minor": 2
}
